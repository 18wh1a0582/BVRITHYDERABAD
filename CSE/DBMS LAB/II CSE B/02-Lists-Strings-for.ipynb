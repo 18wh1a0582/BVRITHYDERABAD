{
 "cells": [
  {
   "cell_type": "markdown",
   "metadata": {
    "colab_type": "text",
    "id": "PjerStuq6R2n"
   },
   "source": [
    "# Python Quickstart\n",
    "#### Lists and strings\n",
    "#### for\n",
    "Lists are the simplest containers that are an integral part of the Python language. **for** loops are the standard way to iterate over all types of containers; so we will look at both of them together."
   ]
  },
  {
   "cell_type": "code",
   "execution_count": null,
   "metadata": {},
   "outputs": [],
   "source": [
    "for variable in sequence:\n",
    "    statements block\n",
    "    "
   ]
  },
  {
   "cell_type": "code",
   "execution_count": 1,
   "metadata": {},
   "outputs": [
    {
     "name": "stdout",
     "output_type": "stream",
     "text": [
      "1\n",
      "2\n",
      "3\n",
      "4\n",
      "5\n"
     ]
    }
   ],
   "source": [
    "for code in [1,2,3,4,5] :\n",
    "    print(code)"
   ]
  },
  {
   "cell_type": "code",
   "execution_count": null,
   "metadata": {},
   "outputs": [],
   "source": [
    "range(stop)\n",
    "range([start],stop[,step])"
   ]
  },
  {
   "cell_type": "code",
   "execution_count": 6,
   "metadata": {},
   "outputs": [
    {
     "data": {
      "text/plain": [
       "[0, 1, 2, 3, 4]"
      ]
     },
     "execution_count": 6,
     "metadata": {},
     "output_type": "execute_result"
    }
   ],
   "source": [
    "list(range(5))\n",
    "#list(range(1,15))\n",
    "#list(range(15,1,-1))\n",
    "#list(range(-10,-1,2))"
   ]
  },
  {
   "cell_type": "markdown",
   "metadata": {},
   "source": [
    "**print all even numbers in a given range**\n",
    "**print all palindrome numbers with in the given range**"
   ]
  },
  {
   "cell_type": "markdown",
   "metadata": {
    "colab_type": "text",
    "id": "TcAdxy7dW6Wc"
   },
   "source": [
    "#### strings\n",
    "Python strings can be enlosed in single quotes or double quotes or triple quotes! Let us look at each of them"
   ]
  },
  {
   "cell_type": "code",
   "execution_count": null,
   "metadata": {},
   "outputs": [],
   "source": []
  },
  {
   "cell_type": "code",
   "execution_count": 7,
   "metadata": {
    "colab": {},
    "colab_type": "code",
    "id": "Sw7fMNEOW9bi"
   },
   "outputs": [
    {
     "name": "stdout",
     "output_type": "stream",
     "text": [
      "Tests, Quizzes, Individual Labs, Group Labs and Hackathons\n"
     ]
    }
   ],
   "source": [
    "grading = \"Tests, Quizzes, Individual Labs, Group Labs and Hackathons\"\n",
    "print(grading)"
   ]
  },
  {
   "cell_type": "code",
   "execution_count": 8,
   "metadata": {
    "colab": {},
    "colab_type": "code",
    "id": "so4ipaxUXMPS"
   },
   "outputs": [
    {
     "name": "stdout",
     "output_type": "stream",
     "text": [
      "CFU's, Analytical, References and Comprehension\n"
     ]
    }
   ],
   "source": [
    "tests = \"CFU's, Analytical, References and Comprehension\"\n",
    "print(tests)"
   ]
  },
  {
   "cell_type": "markdown",
   "metadata": {
    "colab_type": "text",
    "id": "3gTJCEKqXox4"
   },
   "source": [
    "Note how in the string *tests* the single quote is accepted as part of the string without any special escpae mechanism. Similarly we can create and use strings with double quotes inside by enclosing the whole string in single quotes. Here is an example."
   ]
  },
  {
   "cell_type": "code",
   "execution_count": 9,
   "metadata": {
    "colab": {},
    "colab_type": "code",
    "id": "28eCGUkJXoY2"
   },
   "outputs": [
    {
     "name": "stdout",
     "output_type": "stream",
     "text": [
      "Almost all ask \"What is the best k?\" when doing kNN\n"
     ]
    }
   ],
   "source": [
    "faq = 'Almost all ask \"What is the best k?\" when doing kNN'\n",
    "print(faq)"
   ]
  },
  {
   "cell_type": "markdown",
   "metadata": {
    "colab_type": "text",
    "id": "T9e3wDov6R3M"
   },
   "source": [
    "Triple quoted strings are best used for documentation. They are also useful for storing long strings.\n",
    " * We can use single or double quotes\n",
    " * We can also use single quotes or double quotes within\n",
    " * The line breaks etc are captured; that is there is no need for \\n"
   ]
  },
  {
   "cell_type": "code",
   "execution_count": 11,
   "metadata": {
    "colab": {},
    "colab_type": "code",
    "id": "gHz79V3G6R3P"
   },
   "outputs": [
    {
     "ename": "SyntaxError",
     "evalue": "EOL while scanning string literal (<ipython-input-11-ab132e015eb7>, line 1)",
     "output_type": "error",
     "traceback": [
      "\u001b[0;36m  File \u001b[0;32m\"<ipython-input-11-ab132e015eb7>\"\u001b[0;36m, line \u001b[0;32m1\u001b[0m\n\u001b[0;31m    story = \"A long time ago, in a galaxy far far away ...\u001b[0m\n\u001b[0m                                                          ^\u001b[0m\n\u001b[0;31mSyntaxError\u001b[0m\u001b[0;31m:\u001b[0m EOL while scanning string literal\n"
     ]
    }
   ],
   "source": [
    "story = \"\"\"A long time ago, in a galaxy far far away ...\n",
    "\n",
    "It is a period of civil war. Rebel spaceships, striking \n",
    "from a hidden base, have won their first victory against \n",
    "the evil Galactic Empire.\n",
    "\n",
    "During the battle, Rebel spies managed to steal secret \n",
    "plans to the Empire's ultimate weapon, the DEATH STAR, \n",
    "an armored space station with enough power to destroy an entire planet.\n",
    "\n",
    "Pursued by the Empire's sinister agents, Princess Leia \n",
    "races home aboard her starship, custodian of the stolen \n",
    "plans that can save her people and restore freedom to the galaxy....\"\"\"\n",
    "print(story)"
   ]
  },
  {
   "cell_type": "markdown",
   "metadata": {
    "colab_type": "text",
    "id": "YEXtThZIX0SA"
   },
   "source": [
    "##### Simple string operations\n",
    " * Concatnate by +, \n",
    " * multiple concatenation by * \n",
    " * check for substring with **in**\n",
    " * determine the size (number of characters) using *len*"
   ]
  },
  {
   "cell_type": "code",
   "execution_count": 13,
   "metadata": {
    "colab": {},
    "colab_type": "code",
    "id": "Bin4e9DD6R3Y"
   },
   "outputs": [
    {
     "name": "stdout",
     "output_type": "stream",
     "text": [
      "Helloworld!\n",
      "Hello world!\n",
      "HelloHelloHelloHello   world!world!\n",
      "True\n",
      "False\n",
      "35\n"
     ]
    }
   ],
   "source": [
    "h = \"Hello\"\n",
    "w = \"world!\"\n",
    "hw = h + w\n",
    "print(hw) #helloworld!\n",
    "hsw = h + ' ' + w\n",
    "print(hsw)#hello world\n",
    "h4s3w2 = h * 4 + \" \" * 3 + w * 2\n",
    "print(h4s3w2)\n",
    "print(h in hsw)\n",
    "print(' ' in hw) #\n",
    "print(len(h4s3w2)) "
   ]
  },
  {
   "cell_type": "markdown",
   "metadata": {},
   "source": [
    "**Accessing Characters in string**"
   ]
  },
  {
   "cell_type": "code",
   "execution_count": 17,
   "metadata": {},
   "outputs": [
    {
     "name": "stdout",
     "output_type": "stream",
     "text": [
      "String in python\n",
      "S\n",
      "g\n",
      "n\n",
      "n\n",
      "h\n"
     ]
    }
   ],
   "source": [
    "str1 = \"String in python\"\n",
    "print(str1)\n",
    "print(str1[0])\n",
    "print(str1[5])\n",
    "print(str1[-8])\n",
    "print(str1[-1])\n",
    "print(str1[-3])"
   ]
  },
  {
   "cell_type": "markdown",
   "metadata": {
    "colab_type": "text",
    "id": "o1YBOu2v6R3f"
   },
   "source": [
    "#### Lists\n",
    "Let us take a look at lists. A list is a collection of things, enclosed in [] and separated by commas. A list is heterogenous; that is the data types of the things need not be the same."
   ]
  },
  {
   "cell_type": "markdown",
   "metadata": {},
   "source": [
    "**Immutable\n",
    "**Mutable"
   ]
  },
  {
   "cell_type": "code",
   "execution_count": 21,
   "metadata": {},
   "outputs": [
    {
     "name": "stdout",
     "output_type": "stream",
     "text": [
      "[1, 5.6, True, (4-7j), 'Hello', [1, 2], [3.9, 'World']]\n"
     ]
    }
   ],
   "source": [
    "print(oddjob)"
   ]
  },
  {
   "cell_type": "code",
   "execution_count": 19,
   "metadata": {
    "colab": {},
    "colab_type": "code",
    "id": "qO7TKDYUXz_I"
   },
   "outputs": [
    {
     "name": "stdout",
     "output_type": "stream",
     "text": [
      "5\n"
     ]
    }
   ],
   "source": [
    "print(len(grading))"
   ]
  },
  {
   "cell_type": "code",
   "execution_count": 22,
   "metadata": {
    "colab": {},
    "colab_type": "code",
    "id": "KY34LciJ6R3y"
   },
   "outputs": [
    {
     "name": "stdout",
     "output_type": "stream",
     "text": [
      "60 Hello\n",
      "Hackathons Individual Labs\n"
     ]
    }
   ],
   "source": [
    "# We access individual elements using the index\n",
    "# The first element is at index 0\n",
    "print(grades[1], oddjob[4])\n",
    "# We access the elements from the back using negative indices\n",
    "# -1 is the last, -2 is the last but one and so on\n",
    "print(grading[-1], grading[-3])"
   ]
  },
  {
   "cell_type": "code",
   "execution_count": 24,
   "metadata": {
    "colab": {},
    "colab_type": "code",
    "id": "nvc_UX5DXUvS"
   },
   "outputs": [
    {
     "name": "stdout",
     "output_type": "stream",
     "text": [
      "20 17\n"
     ]
    },
    {
     "ename": "TypeError",
     "evalue": "unsupported operand type(s) for +: 'int' and 'str'",
     "output_type": "error",
     "traceback": [
      "\u001b[0;31m---------------------------------------------------------------------------\u001b[0m",
      "\u001b[0;31mTypeError\u001b[0m                                 Traceback (most recent call last)",
      "\u001b[0;32m<ipython-input-24-42b02353e6a2>\u001b[0m in \u001b[0;36m<module>\u001b[0;34m\u001b[0m\n\u001b[1;32m      1\u001b[0m \u001b[0mprint\u001b[0m\u001b[0;34m(\u001b[0m\u001b[0msum\u001b[0m\u001b[0;34m(\u001b[0m\u001b[0mf\u001b[0m\u001b[0;34m)\u001b[0m\u001b[0;34m,\u001b[0m \u001b[0msum\u001b[0m\u001b[0;34m(\u001b[0m\u001b[0mp\u001b[0m\u001b[0;34m)\u001b[0m\u001b[0;34m)\u001b[0m\u001b[0;34m\u001b[0m\u001b[0;34m\u001b[0m\u001b[0m\n\u001b[0;32m----> 2\u001b[0;31m \u001b[0mprint\u001b[0m\u001b[0;34m(\u001b[0m\u001b[0msum\u001b[0m\u001b[0;34m(\u001b[0m\u001b[0mmix\u001b[0m\u001b[0;34m)\u001b[0m\u001b[0;34m)\u001b[0m\u001b[0;34m\u001b[0m\u001b[0;34m\u001b[0m\u001b[0m\n\u001b[0m",
      "\u001b[0;31mTypeError\u001b[0m: unsupported operand type(s) for +: 'int' and 'str'"
     ]
    }
   ],
   "source": [
    "print(sum(f), sum(p))\n",
    "print(sum(mix))"
   ]
  },
  {
   "cell_type": "code",
   "execution_count": 25,
   "metadata": {
    "colab": {},
    "colab_type": "code",
    "id": "c1CQj0qfX9rS"
   },
   "outputs": [
    {
     "name": "stdout",
     "output_type": "stream",
     "text": [
      "300 60\n"
     ]
    }
   ],
   "source": [
    "print(max(grades), min(grades))"
   ]
  },
  {
   "cell_type": "code",
   "execution_count": 20,
   "metadata": {
    "colab": {},
    "colab_type": "code",
    "id": "RKbOr8eM6R3h"
   },
   "outputs": [],
   "source": [
    "f = [1, 1, 2, 3, 5, 8]\n",
    "x = []\n",
    "p = [2, 3, 5, 7]\n",
    "grading = [\"Tests\", \"Quizzes\", \"Individual Labs\", \"Group Labs\", \"Hackathons\"]\n",
    "grades = [300, 60, 120, 60, 120]\n",
    "mix = [\"A\",12,13.7,-2]\n",
    "oddjob = [1, 5.6, True, 4-7j, \"Hello\", [1, 2], [3.9, \"World\"]]"
   ]
  },
  {
   "cell_type": "markdown",
   "metadata": {
    "colab_type": "text",
    "id": "rp56AiOF6R4I"
   },
   "source": [
    "#### For\n",
    "We can step through the items in a collection, such as a list or string (and many others) using **for**"
   ]
  },
  {
   "cell_type": "code",
   "execution_count": 28,
   "metadata": {
    "colab": {},
    "colab_type": "code",
    "id": "KXEwDe6eYAyK"
   },
   "outputs": [
    {
     "name": "stdout",
     "output_type": "stream",
     "text": [
      "1\n",
      "5.6\n",
      "True\n",
      "(4-7j)\n",
      "Hello\n",
      "[1, 2]\n",
      "[3.9, 'World']\n"
     ]
    }
   ],
   "source": [
    "for value in oddjob:\n",
    "    print(value)"
   ]
  },
  {
   "cell_type": "code",
   "execution_count": 29,
   "metadata": {
    "colab_type": "text",
    "id": "YhLhMcQjYKlo"
   },
   "outputs": [
    {
     "name": "stdout",
     "output_type": "stream",
     "text": [
      "Tests\n",
      "Quizzes\n",
      "Individual Labs\n",
      "Group Labs\n",
      "Hackathons\n"
     ]
    }
   ],
   "source": [
    "for test in grading:\n",
    "    print(test)"
   ]
  },
  {
   "cell_type": "markdown",
   "metadata": {
    "colab_type": "text",
    "id": "jJQ3_fHt6R4W"
   },
   "source": [
    "Note the absence of the usual *index* variable etc. We can step through the characters in a string the same way"
   ]
  },
  {
   "cell_type": "code",
   "execution_count": 30,
   "metadata": {
    "colab": {},
    "colab_type": "code",
    "id": "OjHy3Lej6R4Z"
   },
   "outputs": [
    {
     "name": "stdout",
     "output_type": "stream",
     "text": [
      "H\n",
      "e\n",
      "l\n",
      "l\n",
      "o\n"
     ]
    }
   ],
   "source": [
    "for ch in \"Hello\":\n",
    "    print(ch)"
   ]
  },
  {
   "cell_type": "code",
   "execution_count": null,
   "metadata": {
    "colab": {},
    "colab_type": "code",
    "id": "rrfZ6AHJYGUq"
   },
   "outputs": [],
   "source": [
    "#### List methods"
   ]
  },
  {
   "cell_type": "code",
   "execution_count": 31,
   "metadata": {
    "colab": {},
    "colab_type": "code",
    "id": "g0NYrdIcYSnS"
   },
   "outputs": [
    {
     "name": "stdout",
     "output_type": "stream",
     "text": [
      "[1, 1, 2, 3, 5, 8]\n"
     ]
    }
   ],
   "source": [
    "print(f)"
   ]
  },
  {
   "cell_type": "code",
   "execution_count": 32,
   "metadata": {
    "colab": {},
    "colab_type": "code",
    "id": "etnU-RY7Y35i"
   },
   "outputs": [
    {
     "name": "stdout",
     "output_type": "stream",
     "text": [
      "[1, 1, 2, 3, 5, 8, 13]\n"
     ]
    }
   ],
   "source": [
    "f.append(13)\n",
    "print(f)"
   ]
  },
  {
   "cell_type": "code",
   "execution_count": 33,
   "metadata": {
    "colab": {},
    "colab_type": "code",
    "id": "-GffS_CxZ27-"
   },
   "outputs": [
    {
     "name": "stdout",
     "output_type": "stream",
     "text": [
      "[1, 1, 2, 3, 5, 8, 13, 21, 34, 55, 89]\n"
     ]
    }
   ],
   "source": [
    "f.extend([21, 34, 55, 89])\n",
    "print(f)"
   ]
  },
  {
   "cell_type": "code",
   "execution_count": 34,
   "metadata": {
    "colab": {},
    "colab_type": "code",
    "id": "aPuIEVEQZC2k"
   },
   "outputs": [
    {
     "name": "stdout",
     "output_type": "stream",
     "text": [
      "[2, 3, 5, 7, 11, 13, 17, 19]\n"
     ]
    }
   ],
   "source": [
    "p = p + [11, 13, 17, 19]\n",
    "print(p)"
   ]
  },
  {
   "cell_type": "code",
   "execution_count": null,
   "metadata": {},
   "outputs": [],
   "source": []
  },
  {
   "cell_type": "markdown",
   "metadata": {
    "colab_type": "text",
    "id": "wVSIgk_mZjli"
   },
   "source": [
    "#### Slicing\n",
    "We can get substrings and sublists using a slice"
   ]
  },
  {
   "cell_type": "code",
   "execution_count": 38,
   "metadata": {
    "colab": {},
    "colab_type": "code",
    "id": "_24F0GauZf4s"
   },
   "outputs": [
    {
     "name": "stdout",
     "output_type": "stream",
     "text": [
      "[1, 1, 2, 3, 5, 8, 13, 21, 34, 55, 89]\n",
      "[2, 3, 5, 8, 13]\n",
      "[2, 8, 34]\n",
      "[2, 3, 5, 7, 11, 13, 17, 19]\n",
      "[19, 17, 13, 11, 7, 5, 3, 2]\n"
     ]
    }
   ],
   "source": [
    "print(f)\n",
    "print(f[2:7])\n",
    "print(f[2:11:3])\n",
    "print(p)\n",
    "print(p[::-1]) #REVERSE "
   ]
  },
  {
   "cell_type": "code",
   "execution_count": 44,
   "metadata": {
    "colab": {},
    "colab_type": "code",
    "id": "joopNHQdZpX8",
    "scrolled": true
   },
   "outputs": [
    {
     "name": "stdout",
     "output_type": "stream",
     "text": [
      "HelloHelloHelloHello   world!world!\n",
      "elloHello   wor\n",
      "Hello world!\n",
      "l r!\n",
      "!dlrowolleH\n"
     ]
    }
   ],
   "source": [
    "# We can slice strings too\n",
    "print(h4s3w2)\n",
    "print(h4s3w2[11:26])\n",
    "print(hsw)\n",
    "#print(hsw[start,stop,step_diff])\n",
    "print(hsw[2::3])\n",
    "print(hw[::-1])"
   ]
  },
  {
   "cell_type": "markdown",
   "metadata": {},
   "source": [
    "**Program to print all three digits palindrome numbers**\n",
    "**Program to print all prime numbers with in a given range**\n"
   ]
  }
 ],
 "metadata": {
  "colab": {
   "name": "Week0-02-lists.ipynb",
   "provenance": [],
   "version": "0.3.2"
  },
  "kernelspec": {
   "display_name": "Python 3",
   "language": "python",
   "name": "python3"
  },
  "language_info": {
   "codemirror_mode": {
    "name": "ipython",
    "version": 3
   },
   "file_extension": ".py",
   "mimetype": "text/x-python",
   "name": "python",
   "nbconvert_exporter": "python",
   "pygments_lexer": "ipython3",
   "version": "3.7.6"
  }
 },
 "nbformat": 4,
 "nbformat_minor": 1
}
