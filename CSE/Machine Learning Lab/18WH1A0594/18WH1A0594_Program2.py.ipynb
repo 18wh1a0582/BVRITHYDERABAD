{
 "cells": [
  {
   "cell_type": "code",
   "execution_count": 1,
   "metadata": {
    "scrolled": true
   },
   "outputs": [
    {
     "name": "stdout",
     "output_type": "stream",
     "text": [
      "Collecting db-sqlite3\n",
      "  Downloading db-sqlite3-0.0.1.tar.gz (1.4 kB)\n",
      "Collecting db\n",
      "  Downloading db-0.1.1.tar.gz (3.4 kB)\n",
      "Collecting antiorm\n",
      "  Downloading antiorm-1.2.1.tar.gz (171 kB)\n",
      "\u001b[K     |████████████████████████████████| 171 kB 1.8 MB/s eta 0:00:01\n",
      "\u001b[?25hBuilding wheels for collected packages: db-sqlite3, db, antiorm\n",
      "  Building wheel for db-sqlite3 (setup.py) ... \u001b[?25ldone\n",
      "\u001b[?25h  Created wheel for db-sqlite3: filename=db_sqlite3-0.0.1-py3-none-any.whl size=1795 sha256=1fee02d5341a2a1de333ed099cbbbf928f14dc1cbd2c75591ea674299c9bbaea\n",
      "  Stored in directory: /home/satya/.cache/pip/wheels/9a/a0/6f/b4ceab4614797b65af7a296172bf4bdc106702d7f18beafa57\n",
      "  Building wheel for db (setup.py) ... \u001b[?25ldone\n",
      "\u001b[?25h  Created wheel for db: filename=db-0.1.1-py3-none-any.whl size=3895 sha256=38f752ff7b8ee6882d7d7c9cd8c9703788b7acb30c66aec39d1d73030bc2eff4\n",
      "  Stored in directory: /home/satya/.cache/pip/wheels/43/94/01/2470e037a87c7f4fe93e4a110ee8c01b495d53db5de40b216b\n",
      "  Building wheel for antiorm (setup.py) ... \u001b[?25ldone\n",
      "\u001b[?25h  Created wheel for antiorm: filename=antiorm-1.2.1-py3-none-any.whl size=31665 sha256=c83181662d92a3d4745a7f7697d15c340637a27c52fbf661a076a64f77fc0e27\n",
      "  Stored in directory: /home/satya/.cache/pip/wheels/23/fc/3e/c02e21af9692d533cae0374d54eb3502764cedb8a3edaf6e5c\n",
      "Successfully built db-sqlite3 db antiorm\n",
      "Installing collected packages: antiorm, db, db-sqlite3\n",
      "Successfully installed antiorm-1.2.1 db-0.1.1 db-sqlite3-0.0.1\n"
     ]
    }
   ],
   "source": [
    "!pip install db-sqlite3"
   ]
  },
  {
   "cell_type": "code",
   "execution_count": 3,
   "metadata": {},
   "outputs": [],
   "source": [
    "import sqlite3"
   ]
  },
  {
   "cell_type": "code",
   "execution_count": 6,
   "metadata": {},
   "outputs": [
    {
     "name": "stdout",
     "output_type": "stream",
     "text": [
      "Opened database successfully!\n"
     ]
    }
   ],
   "source": [
    "conn = sqlite3.connect('exp2.db')\n",
    "cur = conn.cursor()\n",
    "print(\"Opened database successfully!\")"
   ]
  },
  {
   "cell_type": "code",
   "execution_count": 7,
   "metadata": {},
   "outputs": [
    {
     "name": "stdout",
     "output_type": "stream",
     "text": [
      "Table created successfully!\n"
     ]
    }
   ],
   "source": [
    "conn.execute('''CREATE TABLE COMPANY2\n",
    "(ID INT PRIMARY KEY NOT NULL,\n",
    "NAME TEXT NOT NULL,\n",
    "AGE INT NOT NULL,\n",
    "ADDRESS CHAR(50),\n",
    "SALARY REAL);''')\n",
    "print(\"Table created successfully!\")"
   ]
  },
  {
   "cell_type": "code",
   "execution_count": 8,
   "metadata": {},
   "outputs": [
    {
     "name": "stdout",
     "output_type": "stream",
     "text": [
      "Records inserted successfully!\n"
     ]
    }
   ],
   "source": [
    "conn.execute(\"INSERT INTO COMPANY2(ID, NAME, AGE, ADDRESS, SALARY) \\\n",
    "     VALUES (1, 'Paul', 20, 'California', 20000.0)\");\n",
    "conn.execute(\"INSERT INTO COMPANY2(ID, NAME, AGE, ADDRESS, SALARY) \\\n",
    "     VALUES (2, 'Suzen', 42, 'Texas', 54000.0)\");\n",
    "conn.execute(\"INSERT INTO COMPANY2(ID, NAME, AGE, ADDRESS, SALARY) \\\n",
    "     VALUES (3, 'John', 34, 'Norway', 32000.0)\");\n",
    "conn.execute(\"INSERT INTO COMPANY2(ID, NAME, AGE, ADDRESS, SALARY) \\\n",
    "     VALUES (4, 'Ana', 56, 'Chicago', 65000.0)\");\n",
    "conn.commit()\n",
    "print(\"Records inserted successfully!\")\n"
   ]
  },
  {
   "cell_type": "code",
   "execution_count": 9,
   "metadata": {},
   "outputs": [
    {
     "name": "stdout",
     "output_type": "stream",
     "text": [
      "(1, 'Paul', 20, 'California', 20000.0)\n",
      "(2, 'Suzen', 42, 'Texas', 54000.0)\n",
      "(3, 'John', 34, 'Norway', 32000.0)\n",
      "(4, 'Ana', 56, 'Chicago', 65000.0)\n"
     ]
    }
   ],
   "source": [
    "for row in conn.execute('select * from COMPANY2'):\n",
    "    print(row)"
   ]
  },
  {
   "cell_type": "code",
   "execution_count": 10,
   "metadata": {},
   "outputs": [],
   "source": [
    "conn.commit()"
   ]
  },
  {
   "cell_type": "code",
   "execution_count": 11,
   "metadata": {},
   "outputs": [],
   "source": [
    "conn.close()"
   ]
  }
 ],
 "metadata": {
  "kernelspec": {
   "display_name": "Python 3",
   "language": "python",
   "name": "python3"
  },
  "language_info": {
   "codemirror_mode": {
    "name": "ipython",
    "version": 3
   },
   "file_extension": ".py",
   "mimetype": "text/x-python",
   "name": "python",
   "nbconvert_exporter": "python",
   "pygments_lexer": "ipython3",
   "version": "3.8.5"
  }
 },
 "nbformat": 4,
 "nbformat_minor": 4
}
