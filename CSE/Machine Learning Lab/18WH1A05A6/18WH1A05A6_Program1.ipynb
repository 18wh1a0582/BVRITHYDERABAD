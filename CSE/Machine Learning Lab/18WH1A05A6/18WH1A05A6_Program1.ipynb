{
  "nbformat": 4,
  "nbformat_minor": 0,
  "metadata": {
    "colab": {
      "name": "MLprogram1.ipynb",
      "provenance": [],
      "collapsed_sections": []
    },
    "kernelspec": {
      "name": "python3",
      "display_name": "Python 3"
    },
    "language_info": {
      "name": "python"
    }
  },
  "cells": [
    {
      "cell_type": "code",
      "metadata": {
        "colab": {
          "base_uri": "https://localhost:8080/"
        },
        "id": "UvYvO-MFrIqA",
        "outputId": "5eae55bd-86a2-4458-b81d-0d9169277cde"
      },
      "source": [
        "\n",
        "probaf = 0.03\n",
        "probf = 0.2\n",
        "result = (probaf / probf)\n",
        "print(result*100)"
      ],
      "execution_count": null,
      "outputs": [
        {
          "output_type": "stream",
          "text": [
            "15.0\n"
          ],
          "name": "stdout"
        }
      ]
    }
  ]
}