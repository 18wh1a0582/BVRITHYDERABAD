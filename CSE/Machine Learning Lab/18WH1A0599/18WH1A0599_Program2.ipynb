{
 "cells": [
  {
   "cell_type": "code",
   "execution_count": 1,
   "metadata": {},
   "outputs": [],
   "source": [
    "import sqlite3\n"
   ]
  },
  {
   "cell_type": "code",
   "execution_count": 3,
   "metadata": {},
   "outputs": [
    {
     "name": "stdout",
     "output_type": "stream",
     "text": [
      "opened database\n"
     ]
    }
   ],
   "source": [
    "conn = sqlite3.connect('exp2.db')\n",
    "print(\"opened database\")"
   ]
  },
  {
   "cell_type": "code",
   "execution_count": 5,
   "metadata": {},
   "outputs": [
    {
     "name": "stdout",
     "output_type": "stream",
     "text": [
      "Table created\n"
     ]
    }
   ],
   "source": [
    "conn.execute('''CREATE TABLE COMPANY2\n",
    "(ID INT PRIMARY KEY NOT NULL,\n",
    "NAME TEXT NOT NULL,\n",
    "AGE INT NOT NULL,\n",
    "ADDRESS CHAR(50),\n",
    "SALARY REAL);''')\n",
    "print(\"Table created\");"
   ]
  },
  {
   "cell_type": "code",
   "execution_count": 6,
   "metadata": {},
   "outputs": [
    {
     "name": "stdout",
     "output_type": "stream",
     "text": [
      "Records created sucessfully\n"
     ]
    }
   ],
   "source": [
    "conn.execute(\"Insert into COMPANY2 (ID , NAME ,AGE, ADDRESS ,SALARY)\\\n",
    "             VALUES (1,'Paul',32, 'California', 20000.00)\");\n",
    "conn.execute(\"Insert into COMPANY2 (ID , NAME ,AGE, ADDRESS ,SALARY)\\\n",
    "             VALUES (2,'Allen',35, 'Texas', 15000.00)\");\n",
    "conn.execute(\"Insert into COMPANY2 (ID , NAME ,AGE, ADDRESS ,SALARY)\\\n",
    "             VALUES (3,'Teddy',23, 'Norway', 20000.00)\");\n",
    "conn.execute(\"Insert into COMPANY2 (ID , NAME ,AGE, ADDRESS ,SALARY)\\\n",
    "             VALUES (4,'Mark',25, 'Rich-Mond', 65000.00)\");\n",
    "conn.commit()\n",
    "print(\"Records created sucessfully\");"
   ]
  },
  {
   "cell_type": "code",
   "execution_count": 7,
   "metadata": {},
   "outputs": [
    {
     "name": "stdout",
     "output_type": "stream",
     "text": [
      "(1, 'Paul', 32, 'California', 20000.0)\n",
      "(2, 'Allen', 35, 'Texas', 15000.0)\n",
      "(3, 'Teddy', 23, 'Norway', 20000.0)\n",
      "(4, 'Mark', 25, 'Rich-Mond', 65000.0)\n"
     ]
    }
   ],
   "source": [
    "for row in conn.execute('select * from COMPANY2'):\n",
    "  print(row)\n"
   ]
  },
  {
   "cell_type": "code",
   "execution_count": 8,
   "metadata": {},
   "outputs": [],
   "source": [
    "conn.commit()"
   ]
  },
  {
   "cell_type": "code",
   "execution_count": 9,
   "metadata": {},
   "outputs": [],
   "source": [
    "conn.close()"
   ]
  },
  {
   "cell_type": "code",
   "execution_count": null,
   "metadata": {},
   "outputs": [],
   "source": []
  }
 ],
 "metadata": {
  "kernelspec": {
   "display_name": "Python 3",
   "language": "python",
   "name": "python3"
  },
  "language_info": {
   "codemirror_mode": {
    "name": "ipython",
    "version": 3
   },
   "file_extension": ".py",
   "mimetype": "text/x-python",
   "name": "python",
   "nbconvert_exporter": "python",
   "pygments_lexer": "ipython3",
   "version": "3.8.5"
  }
 },
 "nbformat": 4,
 "nbformat_minor": 4
}
