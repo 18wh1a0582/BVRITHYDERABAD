{
 "cells": [
  {
   "cell_type": "code",
   "execution_count": 19,
   "metadata": {},
   "outputs": [
    {
     "name": "stdout",
     "output_type": "stream",
     "text": [
      "Requirement already satisfied: db-sqlite3 in c:\\users\\pranathi\\anaconda3\\lib\\site-packages (0.0.1)\n",
      "Requirement already satisfied: db in c:\\users\\pranathi\\anaconda3\\lib\\site-packages (from db-sqlite3) (0.1.1)\n",
      "Requirement already satisfied: antiorm in c:\\users\\pranathi\\anaconda3\\lib\\site-packages (from db->db-sqlite3) (1.2.1)\n"
     ]
    }
   ],
   "source": [
    "!pip install db-sqlite3\n",
    "import sqlite3"
   ]
  },
  {
   "cell_type": "code",
   "execution_count": 30,
   "metadata": {
    "scrolled": true
   },
   "outputs": [
    {
     "name": "stdout",
     "output_type": "stream",
     "text": [
      "Opened database successfully\n"
     ]
    }
   ],
   "source": [
    "conn=sqlite3.connect('sample1.db')\n",
    "cur=conn.cursor()\n",
    "print (\"Opened database successfully\");\n"
   ]
  },
  {
   "cell_type": "code",
   "execution_count": 31,
   "metadata": {},
   "outputs": [
    {
     "name": "stdout",
     "output_type": "stream",
     "text": [
      "Table created successfully\n"
     ]
    }
   ],
   "source": [
    "conn.execute('''CREATE TABLE EMPLOYEE2\n",
    "         (ID INT PRIMARY KEY     NOT NULL,\n",
    "         NAME           TEXT    NOT NULL,\n",
    "         AGE            INT     NOT NULL,\n",
    "         ADDRESS        CHAR(30),\n",
    "         SALARY         REAL);''')\n",
    "print (\"Table created successfully\");"
   ]
  },
  {
   "cell_type": "code",
   "execution_count": 32,
   "metadata": {},
   "outputs": [
    {
     "name": "stdout",
     "output_type": "stream",
     "text": [
      "Records created successfully\n"
     ]
    }
   ],
   "source": [
    "conn.execute(\"INSERT INTO EMPLOYEE2 (ID,NAME,AGE,ADDRESS,SALARY) \\\n",
    "      VALUES (1, 'Pranathi', 19, 'Goa', 2000000.00 )\");\n",
    "\n",
    "conn.execute(\"INSERT INTO EMPLOYEE2 (ID,NAME,AGE,ADDRESS,SALARY) \\\n",
    "      VALUES (2, 'Anisha', 25, 'Kochi', 15000.00 )\");\n",
    "\n",
    "conn.execute(\"INSERT INTO EMPLOYEE2 (ID,NAME,AGE,ADDRESS,SALARY) \\\n",
    "      VALUES (3, 'Teju', 13, 'Hyderabad', 20000.00 )\");\n",
    "\n",
    "conn.execute(\"INSERT INTO EMPLOYEE2 (ID,NAME,AGE,ADDRESS,SALARY) \\\n",
    "      VALUES (4, 'Manisha', 22, 'Ranchi ', 65000.00 )\");\n",
    "\n",
    "conn.commit()\n",
    "print (\"Records created successfully\");"
   ]
  },
  {
   "cell_type": "code",
   "execution_count": 33,
   "metadata": {},
   "outputs": [
    {
     "name": "stdout",
     "output_type": "stream",
     "text": [
      "(1, 'Pranathi', 19, 'Goa', 2000000.0)\n",
      "(2, 'Anisha', 25, 'Kochi', 15000.0)\n",
      "(3, 'Teju', 13, 'Hyderabad', 20000.0)\n",
      "(4, 'Manisha', 22, 'Ranchi ', 65000.0)\n"
     ]
    }
   ],
   "source": [
    "for row in conn.execute('select * from EMPLOYEE2'):\n",
    "        print(row)"
   ]
  },
  {
   "cell_type": "code",
   "execution_count": 34,
   "metadata": {},
   "outputs": [],
   "source": [
    "records = [(5, 'Josh', 18, 'Chennai', 100000.00),\n",
    "        (6, 'Deepthi', 19, 'Mumbai', 250000),\n",
    "        (7, 'Aira', 27, 'Delhi', 500000)]"
   ]
  },
  {
   "cell_type": "code",
   "execution_count": 35,
   "metadata": {},
   "outputs": [],
   "source": [
    "cur.executemany('INSERT INTO EMPLOYEE2 VALUES(?,?,?,?,?);',records);"
   ]
  },
  {
   "cell_type": "code",
   "execution_count": 36,
   "metadata": {},
   "outputs": [
    {
     "name": "stdout",
     "output_type": "stream",
     "text": [
      "We have inserted 3 records to the table.\n"
     ]
    }
   ],
   "source": [
    "print('We have inserted', cur.rowcount, 'records to the table.')"
   ]
  },
  {
   "cell_type": "code",
   "execution_count": 37,
   "metadata": {},
   "outputs": [
    {
     "name": "stdout",
     "output_type": "stream",
     "text": [
      "(1, 'Pranathi', 19, 'Goa', 2000000.0)\n",
      "(2, 'Anisha', 25, 'Kochi', 15000.0)\n",
      "(3, 'Teju', 13, 'Hyderabad', 20000.0)\n",
      "(4, 'Manisha', 22, 'Ranchi ', 65000.0)\n",
      "(5, 'Josh', 18, 'Chennai', 100000.0)\n",
      "(6, 'Deepthi', 19, 'Mumbai', 250000.0)\n",
      "(7, 'Aira', 27, 'Delhi', 500000.0)\n"
     ]
    }
   ],
   "source": [
    "for row in conn.execute('select * from EMPLOYEE2'):\n",
    "        print(row)"
   ]
  },
  {
   "cell_type": "code",
   "execution_count": 38,
   "metadata": {},
   "outputs": [],
   "source": [
    "conn.commit()"
   ]
  },
  {
   "cell_type": "code",
   "execution_count": 39,
   "metadata": {},
   "outputs": [],
   "source": [
    "conn.close()"
   ]
  }
 ],
 "metadata": {
  "kernelspec": {
   "display_name": "Python 3",
   "language": "python",
   "name": "python3"
  },
  "language_info": {
   "codemirror_mode": {
    "name": "ipython",
    "version": 3
   },
   "file_extension": ".py",
   "mimetype": "text/x-python",
   "name": "python",
   "nbconvert_exporter": "python",
   "pygments_lexer": "ipython3",
   "version": "3.8.5"
  }
 },
 "nbformat": 4,
 "nbformat_minor": 4
}
