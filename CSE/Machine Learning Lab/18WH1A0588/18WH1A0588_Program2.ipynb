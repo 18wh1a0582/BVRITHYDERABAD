{
 "cells": [
  {
   "cell_type": "code",
   "execution_count": 16,
   "metadata": {},
   "outputs": [],
   "source": [
    "import sqlite3"
   ]
  },
  {
   "cell_type": "code",
   "execution_count": 20,
   "metadata": {},
   "outputs": [
    {
     "name": "stdout",
     "output_type": "stream",
     "text": [
      "Connected to Database Successfully\n"
     ]
    }
   ],
   "source": [
    "conn = sqlite3.connect('exp2.db')\n",
    "cur = conn.cursor()\n",
    "print(\"Connected to Database Successfully\")"
   ]
  },
  {
   "cell_type": "code",
   "execution_count": 21,
   "metadata": {},
   "outputs": [
    {
     "name": "stdout",
     "output_type": "stream",
     "text": [
      "Table created Successfully\n"
     ]
    }
   ],
   "source": [
    "conn.execute('''CREATE TABLE COMPANY\n",
    "               (ID INT PRIMARY KEY   NOT NULL,\n",
    "                NAME            TEXT  NOT NULL,\n",
    "                AGE             INT   NOT NULL,\n",
    "                ADDRESS         CHAR(50),\n",
    "                SALARY          REAL);''')\n",
    "print(\"Table created Successfully\");"
   ]
  },
  {
   "cell_type": "code",
   "execution_count": 22,
   "metadata": {},
   "outputs": [
    {
     "name": "stdout",
     "output_type": "stream",
     "text": [
      "Records created successfully\n"
     ]
    }
   ],
   "source": [
    "conn.execute(\"Insert into COMPANY values(100,'paul',26,'hyderabad',100000.00)\");\n",
    "conn.execute(\"Insert into COMPANY values(101,'allen',28,'mumbai',300000.00)\");\n",
    "conn.execute(\"Insert into COMPANY values(102,'sania',29,'chennai',300000.00)\");\n",
    "conn.execute(\"Insert into COMPANY values(103,'teddy',26,'hyderabad',200000.00)\");\n",
    "conn.commit()\n",
    "\n",
    "print(\"Records created successfully\");\n"
   ]
  },
  {
   "cell_type": "code",
   "execution_count": 23,
   "metadata": {},
   "outputs": [
    {
     "name": "stdout",
     "output_type": "stream",
     "text": [
      "(100, 'paul', 26, 'hyderabad', 100000.0)\n",
      "(101, 'allen', 28, 'mumbai', 300000.0)\n",
      "(102, 'sania', 29, 'chennai', 300000.0)\n",
      "(103, 'teddy', 26, 'hyderabad', 200000.0)\n"
     ]
    }
   ],
   "source": [
    "for row in conn.execute('select * from COMPANY'):\n",
    "    print(row)"
   ]
  },
  {
   "cell_type": "code",
   "execution_count": 24,
   "metadata": {},
   "outputs": [
    {
     "data": {
      "text/plain": [
       "<sqlite3.Cursor at 0x21d742b49d0>"
      ]
     },
     "execution_count": 24,
     "metadata": {},
     "output_type": "execute_result"
    }
   ],
   "source": [
    "sql = 'Insert into COMPANY values(?, ?, ?, ?, ?)'\n",
    "val = [(106,'daniel',24,'kolkata',50000.00),(107,'ria',25,'hyderabad',70000.00)]\n",
    "cur.executemany(sql,val)"
   ]
  },
  {
   "cell_type": "code",
   "execution_count": 25,
   "metadata": {},
   "outputs": [
    {
     "name": "stdout",
     "output_type": "stream",
     "text": [
      "(100, 'paul', 26, 'hyderabad', 100000.0)\n",
      "(101, 'allen', 28, 'mumbai', 300000.0)\n",
      "(102, 'sania', 29, 'chennai', 300000.0)\n",
      "(103, 'teddy', 26, 'hyderabad', 200000.0)\n",
      "(106, 'daniel', 24, 'kolkata', 50000.0)\n",
      "(107, 'ria', 25, 'hyderabad', 70000.0)\n"
     ]
    }
   ],
   "source": [
    "for row in conn.execute('select * from COMPANY'):\n",
    "    print(row)"
   ]
  },
  {
   "cell_type": "code",
   "execution_count": 14,
   "metadata": {},
   "outputs": [],
   "source": [
    "conn.commit()"
   ]
  },
  {
   "cell_type": "code",
   "execution_count": 15,
   "metadata": {},
   "outputs": [],
   "source": [
    "conn.close()"
   ]
  }
 ],
 "metadata": {
  "kernelspec": {
   "display_name": "Python 3",
   "language": "python",
   "name": "python3"
  },
  "language_info": {
   "codemirror_mode": {
    "name": "ipython",
    "version": 3
   },
   "file_extension": ".py",
   "mimetype": "text/x-python",
   "name": "python",
   "nbconvert_exporter": "python",
   "pygments_lexer": "ipython3",
   "version": "3.8.5"
  }
 },
 "nbformat": 4,
 "nbformat_minor": 4
}
