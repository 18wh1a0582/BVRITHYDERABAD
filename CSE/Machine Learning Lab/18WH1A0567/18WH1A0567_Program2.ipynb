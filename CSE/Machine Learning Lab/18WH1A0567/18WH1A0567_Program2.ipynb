{
 "cells": [
  {
   "cell_type": "code",
   "execution_count": 1,
   "metadata": {},
   "outputs": [
    {
     "name": "stdout",
     "output_type": "stream",
     "text": [
      "Collecting db-sqlite3\n",
      "  Downloading db-sqlite3-0.0.1.tar.gz (1.4 kB)\n",
      "Collecting db\n",
      "  Downloading db-0.1.1.tar.gz (3.4 kB)\n",
      "Collecting antiorm\n",
      "  Downloading antiorm-1.2.1.tar.gz (171 kB)\n",
      "\u001b[K     |████████████████████████████████| 171 kB 2.8 MB/s eta 0:00:01\n",
      "\u001b[?25hBuilding wheels for collected packages: db-sqlite3, db, antiorm\n",
      "  Building wheel for db-sqlite3 (setup.py) ... \u001b[?25ldone\n",
      "\u001b[?25h  Created wheel for db-sqlite3: filename=db_sqlite3-0.0.1-py3-none-any.whl size=1795 sha256=43c288800a41c8f2f8d00caf3e58933f44c86f6d1120e5791b8982446a4caebd\n",
      "  Stored in directory: /home/vaishnavi/.cache/pip/wheels/9a/a0/6f/b4ceab4614797b65af7a296172bf4bdc106702d7f18beafa57\n",
      "  Building wheel for db (setup.py) ... \u001b[?25ldone\n",
      "\u001b[?25h  Created wheel for db: filename=db-0.1.1-py3-none-any.whl size=3895 sha256=0d042c9689c6e0418220e5aeeb7fa23f9298a94b9282f1720db9f2cc7120f74e\n",
      "  Stored in directory: /home/vaishnavi/.cache/pip/wheels/43/94/01/2470e037a87c7f4fe93e4a110ee8c01b495d53db5de40b216b\n",
      "  Building wheel for antiorm (setup.py) ... \u001b[?25ldone\n",
      "\u001b[?25h  Created wheel for antiorm: filename=antiorm-1.2.1-py3-none-any.whl size=31665 sha256=49fad5ce6dcae0e0b25821394e781ac1a957a151f9f1e2ef3dec3ffe3cfc9687\n",
      "  Stored in directory: /home/vaishnavi/.cache/pip/wheels/23/fc/3e/c02e21af9692d533cae0374d54eb3502764cedb8a3edaf6e5c\n",
      "Successfully built db-sqlite3 db antiorm\n",
      "Installing collected packages: antiorm, db, db-sqlite3\n",
      "Successfully installed antiorm-1.2.1 db-0.1.1 db-sqlite3-0.0.1\n",
      "Note: you may need to restart the kernel to use updated packages.\n"
     ]
    }
   ],
   "source": [
    "pip install db-sqlite3"
   ]
  },
  {
   "cell_type": "code",
   "execution_count": 14,
   "metadata": {},
   "outputs": [],
   "source": [
    "import sqlite3"
   ]
  },
  {
   "cell_type": "code",
   "execution_count": 18,
   "metadata": {},
   "outputs": [
    {
     "name": "stdout",
     "output_type": "stream",
     "text": [
      "Connection with database established!\n"
     ]
    }
   ],
   "source": [
    "conn = sqlite3.connect('exp2')\n",
    "cur = conn.cursor()\n",
    "print(\"Connection with database established!\")"
   ]
  },
  {
   "cell_type": "code",
   "execution_count": 35,
   "metadata": {},
   "outputs": [
    {
     "ename": "OperationalError",
     "evalue": "table XYZCompany already exists",
     "output_type": "error",
     "traceback": [
      "\u001b[0;31m---------------------------------------------------------------------------\u001b[0m",
      "\u001b[0;31mOperationalError\u001b[0m                          Traceback (most recent call last)",
      "\u001b[0;32m<ipython-input-35-091b73968d97>\u001b[0m in \u001b[0;36m<module>\u001b[0;34m\u001b[0m\n\u001b[0;32m----> 1\u001b[0;31m conn.execute('''CREATE TABLE XYZCompany\n\u001b[0m\u001b[1;32m      2\u001b[0m          (ID INT PRIMARY KEY     NOT NULL,\n\u001b[1;32m      3\u001b[0m          \u001b[0mNAME\u001b[0m           \u001b[0mTEXT\u001b[0m    \u001b[0mNOT\u001b[0m \u001b[0mNULL\u001b[0m\u001b[0;34m,\u001b[0m\u001b[0;34m\u001b[0m\u001b[0;34m\u001b[0m\u001b[0m\n\u001b[1;32m      4\u001b[0m          \u001b[0mAGE\u001b[0m            \u001b[0mINT\u001b[0m     \u001b[0mNOT\u001b[0m \u001b[0mNULL\u001b[0m\u001b[0;34m,\u001b[0m\u001b[0;34m\u001b[0m\u001b[0;34m\u001b[0m\u001b[0m\n\u001b[1;32m      5\u001b[0m          \u001b[0mADDRESS\u001b[0m        \u001b[0mCHAR\u001b[0m\u001b[0;34m(\u001b[0m\u001b[0;36m50\u001b[0m\u001b[0;34m)\u001b[0m\u001b[0;34m,\u001b[0m\u001b[0;34m\u001b[0m\u001b[0;34m\u001b[0m\u001b[0m\n",
      "\u001b[0;31mOperationalError\u001b[0m: table XYZCompany already exists"
     ]
    }
   ],
   "source": [
    "conn.execute('''CREATE TABLE XYZCompany\n",
    "         (ID INT PRIMARY KEY     NOT NULL,\n",
    "         NAME           TEXT    NOT NULL,\n",
    "         AGE            INT     NOT NULL,\n",
    "         ADDRESS        CHAR(50),\n",
    "         SALARY         REAL);''')\n",
    "print (\"Table created successfully!\");"
   ]
  },
  {
   "cell_type": "code",
   "execution_count": 51,
   "metadata": {},
   "outputs": [
    {
     "name": "stdout",
     "output_type": "stream",
     "text": [
      "Records created successfully\n"
     ]
    }
   ],
   "source": [
    "#conn.execute('''INSERT INTO XYZCompany(ID,NAME,AGE,ADDRESS,SALARY) VALUES (1, 'Paul', 32, 'California', 20000.00 )''');\n",
    "#conn.execute('''INSERT INTO XYZCompany(ID,NAME,AGE,ADDRESS,SALARY) VALUES (2, 'Allen', 25, 'Texas', 15000.00 )''');\n",
    "#conn.execute('''INSERT INTO XYZCompany(ID,NAME,AGE,ADDRESS,SALARY) VALUES (3, 'Teddy', 23, 'Norway', 20000.00 )''');\n",
    "#conn.execute('''INSERT INTO XYZCompany(ID,NAME,AGE,ADDRESS,SALARY) VALUES (4, 'Mark', 25, 'Rich-Mond ', 65000.00 )''');\n",
    "\n",
    "records = [(5, 'Glen', 38, 'Germany', 50000.00), (6, 'Elliot', 49, 'USA' , 70000.00)]\n",
    "conn.executemany('INSERT INTO XYZCompany(ID,NAME,AGE,ADDRESS,SALARY) VALUES(?, ?, ?, ?, ?);',records);\n",
    "\n",
    "conn.commit()\n",
    "print (\"Records created successfully\");"
   ]
  },
  {
   "cell_type": "code",
   "execution_count": 50,
   "metadata": {},
   "outputs": [
    {
     "name": "stdout",
     "output_type": "stream",
     "text": [
      "(1, 'Paul', 32, 'California', 20000.0)\n",
      "(2, 'Allen', 25, 'Texas', 15000.0)\n",
      "(3, 'Teddy', 23, 'Norway', 20000.0)\n",
      "(4, 'Mark', 25, 'Rich-Mond ', 65000.0)\n",
      "(101, 'Glen', 38, 'Germany', 50000.0)\n",
      "(102, 'Elliot', 49, 'USA', 70000.0)\n",
      "(10001, 'Glen', 38, 'Germany', 50000.0)\n",
      "(100, 'Glen', 38, 'Germany', 50000.0)\n"
     ]
    }
   ],
   "source": [
    "for row in conn.execute(\"select * from XYZCompany\"):\n",
    "    print(row)"
   ]
  },
  {
   "cell_type": "code",
   "execution_count": 8,
   "metadata": {},
   "outputs": [],
   "source": [
    "conn.commit()\n",
    "conn.close()"
   ]
  },
  {
   "cell_type": "code",
   "execution_count": null,
   "metadata": {},
   "outputs": [],
   "source": []
  },
  {
   "cell_type": "code",
   "execution_count": null,
   "metadata": {},
   "outputs": [],
   "source": []
  }
 ],
 "metadata": {
  "kernelspec": {
   "display_name": "Python 3",
   "language": "python",
   "name": "python3"
  },
  "language_info": {
   "codemirror_mode": {
    "name": "ipython",
    "version": 3
   },
   "file_extension": ".py",
   "mimetype": "text/x-python",
   "name": "python",
   "nbconvert_exporter": "python",
   "pygments_lexer": "ipython3",
   "version": "3.8.5"
  }
 },
 "nbformat": 4,
 "nbformat_minor": 4
}
