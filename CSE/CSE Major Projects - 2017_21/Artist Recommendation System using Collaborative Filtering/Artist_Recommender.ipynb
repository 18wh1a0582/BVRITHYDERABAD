{
  "nbformat": 4,
  "nbformat_minor": 0,
  "metadata": {
    "colab": {
      "name": "Artist_Recommendation.ipynb",
      "provenance": [],
      "collapsed_sections": []
    },
    "kernelspec": {
      "name": "python3",
      "display_name": "Python 3"
    },
    "language_info": {
      "name": "python"
    }
  },
  "cells": [
    {
      "cell_type": "code",
      "metadata": {
        "colab": {
          "base_uri": "https://localhost:8080/"
        },
        "id": "VZGDsK4bZZBJ",
        "outputId": "b88273a5-eb00-451e-e4db-785437b3dc79"
      },
      "source": [
        "!pip install pyspark"
      ],
      "execution_count": null,
      "outputs": [
        {
          "output_type": "stream",
          "text": [
            "Requirement already satisfied: pyspark in /usr/local/lib/python3.7/dist-packages (3.1.1)\n",
            "Requirement already satisfied: py4j==0.10.9 in /usr/local/lib/python3.7/dist-packages (from pyspark) (0.10.9)\n"
          ],
          "name": "stdout"
        }
      ]
    },
    {
      "cell_type": "code",
      "metadata": {
        "id": "8KhD_s1vZeZA"
      },
      "source": [
        "from pyspark.mllib.recommendation import *\n",
        "import random\n",
        "import pandas as pd\n",
        "from operator import *"
      ],
      "execution_count": null,
      "outputs": []
    },
    {
      "cell_type": "code",
      "metadata": {
        "id": "CpSOQDb8aBwL"
      },
      "source": [
        "from pyspark import SparkContext\n",
        "sc =SparkContext.getOrCreate()\n",
        "artistData = sc.textFile(\"/content/sample_data/artist_data_small.txt\").map(lambda l: l.split(\"\\t\")).map(lambda l: (int(l[0]), l[1]))\n",
        "artistAlias = sc.textFile(\"/content/sample_data/artist_alias_small.txt\").map(lambda l: l.split(\"\\t\")).map(lambda l: (int(l[0]), int(l[1])))\n",
        "artistAliasDict = artistAlias.collectAsMap()\n",
        "\n",
        "def canonical(ele):\n",
        "    if ele in artistAliasDict:\n",
        "        return artistAliasDict.get(ele)\n",
        "    return int(ele)    \n",
        " \n",
        "userArtistData = sc.textFile(\"/content/sample_data/user_artist_data_small.txt\").map(lambda line: line.split(\" \")).map(lambda e: (int(e[0]), canonical(e[1]), int(e[2])))"
      ],
      "execution_count": null,
      "outputs": []
    },
    {
      "cell_type": "code",
      "metadata": {
        "id": "SGuo1Z4ud6hB"
      },
      "source": [
        "import array\n",
        "from collections import namedtuple\n",
        "\n",
        "from pyspark import SparkContext, since\n",
        "from pyspark.rdd import RDD\n",
        "from pyspark.mllib.common import JavaModelWrapper, callMLlibFunc, inherit_doc\n",
        "from pyspark.mllib.util import JavaLoader, JavaSaveable\n",
        "from pyspark.sql import DataFrame\n",
        "\n",
        "__all__ = ['MatrixFactorizationModel', 'ALS', 'Rating']\n",
        "\n",
        "\n",
        "class Rating(namedtuple(\"Rating\", [\"user\", \"product\", \"rating\"])):\n",
        "      \n",
        "    @since(\"0.9.0\")\n",
        "    def predict(self, user, product):\n",
        "        \"\"\"\n",
        "        Predicts rating for the given user and product.\n",
        "        \"\"\"\n",
        "        return self._java_model.predict(int(user), int(product))\n",
        "\n",
        "    @since(\"0.9.0\")\n",
        "    def predictAll(self, user_product):\n",
        "        \"\"\"\n",
        "        Returns a list of predicted ratings for input user and product\n",
        "        pairs.\n",
        "        \"\"\"\n",
        "        assert isinstance(user_product, RDD), \"user_product should be RDD of (user, product)\"\n",
        "        first = user_product.first()\n",
        "        assert len(first) == 2, \"user_product should be RDD of (user, product)\"\n",
        "        user_product = user_product.map(lambda u_p: (int(u_p[0]), int(u_p[1])))\n",
        "        return self.call(\"predict\", user_product)\n",
        "\n",
        "    @since(\"1.2.0\")\n",
        "    def userFeatures(self):\n",
        "        \"\"\"\n",
        "        Returns a paired RDD, where the first element is the user and the\n",
        "        second is an array of features corresponding to that user.\n",
        "        \"\"\"\n",
        "        return self.call(\"getUserFeatures\").mapValues(lambda v: array.array('d', v))\n",
        "\n",
        "    @since(\"1.2.0\")\n",
        "    def productFeatures(self):\n",
        "        \"\"\"\n",
        "        Returns a paired RDD, where the first element is the product and the\n",
        "        second is an array of features corresponding to that product.\n",
        "        \"\"\"\n",
        "        return self.call(\"getProductFeatures\").mapValues(lambda v: array.array('d', v))\n",
        "\n",
        "    @since(\"1.4.0\")\n",
        "    def recommendUsers(self, product, num):\n",
        "        \"\"\"\n",
        "        Recommends the top \"num\" number of users for a given product and\n",
        "        returns a list of Rating objects sorted by the predicted rating in\n",
        "        descending order.\n",
        "        \"\"\"\n",
        "        return list(self.call(\"recommendUsers\", product, num))\n",
        "\n",
        "    @since(\"1.4.0\")\n",
        "    def recommendProducts(self, user, num):\n",
        "        \"\"\"\n",
        "        Recommends the top \"num\" number of products for a given user and\n",
        "        returns a list of Rating objects sorted by the predicted rating in\n",
        "        descending order.\n",
        "        \"\"\"\n",
        "        return list(self.call(\"recommendProducts\", user, num))\n",
        "\n",
        "    def recommendProductsForUsers(self, num):\n",
        "        \"\"\"\n",
        "        Recommends the top \"num\" number of products for all users. The\n",
        "        number of recommendations returned per user may be less than \"num\".\n",
        "        \"\"\"\n",
        "        return self.call(\"wrappedRecommendProductsForUsers\", num)"
      ],
      "execution_count": null,
      "outputs": []
    },
    {
      "cell_type": "code",
      "metadata": {
        "colab": {
          "base_uri": "https://localhost:8080/",
          "height": 202
        },
        "id": "YAk6zIV1GUmD",
        "outputId": "8b7ec408-c212-48e3-83b7-493f97ef381e"
      },
      "source": [
        "\n",
        "temp1 = pd.read_csv(\"/content/sample_data/artist_alias_small.csv\")\n",
        "temp1.head()\n"
      ],
      "execution_count": null,
      "outputs": [
        {
          "output_type": "execute_result",
          "data": {
            "text/html": [
              "<div>\n",
              "<style scoped>\n",
              "    .dataframe tbody tr th:only-of-type {\n",
              "        vertical-align: middle;\n",
              "    }\n",
              "\n",
              "    .dataframe tbody tr th {\n",
              "        vertical-align: top;\n",
              "    }\n",
              "\n",
              "    .dataframe thead th {\n",
              "        text-align: right;\n",
              "    }\n",
              "</style>\n",
              "<table border=\"1\" class=\"dataframe\">\n",
              "  <thead>\n",
              "    <tr style=\"text-align: right;\">\n",
              "      <th></th>\n",
              "      <th>badid</th>\n",
              "      <th>goodid</th>\n",
              "    </tr>\n",
              "  </thead>\n",
              "  <tbody>\n",
              "    <tr>\n",
              "      <th>0</th>\n",
              "      <td>1027859</td>\n",
              "      <td>1252408</td>\n",
              "    </tr>\n",
              "    <tr>\n",
              "      <th>1</th>\n",
              "      <td>1017615</td>\n",
              "      <td>668</td>\n",
              "    </tr>\n",
              "    <tr>\n",
              "      <th>2</th>\n",
              "      <td>6745885</td>\n",
              "      <td>1268522</td>\n",
              "    </tr>\n",
              "    <tr>\n",
              "      <th>3</th>\n",
              "      <td>1018110</td>\n",
              "      <td>1018110</td>\n",
              "    </tr>\n",
              "    <tr>\n",
              "      <th>4</th>\n",
              "      <td>1014609</td>\n",
              "      <td>1014609</td>\n",
              "    </tr>\n",
              "  </tbody>\n",
              "</table>\n",
              "</div>"
            ],
            "text/plain": [
              "     badid   goodid\n",
              "0  1027859  1252408\n",
              "1  1017615      668\n",
              "2  6745885  1268522\n",
              "3  1018110  1018110\n",
              "4  1014609  1014609"
            ]
          },
          "metadata": {
            "tags": []
          },
          "execution_count": 14
        }
      ]
    },
    {
      "cell_type": "code",
      "metadata": {
        "colab": {
          "base_uri": "https://localhost:8080/",
          "height": 294
        },
        "id": "jhDdOGOuPkT5",
        "outputId": "9329a065-8ddc-4f11-d5e5-26e7813015fd"
      },
      "source": [
        "temp1.describe()"
      ],
      "execution_count": null,
      "outputs": [
        {
          "output_type": "execute_result",
          "data": {
            "text/html": [
              "<div>\n",
              "<style scoped>\n",
              "    .dataframe tbody tr th:only-of-type {\n",
              "        vertical-align: middle;\n",
              "    }\n",
              "\n",
              "    .dataframe tbody tr th {\n",
              "        vertical-align: top;\n",
              "    }\n",
              "\n",
              "    .dataframe thead th {\n",
              "        text-align: right;\n",
              "    }\n",
              "</style>\n",
              "<table border=\"1\" class=\"dataframe\">\n",
              "  <thead>\n",
              "    <tr style=\"text-align: right;\">\n",
              "      <th></th>\n",
              "      <th>badid</th>\n",
              "      <th>goodid</th>\n",
              "    </tr>\n",
              "  </thead>\n",
              "  <tbody>\n",
              "    <tr>\n",
              "      <th>count</th>\n",
              "      <td>5.870000e+02</td>\n",
              "      <td>5.870000e+02</td>\n",
              "    </tr>\n",
              "    <tr>\n",
              "      <th>mean</th>\n",
              "      <td>3.348950e+06</td>\n",
              "      <td>1.469856e+06</td>\n",
              "    </tr>\n",
              "    <tr>\n",
              "      <th>std</th>\n",
              "      <td>3.223688e+06</td>\n",
              "      <td>1.830129e+06</td>\n",
              "    </tr>\n",
              "    <tr>\n",
              "      <th>min</th>\n",
              "      <td>1.500000e+01</td>\n",
              "      <td>1.500000e+01</td>\n",
              "    </tr>\n",
              "    <tr>\n",
              "      <th>25%</th>\n",
              "      <td>1.060312e+06</td>\n",
              "      <td>1.006480e+06</td>\n",
              "    </tr>\n",
              "    <tr>\n",
              "      <th>50%</th>\n",
              "      <td>1.291110e+06</td>\n",
              "      <td>1.034635e+06</td>\n",
              "    </tr>\n",
              "    <tr>\n",
              "      <th>75%</th>\n",
              "      <td>6.664274e+06</td>\n",
              "      <td>1.259498e+06</td>\n",
              "    </tr>\n",
              "    <tr>\n",
              "      <th>max</th>\n",
              "      <td>1.071344e+07</td>\n",
              "      <td>1.036161e+07</td>\n",
              "    </tr>\n",
              "  </tbody>\n",
              "</table>\n",
              "</div>"
            ],
            "text/plain": [
              "              badid        goodid\n",
              "count  5.870000e+02  5.870000e+02\n",
              "mean   3.348950e+06  1.469856e+06\n",
              "std    3.223688e+06  1.830129e+06\n",
              "min    1.500000e+01  1.500000e+01\n",
              "25%    1.060312e+06  1.006480e+06\n",
              "50%    1.291110e+06  1.034635e+06\n",
              "75%    6.664274e+06  1.259498e+06\n",
              "max    1.071344e+07  1.036161e+07"
            ]
          },
          "metadata": {
            "tags": []
          },
          "execution_count": 15
        }
      ]
    },
    {
      "cell_type": "code",
      "metadata": {
        "colab": {
          "base_uri": "https://localhost:8080/",
          "height": 202
        },
        "id": "V8RlLIvEPsMc",
        "outputId": "a5453f49-0225-41d2-8f48-3b66c013af9c"
      },
      "source": [
        "temp2= pd.read_csv(\"/content/sample_data/artist_data_small.csv\")\n",
        "temp2.head()\n"
      ],
      "execution_count": null,
      "outputs": [
        {
          "output_type": "execute_result",
          "data": {
            "text/html": [
              "<div>\n",
              "<style scoped>\n",
              "    .dataframe tbody tr th:only-of-type {\n",
              "        vertical-align: middle;\n",
              "    }\n",
              "\n",
              "    .dataframe tbody tr th {\n",
              "        vertical-align: top;\n",
              "    }\n",
              "\n",
              "    .dataframe thead th {\n",
              "        text-align: right;\n",
              "    }\n",
              "</style>\n",
              "<table border=\"1\" class=\"dataframe\">\n",
              "  <thead>\n",
              "    <tr style=\"text-align: right;\">\n",
              "      <th></th>\n",
              "      <th>artistid</th>\n",
              "      <th>artist_name</th>\n",
              "    </tr>\n",
              "  </thead>\n",
              "  <tbody>\n",
              "    <tr>\n",
              "      <th>0</th>\n",
              "      <td>1240113</td>\n",
              "      <td>riow arai</td>\n",
              "    </tr>\n",
              "    <tr>\n",
              "      <th>1</th>\n",
              "      <td>1240132</td>\n",
              "      <td>Outkast &amp; Rage Against the Machine</td>\n",
              "    </tr>\n",
              "    <tr>\n",
              "      <th>2</th>\n",
              "      <td>6776115</td>\n",
              "      <td>小松正夫</td>\n",
              "    </tr>\n",
              "    <tr>\n",
              "      <th>3</th>\n",
              "      <td>1030848</td>\n",
              "      <td>Raver's Nature</td>\n",
              "    </tr>\n",
              "    <tr>\n",
              "      <th>4</th>\n",
              "      <td>6671601</td>\n",
              "      <td>Erguner, Kudsi</td>\n",
              "    </tr>\n",
              "  </tbody>\n",
              "</table>\n",
              "</div>"
            ],
            "text/plain": [
              "   artistid                         artist_name\n",
              "0   1240113                           riow arai\n",
              "1   1240132  Outkast & Rage Against the Machine\n",
              "2   6776115                                小松正夫\n",
              "3   1030848                      Raver's Nature\n",
              "4   6671601                      Erguner, Kudsi"
            ]
          },
          "metadata": {
            "tags": []
          },
          "execution_count": 16
        }
      ]
    },
    {
      "cell_type": "code",
      "metadata": {
        "colab": {
          "base_uri": "https://localhost:8080/",
          "height": 294
        },
        "id": "DqzB1xepTga7",
        "outputId": "7e94e9de-7f82-4390-e67e-7562bcc888f7"
      },
      "source": [
        "temp2.describe()"
      ],
      "execution_count": null,
      "outputs": [
        {
          "output_type": "execute_result",
          "data": {
            "text/html": [
              "<div>\n",
              "<style scoped>\n",
              "    .dataframe tbody tr th:only-of-type {\n",
              "        vertical-align: middle;\n",
              "    }\n",
              "\n",
              "    .dataframe tbody tr th {\n",
              "        vertical-align: top;\n",
              "    }\n",
              "\n",
              "    .dataframe thead th {\n",
              "        text-align: right;\n",
              "    }\n",
              "</style>\n",
              "<table border=\"1\" class=\"dataframe\">\n",
              "  <thead>\n",
              "    <tr style=\"text-align: right;\">\n",
              "      <th></th>\n",
              "      <th>artistid</th>\n",
              "    </tr>\n",
              "  </thead>\n",
              "  <tbody>\n",
              "    <tr>\n",
              "      <th>count</th>\n",
              "      <td>3.053700e+04</td>\n",
              "    </tr>\n",
              "    <tr>\n",
              "      <th>mean</th>\n",
              "      <td>2.723610e+06</td>\n",
              "    </tr>\n",
              "    <tr>\n",
              "      <th>std</th>\n",
              "      <td>2.875962e+06</td>\n",
              "    </tr>\n",
              "    <tr>\n",
              "      <th>min</th>\n",
              "      <td>1.000000e+00</td>\n",
              "    </tr>\n",
              "    <tr>\n",
              "      <th>25%</th>\n",
              "      <td>1.033180e+06</td>\n",
              "    </tr>\n",
              "    <tr>\n",
              "      <th>50%</th>\n",
              "      <td>1.238800e+06</td>\n",
              "    </tr>\n",
              "    <tr>\n",
              "      <th>75%</th>\n",
              "      <td>2.164639e+06</td>\n",
              "    </tr>\n",
              "    <tr>\n",
              "      <th>max</th>\n",
              "      <td>1.078822e+07</td>\n",
              "    </tr>\n",
              "  </tbody>\n",
              "</table>\n",
              "</div>"
            ],
            "text/plain": [
              "           artistid\n",
              "count  3.053700e+04\n",
              "mean   2.723610e+06\n",
              "std    2.875962e+06\n",
              "min    1.000000e+00\n",
              "25%    1.033180e+06\n",
              "50%    1.238800e+06\n",
              "75%    2.164639e+06\n",
              "max    1.078822e+07"
            ]
          },
          "metadata": {
            "tags": []
          },
          "execution_count": 17
        }
      ]
    },
    {
      "cell_type": "code",
      "metadata": {
        "colab": {
          "base_uri": "https://localhost:8080/",
          "height": 202
        },
        "id": "WTPdDIzUTlEo",
        "outputId": "c6531ed2-1229-4874-eb79-b024091692d7"
      },
      "source": [
        "temp3 = pd.read_csv(\"/content/sample_data/user_artist_data_small.csv\")\n",
        "temp3.head()"
      ],
      "execution_count": null,
      "outputs": [
        {
          "output_type": "execute_result",
          "data": {
            "text/html": [
              "<div>\n",
              "<style scoped>\n",
              "    .dataframe tbody tr th:only-of-type {\n",
              "        vertical-align: middle;\n",
              "    }\n",
              "\n",
              "    .dataframe tbody tr th {\n",
              "        vertical-align: top;\n",
              "    }\n",
              "\n",
              "    .dataframe thead th {\n",
              "        text-align: right;\n",
              "    }\n",
              "</style>\n",
              "<table border=\"1\" class=\"dataframe\">\n",
              "  <thead>\n",
              "    <tr style=\"text-align: right;\">\n",
              "      <th></th>\n",
              "      <th>userid</th>\n",
              "      <th>artistid</th>\n",
              "      <th>playcount</th>\n",
              "    </tr>\n",
              "  </thead>\n",
              "  <tbody>\n",
              "    <tr>\n",
              "      <th>0</th>\n",
              "      <td>1059637</td>\n",
              "      <td>1000010</td>\n",
              "      <td>238</td>\n",
              "    </tr>\n",
              "    <tr>\n",
              "      <th>1</th>\n",
              "      <td>1059637</td>\n",
              "      <td>1000049</td>\n",
              "      <td>1</td>\n",
              "    </tr>\n",
              "    <tr>\n",
              "      <th>2</th>\n",
              "      <td>1059637</td>\n",
              "      <td>1000056</td>\n",
              "      <td>1</td>\n",
              "    </tr>\n",
              "    <tr>\n",
              "      <th>3</th>\n",
              "      <td>1059637</td>\n",
              "      <td>1000062</td>\n",
              "      <td>11</td>\n",
              "    </tr>\n",
              "    <tr>\n",
              "      <th>4</th>\n",
              "      <td>1059637</td>\n",
              "      <td>1000094</td>\n",
              "      <td>1</td>\n",
              "    </tr>\n",
              "  </tbody>\n",
              "</table>\n",
              "</div>"
            ],
            "text/plain": [
              "    userid artistid playcount\n",
              "0  1059637  1000010       238\n",
              "1  1059637  1000049         1\n",
              "2  1059637  1000056         1\n",
              "3  1059637  1000062        11\n",
              "4  1059637  1000094         1"
            ]
          },
          "metadata": {
            "tags": []
          },
          "execution_count": 18
        }
      ]
    },
    {
      "cell_type": "code",
      "metadata": {
        "colab": {
          "base_uri": "https://localhost:8080/",
          "height": 294
        },
        "id": "pExEEP3sToya",
        "outputId": "514feca0-b8dd-4710-a098-7bc253f9e25b"
      },
      "source": [
        "temp3.describe()"
      ],
      "execution_count": null,
      "outputs": [
        {
          "output_type": "execute_result",
          "data": {
            "text/html": [
              "<div>\n",
              "<style scoped>\n",
              "    .dataframe tbody tr th:only-of-type {\n",
              "        vertical-align: middle;\n",
              "    }\n",
              "\n",
              "    .dataframe tbody tr th {\n",
              "        vertical-align: top;\n",
              "    }\n",
              "\n",
              "    .dataframe thead th {\n",
              "        text-align: right;\n",
              "    }\n",
              "</style>\n",
              "<table border=\"1\" class=\"dataframe\">\n",
              "  <thead>\n",
              "    <tr style=\"text-align: right;\">\n",
              "      <th></th>\n",
              "      <th>userid</th>\n",
              "    </tr>\n",
              "  </thead>\n",
              "  <tbody>\n",
              "    <tr>\n",
              "      <th>count</th>\n",
              "      <td>4.948100e+04</td>\n",
              "    </tr>\n",
              "    <tr>\n",
              "      <th>mean</th>\n",
              "      <td>1.328420e+06</td>\n",
              "    </tr>\n",
              "    <tr>\n",
              "      <th>std</th>\n",
              "      <td>4.529913e+05</td>\n",
              "    </tr>\n",
              "    <tr>\n",
              "      <th>min</th>\n",
              "      <td>1.000647e+06</td>\n",
              "    </tr>\n",
              "    <tr>\n",
              "      <th>25%</th>\n",
              "      <td>1.024631e+06</td>\n",
              "    </tr>\n",
              "    <tr>\n",
              "      <th>50%</th>\n",
              "      <td>1.059245e+06</td>\n",
              "    </tr>\n",
              "    <tr>\n",
              "      <th>75%</th>\n",
              "      <td>2.010008e+06</td>\n",
              "    </tr>\n",
              "    <tr>\n",
              "      <th>max</th>\n",
              "      <td>2.288164e+06</td>\n",
              "    </tr>\n",
              "  </tbody>\n",
              "</table>\n",
              "</div>"
            ],
            "text/plain": [
              "             userid\n",
              "count  4.948100e+04\n",
              "mean   1.328420e+06\n",
              "std    4.529913e+05\n",
              "min    1.000647e+06\n",
              "25%    1.024631e+06\n",
              "50%    1.059245e+06\n",
              "75%    2.010008e+06\n",
              "max    2.288164e+06"
            ]
          },
          "metadata": {
            "tags": []
          },
          "execution_count": 19
        }
      ]
    },
    {
      "cell_type": "code",
      "metadata": {
        "id": "Yf8lUE-8aFZS",
        "colab": {
          "base_uri": "https://localhost:8080/"
        },
        "outputId": "6df18212-c7dc-4a39-e630-2da32dafec5c"
      },
      "source": [
        "userPlayList = userArtistData.map(lambda x: (x[0], (x[1], x[2]))).aggregateByKey((0,0),\\\n",
        "               (lambda x,y: (x[0] + 1, x[1] + y[1])),\\\n",
        "               (lambda rdd1, rdd2: (rdd1[0]+rdd2[0], rdd1[1]+rdd2[1]))).map(lambda t: (t[0], t[1][1], t[1][1]//t[1][0]))\n",
        "top3Users = userPlayList.sortBy(ascending=False, keyfunc=(lambda x: x[1])).take(3)\n",
        "for t in top3Users:\n",
        "    print(\"User \" + str(t[0]) + \" has a total play count of \"+ str(t[1]) +\" and a mean play count of \"+ str(t[2]) + \".\")"
      ],
      "execution_count": null,
      "outputs": [
        {
          "output_type": "stream",
          "text": [
            "User 1059637 has a total play count of 674412 and a mean play count of 1878.\n",
            "User 2064012 has a total play count of 548427 and a mean play count of 9455.\n",
            "User 2069337 has a total play count of 393515 and a mean play count of 1519.\n"
          ],
          "name": "stdout"
        }
      ]
    },
    {
      "cell_type": "code",
      "metadata": {
        "colab": {
          "base_uri": "https://localhost:8080/"
        },
        "id": "nB_t7ErbjiWV",
        "outputId": "fb5c78ba-8ad7-4049-91dd-a199858625b1"
      },
      "source": [
        "trainData, validationData, testData = userArtistData.randomSplit([0.4,0.4,0.2], 13)\n",
        "print(trainData.take(3))\n",
        "print(validationData.take(3))\n",
        "print(testData.take(3))\n",
        "print(trainData.count())\n",
        "print(validationData.count())\n",
        "print(testData.count())\n",
        "trainData.cache()\n",
        "validationData.cache()\n",
        "testData.cache()"
      ],
      "execution_count": null,
      "outputs": [
        {
          "output_type": "stream",
          "text": [
            "[(1059637, 1000049, 1), (1059637, 1000056, 1), (1059637, 1000114, 2)]\n",
            "[(1059637, 1000010, 238), (1059637, 1000062, 11), (1059637, 1000123, 2)]\n",
            "[(1059637, 1000094, 1), (1059637, 1000112, 423), (1059637, 1000113, 5)]\n",
            "19769\n",
            "19690\n",
            "10022\n"
          ],
          "name": "stdout"
        },
        {
          "output_type": "execute_result",
          "data": {
            "text/plain": [
              "PythonRDD[26] at RDD at PythonRDD.scala:53"
            ]
          },
          "metadata": {
            "tags": []
          },
          "execution_count": 21
        }
      ]
    },
    {
      "cell_type": "code",
      "metadata": {
        "id": "fvAiUkRpjroe"
      },
      "source": [
        "def modelEval(model, dataset):\n",
        "    \n",
        "    #get all users and artists\n",
        "    allUser = set(userArtistData.map(lambda x: (x[0])).collect())\n",
        "    allArtist = set(userArtistData.map(lambda x: (x[1])).collect())\n",
        "\n",
        "    #get dictionary of user and their artists for traindata and validation data\n",
        "    trainUserArtist = trainData.map(lambda x: (x[0], {x[1]})).reduceByKey(lambda x,y: x.union(y)).collectAsMap()\n",
        "    datasetUserArtist = validationData.map(lambda x: (x[0], {x[1]})).reduceByKey(lambda x,y: x.union(y)).collectAsMap()\n",
        "    \n",
        "    overAllScore = 0\n",
        "    for user in allUser:\n",
        "        # all actual user preferred artists\n",
        "        actualUserArtist = datasetUserArtist[user]\n",
        "        # all artist except that from traindata\n",
        "        nonTrainDataArtist = allArtist - trainUserArtist[user]\n",
        "        # prepare the test data consisting of tuples (user, product) => (user, artist)\n",
        "        test = map(lambda x: (user, x), nonTrainDataArtist)\n",
        "        # convert the set into rdd as rdd is required by predictAll method\n",
        "        testRDD = sc.parallelize(test)\n",
        "        # predict the ratings\n",
        "        predictedUserArtist = model.predictAll(testRDD)\n",
        "        # sort the ratings in descending order of ratings\n",
        "        sortedPrediction = predictedUserArtist.sortBy(ascending=False, keyfunc=lambda x: x.rating)\n",
        "        # get number of top artists equal to number of actual artist for the user\n",
        "        c = len(actualUserArtist)\n",
        "        predictedSet = set(sortedPrediction.map(lambda x: x.product).take(c))\n",
        "        # take the intersection of actual artist and predicted artist for a user and calculate the score\n",
        "        correctPrediction = predictedSet.intersection(actualUserArtist)\n",
        "        overAllScore += float(len(correctPrediction)) / c\n",
        "\n",
        "    return \"The model score for rank \"+str(model.rank)+\" is \"+str(overAllScore/len(allUser))\n"
      ],
      "execution_count": null,
      "outputs": []
    },
    {
      "cell_type": "code",
      "metadata": {
        "colab": {
          "base_uri": "https://localhost:8080/"
        },
        "id": "1i4jX84XMg7n",
        "outputId": "13425ca3-8328-4b02-9c48-e6a5225c6150"
      },
      "source": [
        "model = ALS.trainImplicit(trainData, rank=2, seed=345)\n",
        "print(modelEval(model, validationData))\n",
        "model = ALS.trainImplicit(trainData, rank=10, seed=345)\n",
        "print(modelEval(model, validationData))\n",
        "model = ALS.trainImplicit(trainData, rank=20, seed=345)\n",
        "print(modelEval(model, validationData))"
      ],
      "execution_count": null,
      "outputs": [
        {
          "output_type": "stream",
          "text": [
            "The model score for rank 2 is 0.08616827592156559\n",
            "The model score for rank 10 is 0.09441971719854263\n",
            "The model score for rank 20 is 0.08408995233356337\n"
          ],
          "name": "stdout"
        }
      ]
    },
    {
      "cell_type": "code",
      "metadata": {
        "colab": {
          "base_uri": "https://localhost:8080/",
          "height": 35
        },
        "id": "Eegq167QMm9K",
        "outputId": "c9aa05c5-3f1f-4294-9778-1e55e8254b16"
      },
      "source": [
        "bestModel = ALS.trainImplicit(trainData, rank=10, seed=345)\n",
        "modelEval(bestModel, testData)"
      ],
      "execution_count": null,
      "outputs": [
        {
          "output_type": "execute_result",
          "data": {
            "application/vnd.google.colaboratory.intrinsic+json": {
              "type": "string"
            },
            "text/plain": [
              "'The model score for rank 10 is 0.09441971719854263'"
            ]
          },
          "metadata": {
            "tags": []
          },
          "execution_count": 25
        }
      ]
    },
    {
      "cell_type": "code",
      "metadata": {
        "colab": {
          "base_uri": "https://localhost:8080/"
        },
        "id": "dFB1G4bWMpj5",
        "outputId": "6c738a69-23d4-48a4-daa3-4ef910e31b7d"
      },
      "source": [
        "artistDict = artistData.collectAsMap()\n",
        "userid=1059334\n",
        "ratings = bestModel.recommendProducts(userid, 5)\n",
        "ratingsArtists = map(lambda r : r.product, ratings)\n",
        "i=1\n",
        "print(\"Artist recommendations for user with \",userid,\" are:\")\n",
        "for artist in ratingsArtists:\n",
        "    print(\"Artist \"+ str(i)+ \":\",artistDict[artist])\n",
        "    i+=1"
      ],
      "execution_count": null,
      "outputs": [
        {
          "output_type": "stream",
          "text": [
            "Artist recommendations for user with  1059334  are:\n",
            "Artist 1: The Shins\n",
            "Artist 2: My Bloody Valentine\n",
            "Artist 3: The 5.6.7.8's\n",
            "Artist 4: The Microphones\n",
            "Artist 5: Hanson\n"
          ],
          "name": "stdout"
        }
      ]
    }
  ]
}