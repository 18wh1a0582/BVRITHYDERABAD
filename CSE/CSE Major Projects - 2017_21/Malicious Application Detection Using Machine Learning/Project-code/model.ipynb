{
 "cells": [
  {
   "cell_type": "code",
   "execution_count": 1,
   "metadata": {},
   "outputs": [],
   "source": [
    "import warnings\n",
    "warnings.filterwarnings('ignore')\n",
    "import pandas as pd  #cv\n",
    "import numpy as np\n",
    "import seaborn as sns\n",
    "from sklearn.svm import SVC\n",
    "from sklearn.model_selection import KFold\n",
    "from sklearn import preprocessing\n",
    "import matplotlib.pyplot as plt"
   ]
  },
  {
   "cell_type": "code",
   "execution_count": 2,
   "metadata": {},
   "outputs": [],
   "source": [
    "data=pd.read_csv('android.csv')"
   ]
  },
  {
   "cell_type": "code",
   "execution_count": 3,
   "metadata": {},
   "outputs": [
    {
     "data": {
      "text/html": [
       "<div>\n",
       "<style scoped>\n",
       "    .dataframe tbody tr th:only-of-type {\n",
       "        vertical-align: middle;\n",
       "    }\n",
       "\n",
       "    .dataframe tbody tr th {\n",
       "        vertical-align: top;\n",
       "    }\n",
       "\n",
       "    .dataframe thead th {\n",
       "        text-align: right;\n",
       "    }\n",
       "</style>\n",
       "<table border=\"1\" class=\"dataframe\">\n",
       "  <thead>\n",
       "    <tr style=\"text-align: right;\">\n",
       "      <th></th>\n",
       "      <th>name</th>\n",
       "      <th>cpu-usage</th>\n",
       "      <th>context-switch</th>\n",
       "      <th>cpu-migration</th>\n",
       "      <th>page-faults</th>\n",
       "      <th>cycles-GHz</th>\n",
       "      <th>stalled-cycles-frontend-percent</th>\n",
       "      <th>stalled-cycles-backend-percent</th>\n",
       "      <th>Instructions-per-cycle</th>\n",
       "      <th>stalled-cycles-per-instruction</th>\n",
       "      <th>branches</th>\n",
       "      <th>branch-misses-percent</th>\n",
       "      <th>bus-cycle</th>\n",
       "      <th>cache-misses-percent</th>\n",
       "      <th>cache-references</th>\n",
       "      <th>ref-cycles</th>\n",
       "      <th>malware</th>\n",
       "    </tr>\n",
       "  </thead>\n",
       "  <tbody>\n",
       "    <tr>\n",
       "      <th>0</th>\n",
       "      <td>ping</td>\n",
       "      <td>0.000</td>\n",
       "      <td>5.000</td>\n",
       "      <td>0.000</td>\n",
       "      <td>10.0</td>\n",
       "      <td>1.030</td>\n",
       "      <td>164.64</td>\n",
       "      <td>146.36</td>\n",
       "      <td>0.61</td>\n",
       "      <td>2.72</td>\n",
       "      <td>58266.0</td>\n",
       "      <td>26.43</td>\n",
       "      <td>85861</td>\n",
       "      <td>111.667</td>\n",
       "      <td>19973.0</td>\n",
       "      <td>2060667</td>\n",
       "      <td>0</td>\n",
       "    </tr>\n",
       "    <tr>\n",
       "      <th>1</th>\n",
       "      <td>curl</td>\n",
       "      <td>0.014</td>\n",
       "      <td>5.000</td>\n",
       "      <td>0.601</td>\n",
       "      <td>14.0</td>\n",
       "      <td>0.072</td>\n",
       "      <td>317.32</td>\n",
       "      <td>255.84</td>\n",
       "      <td>18.07</td>\n",
       "      <td>0.18</td>\n",
       "      <td>135878.0</td>\n",
       "      <td>7.95</td>\n",
       "      <td>75561</td>\n",
       "      <td>86.263</td>\n",
       "      <td>13152.0</td>\n",
       "      <td>2119754</td>\n",
       "      <td>0</td>\n",
       "    </tr>\n",
       "    <tr>\n",
       "      <th>2</th>\n",
       "      <td>top</td>\n",
       "      <td>0.005</td>\n",
       "      <td>0.219</td>\n",
       "      <td>0.060</td>\n",
       "      <td>6.0</td>\n",
       "      <td>0.071</td>\n",
       "      <td>247.85</td>\n",
       "      <td>266.19</td>\n",
       "      <td>11.33</td>\n",
       "      <td>0.24</td>\n",
       "      <td>104448.0</td>\n",
       "      <td>3.49</td>\n",
       "      <td>54497</td>\n",
       "      <td>106.584</td>\n",
       "      <td>4657.0</td>\n",
       "      <td>1781822</td>\n",
       "      <td>0</td>\n",
       "    </tr>\n",
       "    <tr>\n",
       "      <th>3</th>\n",
       "      <td>unzip</td>\n",
       "      <td>0.001</td>\n",
       "      <td>0.717</td>\n",
       "      <td>0.000</td>\n",
       "      <td>16.0</td>\n",
       "      <td>0.012</td>\n",
       "      <td>2346.59</td>\n",
       "      <td>2664.54</td>\n",
       "      <td>79.12</td>\n",
       "      <td>0.34</td>\n",
       "      <td>93458.0</td>\n",
       "      <td>14.89</td>\n",
       "      <td>97912</td>\n",
       "      <td>73.217</td>\n",
       "      <td>7863.0</td>\n",
       "      <td>2349887</td>\n",
       "      <td>0</td>\n",
       "    </tr>\n",
       "    <tr>\n",
       "      <th>4</th>\n",
       "      <td>system-monitor</td>\n",
       "      <td>0.182</td>\n",
       "      <td>11.000</td>\n",
       "      <td>0.181</td>\n",
       "      <td>4.0</td>\n",
       "      <td>1.527</td>\n",
       "      <td>60.68</td>\n",
       "      <td>48.13</td>\n",
       "      <td>0.88</td>\n",
       "      <td>0.69</td>\n",
       "      <td>289124.0</td>\n",
       "      <td>2.14</td>\n",
       "      <td>87246</td>\n",
       "      <td>23.621</td>\n",
       "      <td>19071.0</td>\n",
       "      <td>2140178</td>\n",
       "      <td>0</td>\n",
       "    </tr>\n",
       "    <tr>\n",
       "      <th>...</th>\n",
       "      <td>...</td>\n",
       "      <td>...</td>\n",
       "      <td>...</td>\n",
       "      <td>...</td>\n",
       "      <td>...</td>\n",
       "      <td>...</td>\n",
       "      <td>...</td>\n",
       "      <td>...</td>\n",
       "      <td>...</td>\n",
       "      <td>...</td>\n",
       "      <td>...</td>\n",
       "      <td>...</td>\n",
       "      <td>...</td>\n",
       "      <td>...</td>\n",
       "      <td>...</td>\n",
       "      <td>...</td>\n",
       "      <td>...</td>\n",
       "    </tr>\n",
       "    <tr>\n",
       "      <th>65</th>\n",
       "      <td>41089</td>\n",
       "      <td>0.337</td>\n",
       "      <td>1.000</td>\n",
       "      <td>0.000</td>\n",
       "      <td>49.0</td>\n",
       "      <td>1.054</td>\n",
       "      <td>149.29</td>\n",
       "      <td>125.43</td>\n",
       "      <td>1.00</td>\n",
       "      <td>1.50</td>\n",
       "      <td>100617.0</td>\n",
       "      <td>11.06</td>\n",
       "      <td>95818</td>\n",
       "      <td>123.367</td>\n",
       "      <td>15136.0</td>\n",
       "      <td>2299597</td>\n",
       "      <td>1</td>\n",
       "    </tr>\n",
       "    <tr>\n",
       "      <th>66</th>\n",
       "      <td>41375</td>\n",
       "      <td>0.038</td>\n",
       "      <td>0.204</td>\n",
       "      <td>0.020</td>\n",
       "      <td>18.0</td>\n",
       "      <td>1.496</td>\n",
       "      <td>61.99</td>\n",
       "      <td>47.42</td>\n",
       "      <td>1.04</td>\n",
       "      <td>0.60</td>\n",
       "      <td>321071.0</td>\n",
       "      <td>3.94</td>\n",
       "      <td>95535</td>\n",
       "      <td>31.285</td>\n",
       "      <td>13880.0</td>\n",
       "      <td>2356069</td>\n",
       "      <td>1</td>\n",
       "    </tr>\n",
       "    <tr>\n",
       "      <th>67</th>\n",
       "      <td>42485</td>\n",
       "      <td>0.001</td>\n",
       "      <td>0.781</td>\n",
       "      <td>0.000</td>\n",
       "      <td>40.0</td>\n",
       "      <td>0.314</td>\n",
       "      <td>381.38</td>\n",
       "      <td>314.04</td>\n",
       "      <td>3.05</td>\n",
       "      <td>1.25</td>\n",
       "      <td>93834.0</td>\n",
       "      <td>13.17</td>\n",
       "      <td>94456</td>\n",
       "      <td>119.862</td>\n",
       "      <td>12337.0</td>\n",
       "      <td>2266964</td>\n",
       "      <td>1</td>\n",
       "    </tr>\n",
       "    <tr>\n",
       "      <th>68</th>\n",
       "      <td>43552</td>\n",
       "      <td>0.630</td>\n",
       "      <td>0.000</td>\n",
       "      <td>0.000</td>\n",
       "      <td>44.0</td>\n",
       "      <td>0.165</td>\n",
       "      <td>803.32</td>\n",
       "      <td>664.66</td>\n",
       "      <td>6.28</td>\n",
       "      <td>1.28</td>\n",
       "      <td>102347.0</td>\n",
       "      <td>12.31</td>\n",
       "      <td>93360</td>\n",
       "      <td>108.567</td>\n",
       "      <td>13169.0</td>\n",
       "      <td>2240652</td>\n",
       "      <td>1</td>\n",
       "    </tr>\n",
       "    <tr>\n",
       "      <th>69</th>\n",
       "      <td>43557</td>\n",
       "      <td>0.001</td>\n",
       "      <td>9.000</td>\n",
       "      <td>0.000</td>\n",
       "      <td>9.0</td>\n",
       "      <td>1.047</td>\n",
       "      <td>148.52</td>\n",
       "      <td>128.07</td>\n",
       "      <td>0.95</td>\n",
       "      <td>1.56</td>\n",
       "      <td>86291.0</td>\n",
       "      <td>13.61</td>\n",
       "      <td>89078</td>\n",
       "      <td>112.547</td>\n",
       "      <td>19866.0</td>\n",
       "      <td>2137934</td>\n",
       "      <td>1</td>\n",
       "    </tr>\n",
       "  </tbody>\n",
       "</table>\n",
       "<p>70 rows × 17 columns</p>\n",
       "</div>"
      ],
      "text/plain": [
       "              name  cpu-usage  context-switch  cpu-migration  page-faults  \\\n",
       "0             ping      0.000           5.000          0.000         10.0   \n",
       "1             curl      0.014           5.000          0.601         14.0   \n",
       "2              top      0.005           0.219          0.060          6.0   \n",
       "3            unzip      0.001           0.717          0.000         16.0   \n",
       "4   system-monitor      0.182          11.000          0.181          4.0   \n",
       "..             ...        ...             ...            ...          ...   \n",
       "65           41089      0.337           1.000          0.000         49.0   \n",
       "66           41375      0.038           0.204          0.020         18.0   \n",
       "67           42485      0.001           0.781          0.000         40.0   \n",
       "68           43552      0.630           0.000          0.000         44.0   \n",
       "69           43557      0.001           9.000          0.000          9.0   \n",
       "\n",
       "    cycles-GHz  stalled-cycles-frontend-percent  \\\n",
       "0        1.030                           164.64   \n",
       "1        0.072                           317.32   \n",
       "2        0.071                           247.85   \n",
       "3        0.012                          2346.59   \n",
       "4        1.527                            60.68   \n",
       "..         ...                              ...   \n",
       "65       1.054                           149.29   \n",
       "66       1.496                            61.99   \n",
       "67       0.314                           381.38   \n",
       "68       0.165                           803.32   \n",
       "69       1.047                           148.52   \n",
       "\n",
       "    stalled-cycles-backend-percent  Instructions-per-cycle  \\\n",
       "0                           146.36                    0.61   \n",
       "1                           255.84                   18.07   \n",
       "2                           266.19                   11.33   \n",
       "3                          2664.54                   79.12   \n",
       "4                            48.13                    0.88   \n",
       "..                             ...                     ...   \n",
       "65                          125.43                    1.00   \n",
       "66                           47.42                    1.04   \n",
       "67                          314.04                    3.05   \n",
       "68                          664.66                    6.28   \n",
       "69                          128.07                    0.95   \n",
       "\n",
       "    stalled-cycles-per-instruction  branches  branch-misses-percent  \\\n",
       "0                             2.72   58266.0                  26.43   \n",
       "1                             0.18  135878.0                   7.95   \n",
       "2                             0.24  104448.0                   3.49   \n",
       "3                             0.34   93458.0                  14.89   \n",
       "4                             0.69  289124.0                   2.14   \n",
       "..                             ...       ...                    ...   \n",
       "65                            1.50  100617.0                  11.06   \n",
       "66                            0.60  321071.0                   3.94   \n",
       "67                            1.25   93834.0                  13.17   \n",
       "68                            1.28  102347.0                  12.31   \n",
       "69                            1.56   86291.0                  13.61   \n",
       "\n",
       "    bus-cycle  cache-misses-percent  cache-references  ref-cycles  malware  \n",
       "0       85861               111.667           19973.0     2060667        0  \n",
       "1       75561                86.263           13152.0     2119754        0  \n",
       "2       54497               106.584            4657.0     1781822        0  \n",
       "3       97912                73.217            7863.0     2349887        0  \n",
       "4       87246                23.621           19071.0     2140178        0  \n",
       "..        ...                   ...               ...         ...      ...  \n",
       "65      95818               123.367           15136.0     2299597        1  \n",
       "66      95535                31.285           13880.0     2356069        1  \n",
       "67      94456               119.862           12337.0     2266964        1  \n",
       "68      93360               108.567           13169.0     2240652        1  \n",
       "69      89078               112.547           19866.0     2137934        1  \n",
       "\n",
       "[70 rows x 17 columns]"
      ]
     },
     "execution_count": 3,
     "metadata": {},
     "output_type": "execute_result"
    }
   ],
   "source": [
    "data"
   ]
  },
  {
   "cell_type": "code",
   "execution_count": 57,
   "metadata": {},
   "outputs": [
    {
     "data": {
      "text/plain": [
       "'name'"
      ]
     },
     "execution_count": 57,
     "metadata": {},
     "output_type": "execute_result"
    }
   ],
   "source": [
    "data.columns[0]"
   ]
  },
  {
   "cell_type": "code",
   "execution_count": 4,
   "metadata": {},
   "outputs": [
    {
     "data": {
      "text/plain": [
       "(70, 17)"
      ]
     },
     "execution_count": 4,
     "metadata": {},
     "output_type": "execute_result"
    }
   ],
   "source": [
    "data.shape"
   ]
  },
  {
   "cell_type": "code",
   "execution_count": 5,
   "metadata": {},
   "outputs": [],
   "source": [
    "data = data.sample(frac=1).reset_index(drop=True)"
   ]
  },
  {
   "cell_type": "code",
   "execution_count": 6,
   "metadata": {},
   "outputs": [
    {
     "data": {
      "text/html": [
       "<div>\n",
       "<style scoped>\n",
       "    .dataframe tbody tr th:only-of-type {\n",
       "        vertical-align: middle;\n",
       "    }\n",
       "\n",
       "    .dataframe tbody tr th {\n",
       "        vertical-align: top;\n",
       "    }\n",
       "\n",
       "    .dataframe thead th {\n",
       "        text-align: right;\n",
       "    }\n",
       "</style>\n",
       "<table border=\"1\" class=\"dataframe\">\n",
       "  <thead>\n",
       "    <tr style=\"text-align: right;\">\n",
       "      <th></th>\n",
       "      <th>name</th>\n",
       "      <th>cpu-usage</th>\n",
       "      <th>context-switch</th>\n",
       "      <th>cpu-migration</th>\n",
       "      <th>page-faults</th>\n",
       "      <th>cycles-GHz</th>\n",
       "      <th>stalled-cycles-frontend-percent</th>\n",
       "      <th>stalled-cycles-backend-percent</th>\n",
       "      <th>Instructions-per-cycle</th>\n",
       "      <th>stalled-cycles-per-instruction</th>\n",
       "      <th>branches</th>\n",
       "      <th>branch-misses-percent</th>\n",
       "      <th>bus-cycle</th>\n",
       "      <th>cache-misses-percent</th>\n",
       "      <th>cache-references</th>\n",
       "      <th>ref-cycles</th>\n",
       "      <th>malware</th>\n",
       "    </tr>\n",
       "  </thead>\n",
       "  <tbody>\n",
       "    <tr>\n",
       "      <th>0</th>\n",
       "      <td>head</td>\n",
       "      <td>0.093</td>\n",
       "      <td>5.000</td>\n",
       "      <td>0.190</td>\n",
       "      <td>13.0</td>\n",
       "      <td>0.803</td>\n",
       "      <td>157.03</td>\n",
       "      <td>109.53</td>\n",
       "      <td>2.72</td>\n",
       "      <td>0.58</td>\n",
       "      <td>348305.0</td>\n",
       "      <td>2.16</td>\n",
       "      <td>94846</td>\n",
       "      <td>58.688</td>\n",
       "      <td>12534.0</td>\n",
       "      <td>2276301</td>\n",
       "      <td>0</td>\n",
       "    </tr>\n",
       "    <tr>\n",
       "      <th>1</th>\n",
       "      <td>browser</td>\n",
       "      <td>0.571</td>\n",
       "      <td>2.000</td>\n",
       "      <td>0.099</td>\n",
       "      <td>15.0</td>\n",
       "      <td>1.368</td>\n",
       "      <td>58.01</td>\n",
       "      <td>47.29</td>\n",
       "      <td>0.75</td>\n",
       "      <td>0.77</td>\n",
       "      <td>214333.0</td>\n",
       "      <td>3.67</td>\n",
       "      <td>73294</td>\n",
       "      <td>30.224</td>\n",
       "      <td>17894.0</td>\n",
       "      <td>1716287</td>\n",
       "      <td>0</td>\n",
       "    </tr>\n",
       "    <tr>\n",
       "      <th>2</th>\n",
       "      <td>42485</td>\n",
       "      <td>0.001</td>\n",
       "      <td>0.781</td>\n",
       "      <td>0.000</td>\n",
       "      <td>40.0</td>\n",
       "      <td>0.314</td>\n",
       "      <td>381.38</td>\n",
       "      <td>314.04</td>\n",
       "      <td>3.05</td>\n",
       "      <td>1.25</td>\n",
       "      <td>93834.0</td>\n",
       "      <td>13.17</td>\n",
       "      <td>94456</td>\n",
       "      <td>119.862</td>\n",
       "      <td>12337.0</td>\n",
       "      <td>2266964</td>\n",
       "      <td>1</td>\n",
       "    </tr>\n",
       "    <tr>\n",
       "      <th>3</th>\n",
       "      <td>stickynotes</td>\n",
       "      <td>0.043</td>\n",
       "      <td>2.000</td>\n",
       "      <td>0.100</td>\n",
       "      <td>12.0</td>\n",
       "      <td>1.335</td>\n",
       "      <td>57.79</td>\n",
       "      <td>42.12</td>\n",
       "      <td>1.05</td>\n",
       "      <td>0.55</td>\n",
       "      <td>317460.0</td>\n",
       "      <td>3.86</td>\n",
       "      <td>88320</td>\n",
       "      <td>36.630</td>\n",
       "      <td>14588.0</td>\n",
       "      <td>2151632</td>\n",
       "      <td>0</td>\n",
       "    </tr>\n",
       "    <tr>\n",
       "      <th>4</th>\n",
       "      <td>calculator</td>\n",
       "      <td>0.062</td>\n",
       "      <td>2.000</td>\n",
       "      <td>0.189</td>\n",
       "      <td>5.0</td>\n",
       "      <td>1.100</td>\n",
       "      <td>48.84</td>\n",
       "      <td>35.02</td>\n",
       "      <td>0.96</td>\n",
       "      <td>0.51</td>\n",
       "      <td>231173.0</td>\n",
       "      <td>2.78</td>\n",
       "      <td>77247</td>\n",
       "      <td>42.083</td>\n",
       "      <td>13365.0</td>\n",
       "      <td>2000843</td>\n",
       "      <td>0</td>\n",
       "    </tr>\n",
       "  </tbody>\n",
       "</table>\n",
       "</div>"
      ],
      "text/plain": [
       "          name  cpu-usage  context-switch  cpu-migration  page-faults  \\\n",
       "0         head      0.093           5.000          0.190         13.0   \n",
       "1      browser      0.571           2.000          0.099         15.0   \n",
       "2        42485      0.001           0.781          0.000         40.0   \n",
       "3  stickynotes      0.043           2.000          0.100         12.0   \n",
       "4   calculator      0.062           2.000          0.189          5.0   \n",
       "\n",
       "   cycles-GHz  stalled-cycles-frontend-percent  \\\n",
       "0       0.803                           157.03   \n",
       "1       1.368                            58.01   \n",
       "2       0.314                           381.38   \n",
       "3       1.335                            57.79   \n",
       "4       1.100                            48.84   \n",
       "\n",
       "   stalled-cycles-backend-percent  Instructions-per-cycle  \\\n",
       "0                          109.53                    2.72   \n",
       "1                           47.29                    0.75   \n",
       "2                          314.04                    3.05   \n",
       "3                           42.12                    1.05   \n",
       "4                           35.02                    0.96   \n",
       "\n",
       "   stalled-cycles-per-instruction  branches  branch-misses-percent  bus-cycle  \\\n",
       "0                            0.58  348305.0                   2.16      94846   \n",
       "1                            0.77  214333.0                   3.67      73294   \n",
       "2                            1.25   93834.0                  13.17      94456   \n",
       "3                            0.55  317460.0                   3.86      88320   \n",
       "4                            0.51  231173.0                   2.78      77247   \n",
       "\n",
       "   cache-misses-percent  cache-references  ref-cycles  malware  \n",
       "0                58.688           12534.0     2276301        0  \n",
       "1                30.224           17894.0     1716287        0  \n",
       "2               119.862           12337.0     2266964        1  \n",
       "3                36.630           14588.0     2151632        0  \n",
       "4                42.083           13365.0     2000843        0  "
      ]
     },
     "execution_count": 6,
     "metadata": {},
     "output_type": "execute_result"
    }
   ],
   "source": [
    "data.head()"
   ]
  },
  {
   "cell_type": "code",
   "execution_count": 7,
   "metadata": {},
   "outputs": [],
   "source": [
    "import seaborn as sns"
   ]
  },
  {
   "cell_type": "code",
   "execution_count": 8,
   "metadata": {},
   "outputs": [
    {
     "data": {
      "text/plain": [
       "<matplotlib.axes._subplots.AxesSubplot at 0x2632bd26d68>"
      ]
     },
     "execution_count": 8,
     "metadata": {},
     "output_type": "execute_result"
    },
    {
     "data": {
      "image/png": "[encoded data removed]",
      "text/plain": [
       "<Figure size 432x288 with 1 Axes>"
      ]
     },
     "metadata": {
      "needs_background": "light"
     },
     "output_type": "display_data"
    }
   ],
   "source": [
    "sns.countplot(x='malware',data=data)"
   ]
  },
  {
   "cell_type": "code",
   "execution_count": 9,
   "metadata": {},
   "outputs": [
    {
     "name": "stdout",
     "output_type": "stream",
     "text": [
      "Class 0: 58\n",
      "Class 1: 12\n"
     ]
    }
   ],
   "source": [
    "target_count = data.malware.value_counts()\n",
    "print('Class 0:', target_count[0])\n",
    "print('Class 1:', target_count[1])"
   ]
  },
  {
   "cell_type": "code",
   "execution_count": 10,
   "metadata": {},
   "outputs": [],
   "source": [
    "count_class_0, count_class_1 = data.malware.value_counts()"
   ]
  },
  {
   "cell_type": "code",
   "execution_count": 11,
   "metadata": {},
   "outputs": [],
   "source": [
    "df_class_0 = data[data['malware'] == 0]\n",
    "df_class_1 = data[data['malware'] == 1]"
   ]
  },
  {
   "cell_type": "code",
   "execution_count": 12,
   "metadata": {},
   "outputs": [],
   "source": [
    "df_class_1_over = df_class_1.sample(count_class_0, replace=True)\n",
    "df_test_over = pd.concat([df_class_0, df_class_1_over], axis=0)\n"
   ]
  },
  {
   "cell_type": "code",
   "execution_count": 13,
   "metadata": {},
   "outputs": [
    {
     "data": {
      "text/plain": [
       "(116, 17)"
      ]
     },
     "execution_count": 13,
     "metadata": {},
     "output_type": "execute_result"
    }
   ],
   "source": [
    "df_test_over.shape"
   ]
  },
  {
   "cell_type": "code",
   "execution_count": 14,
   "metadata": {},
   "outputs": [
    {
     "data": {
      "text/plain": [
       "<matplotlib.axes._subplots.AxesSubplot at 0x2632de242b0>"
      ]
     },
     "execution_count": 14,
     "metadata": {},
     "output_type": "execute_result"
    },
    {
     "data": {
      "image/png": "[encoded data removed]",
      "text/plain": [
       "<Figure size 432x288 with 1 Axes>"
      ]
     },
     "metadata": {
      "needs_background": "light"
     },
     "output_type": "display_data"
    }
   ],
   "source": [
    "sns.countplot(x='malware',data=df_test_over)"
   ]
  },
  {
   "cell_type": "code",
   "execution_count": 15,
   "metadata": {},
   "outputs": [],
   "source": [
    "X=df_test_over.iloc[:,df_test_over.columns !='malware']\n",
    "Y=df_test_over.iloc[:,df_test_over.columns ==\"malware\"]"
   ]
  },
  {
   "cell_type": "code",
   "execution_count": 16,
   "metadata": {},
   "outputs": [
    {
     "data": {
      "text/html": [
       "<div>\n",
       "<style scoped>\n",
       "    .dataframe tbody tr th:only-of-type {\n",
       "        vertical-align: middle;\n",
       "    }\n",
       "\n",
       "    .dataframe tbody tr th {\n",
       "        vertical-align: top;\n",
       "    }\n",
       "\n",
       "    .dataframe thead th {\n",
       "        text-align: right;\n",
       "    }\n",
       "</style>\n",
       "<table border=\"1\" class=\"dataframe\">\n",
       "  <thead>\n",
       "    <tr style=\"text-align: right;\">\n",
       "      <th></th>\n",
       "      <th>name</th>\n",
       "      <th>cpu-usage</th>\n",
       "      <th>context-switch</th>\n",
       "      <th>cpu-migration</th>\n",
       "      <th>page-faults</th>\n",
       "      <th>cycles-GHz</th>\n",
       "      <th>stalled-cycles-frontend-percent</th>\n",
       "      <th>stalled-cycles-backend-percent</th>\n",
       "      <th>Instructions-per-cycle</th>\n",
       "      <th>stalled-cycles-per-instruction</th>\n",
       "      <th>branches</th>\n",
       "      <th>branch-misses-percent</th>\n",
       "      <th>bus-cycle</th>\n",
       "      <th>cache-misses-percent</th>\n",
       "      <th>cache-references</th>\n",
       "      <th>ref-cycles</th>\n",
       "    </tr>\n",
       "  </thead>\n",
       "  <tbody>\n",
       "    <tr>\n",
       "      <th>0</th>\n",
       "      <td>head</td>\n",
       "      <td>0.093</td>\n",
       "      <td>5.0</td>\n",
       "      <td>0.190</td>\n",
       "      <td>13.0</td>\n",
       "      <td>0.803</td>\n",
       "      <td>157.03</td>\n",
       "      <td>109.53</td>\n",
       "      <td>2.72</td>\n",
       "      <td>0.58</td>\n",
       "      <td>348305.0</td>\n",
       "      <td>2.16</td>\n",
       "      <td>94846</td>\n",
       "      <td>58.688</td>\n",
       "      <td>12534.0</td>\n",
       "      <td>2276301</td>\n",
       "    </tr>\n",
       "    <tr>\n",
       "      <th>1</th>\n",
       "      <td>browser</td>\n",
       "      <td>0.571</td>\n",
       "      <td>2.0</td>\n",
       "      <td>0.099</td>\n",
       "      <td>15.0</td>\n",
       "      <td>1.368</td>\n",
       "      <td>58.01</td>\n",
       "      <td>47.29</td>\n",
       "      <td>0.75</td>\n",
       "      <td>0.77</td>\n",
       "      <td>214333.0</td>\n",
       "      <td>3.67</td>\n",
       "      <td>73294</td>\n",
       "      <td>30.224</td>\n",
       "      <td>17894.0</td>\n",
       "      <td>1716287</td>\n",
       "    </tr>\n",
       "    <tr>\n",
       "      <th>3</th>\n",
       "      <td>stickynotes</td>\n",
       "      <td>0.043</td>\n",
       "      <td>2.0</td>\n",
       "      <td>0.100</td>\n",
       "      <td>12.0</td>\n",
       "      <td>1.335</td>\n",
       "      <td>57.79</td>\n",
       "      <td>42.12</td>\n",
       "      <td>1.05</td>\n",
       "      <td>0.55</td>\n",
       "      <td>317460.0</td>\n",
       "      <td>3.86</td>\n",
       "      <td>88320</td>\n",
       "      <td>36.630</td>\n",
       "      <td>14588.0</td>\n",
       "      <td>2151632</td>\n",
       "    </tr>\n",
       "    <tr>\n",
       "      <th>4</th>\n",
       "      <td>calculator</td>\n",
       "      <td>0.062</td>\n",
       "      <td>2.0</td>\n",
       "      <td>0.189</td>\n",
       "      <td>5.0</td>\n",
       "      <td>1.100</td>\n",
       "      <td>48.84</td>\n",
       "      <td>35.02</td>\n",
       "      <td>0.96</td>\n",
       "      <td>0.51</td>\n",
       "      <td>231173.0</td>\n",
       "      <td>2.78</td>\n",
       "      <td>77247</td>\n",
       "      <td>42.083</td>\n",
       "      <td>13365.0</td>\n",
       "      <td>2000843</td>\n",
       "    </tr>\n",
       "    <tr>\n",
       "      <th>7</th>\n",
       "      <td>ls</td>\n",
       "      <td>0.579</td>\n",
       "      <td>19.0</td>\n",
       "      <td>0.000</td>\n",
       "      <td>26.0</td>\n",
       "      <td>0.297</td>\n",
       "      <td>359.57</td>\n",
       "      <td>359.34</td>\n",
       "      <td>4.99</td>\n",
       "      <td>0.72</td>\n",
       "      <td>153480.0</td>\n",
       "      <td>7.36</td>\n",
       "      <td>87639</td>\n",
       "      <td>95.313</td>\n",
       "      <td>12128.0</td>\n",
       "      <td>2103360</td>\n",
       "    </tr>\n",
       "  </tbody>\n",
       "</table>\n",
       "</div>"
      ],
      "text/plain": [
       "          name  cpu-usage  context-switch  cpu-migration  page-faults  \\\n",
       "0         head      0.093             5.0          0.190         13.0   \n",
       "1      browser      0.571             2.0          0.099         15.0   \n",
       "3  stickynotes      0.043             2.0          0.100         12.0   \n",
       "4   calculator      0.062             2.0          0.189          5.0   \n",
       "7           ls      0.579            19.0          0.000         26.0   \n",
       "\n",
       "   cycles-GHz  stalled-cycles-frontend-percent  \\\n",
       "0       0.803                           157.03   \n",
       "1       1.368                            58.01   \n",
       "3       1.335                            57.79   \n",
       "4       1.100                            48.84   \n",
       "7       0.297                           359.57   \n",
       "\n",
       "   stalled-cycles-backend-percent  Instructions-per-cycle  \\\n",
       "0                          109.53                    2.72   \n",
       "1                           47.29                    0.75   \n",
       "3                           42.12                    1.05   \n",
       "4                           35.02                    0.96   \n",
       "7                          359.34                    4.99   \n",
       "\n",
       "   stalled-cycles-per-instruction  branches  branch-misses-percent  bus-cycle  \\\n",
       "0                            0.58  348305.0                   2.16      94846   \n",
       "1                            0.77  214333.0                   3.67      73294   \n",
       "3                            0.55  317460.0                   3.86      88320   \n",
       "4                            0.51  231173.0                   2.78      77247   \n",
       "7                            0.72  153480.0                   7.36      87639   \n",
       "\n",
       "   cache-misses-percent  cache-references  ref-cycles  \n",
       "0                58.688           12534.0     2276301  \n",
       "1                30.224           17894.0     1716287  \n",
       "3                36.630           14588.0     2151632  \n",
       "4                42.083           13365.0     2000843  \n",
       "7                95.313           12128.0     2103360  "
      ]
     },
     "execution_count": 16,
     "metadata": {},
     "output_type": "execute_result"
    }
   ],
   "source": [
    "X.head()"
   ]
  },
  {
   "cell_type": "code",
   "execution_count": null,
   "metadata": {},
   "outputs": [],
   "source": []
  },
  {
   "cell_type": "code",
   "execution_count": 17,
   "metadata": {},
   "outputs": [
    {
     "data": {
      "text/html": [
       "<div>\n",
       "<style scoped>\n",
       "    .dataframe tbody tr th:only-of-type {\n",
       "        vertical-align: middle;\n",
       "    }\n",
       "\n",
       "    .dataframe tbody tr th {\n",
       "        vertical-align: top;\n",
       "    }\n",
       "\n",
       "    .dataframe thead th {\n",
       "        text-align: right;\n",
       "    }\n",
       "</style>\n",
       "<table border=\"1\" class=\"dataframe\">\n",
       "  <thead>\n",
       "    <tr style=\"text-align: right;\">\n",
       "      <th></th>\n",
       "      <th>malware</th>\n",
       "    </tr>\n",
       "  </thead>\n",
       "  <tbody>\n",
       "    <tr>\n",
       "      <th>0</th>\n",
       "      <td>0</td>\n",
       "    </tr>\n",
       "    <tr>\n",
       "      <th>1</th>\n",
       "      <td>0</td>\n",
       "    </tr>\n",
       "    <tr>\n",
       "      <th>3</th>\n",
       "      <td>0</td>\n",
       "    </tr>\n",
       "    <tr>\n",
       "      <th>4</th>\n",
       "      <td>0</td>\n",
       "    </tr>\n",
       "    <tr>\n",
       "      <th>7</th>\n",
       "      <td>0</td>\n",
       "    </tr>\n",
       "  </tbody>\n",
       "</table>\n",
       "</div>"
      ],
      "text/plain": [
       "   malware\n",
       "0        0\n",
       "1        0\n",
       "3        0\n",
       "4        0\n",
       "7        0"
      ]
     },
     "execution_count": 17,
     "metadata": {},
     "output_type": "execute_result"
    }
   ],
   "source": [
    "Y.head()"
   ]
  },
  {
   "cell_type": "code",
   "execution_count": 18,
   "metadata": {},
   "outputs": [],
   "source": [
    "from sklearn.utils import shuffle"
   ]
  },
  {
   "cell_type": "code",
   "execution_count": 19,
   "metadata": {},
   "outputs": [],
   "source": [
    "X, Y=shuffle(X, Y)"
   ]
  },
  {
   "cell_type": "code",
   "execution_count": 20,
   "metadata": {},
   "outputs": [
    {
     "data": {
      "text/html": [
       "<div>\n",
       "<style scoped>\n",
       "    .dataframe tbody tr th:only-of-type {\n",
       "        vertical-align: middle;\n",
       "    }\n",
       "\n",
       "    .dataframe tbody tr th {\n",
       "        vertical-align: top;\n",
       "    }\n",
       "\n",
       "    .dataframe thead th {\n",
       "        text-align: right;\n",
       "    }\n",
       "</style>\n",
       "<table border=\"1\" class=\"dataframe\">\n",
       "  <thead>\n",
       "    <tr style=\"text-align: right;\">\n",
       "      <th></th>\n",
       "      <th>name</th>\n",
       "      <th>cpu-usage</th>\n",
       "      <th>context-switch</th>\n",
       "      <th>cpu-migration</th>\n",
       "      <th>page-faults</th>\n",
       "      <th>cycles-GHz</th>\n",
       "      <th>stalled-cycles-frontend-percent</th>\n",
       "      <th>stalled-cycles-backend-percent</th>\n",
       "      <th>Instructions-per-cycle</th>\n",
       "      <th>stalled-cycles-per-instruction</th>\n",
       "      <th>branches</th>\n",
       "      <th>branch-misses-percent</th>\n",
       "      <th>bus-cycle</th>\n",
       "      <th>cache-misses-percent</th>\n",
       "      <th>cache-references</th>\n",
       "      <th>ref-cycles</th>\n",
       "    </tr>\n",
       "  </thead>\n",
       "  <tbody>\n",
       "    <tr>\n",
       "      <th>10</th>\n",
       "      <td>43552</td>\n",
       "      <td>0.630</td>\n",
       "      <td>0.000</td>\n",
       "      <td>0.000</td>\n",
       "      <td>44.00</td>\n",
       "      <td>0.165</td>\n",
       "      <td>803.32</td>\n",
       "      <td>664.66</td>\n",
       "      <td>6.28</td>\n",
       "      <td>1.28</td>\n",
       "      <td>102347.000</td>\n",
       "      <td>12.31</td>\n",
       "      <td>93360</td>\n",
       "      <td>108.567</td>\n",
       "      <td>13169.0</td>\n",
       "      <td>2240652</td>\n",
       "    </tr>\n",
       "    <tr>\n",
       "      <th>67</th>\n",
       "      <td>spotify</td>\n",
       "      <td>0.370</td>\n",
       "      <td>5.000</td>\n",
       "      <td>0.467</td>\n",
       "      <td>15.00</td>\n",
       "      <td>1.354</td>\n",
       "      <td>63.32</td>\n",
       "      <td>51.43</td>\n",
       "      <td>0.74</td>\n",
       "      <td>0.86</td>\n",
       "      <td>198348.000</td>\n",
       "      <td>3.05</td>\n",
       "      <td>78884</td>\n",
       "      <td>41.534</td>\n",
       "      <td>19218.0</td>\n",
       "      <td>1925909</td>\n",
       "    </tr>\n",
       "    <tr>\n",
       "      <th>6</th>\n",
       "      <td>41375</td>\n",
       "      <td>0.038</td>\n",
       "      <td>0.204</td>\n",
       "      <td>0.020</td>\n",
       "      <td>18.00</td>\n",
       "      <td>1.496</td>\n",
       "      <td>61.99</td>\n",
       "      <td>47.42</td>\n",
       "      <td>1.04</td>\n",
       "      <td>0.60</td>\n",
       "      <td>321071.000</td>\n",
       "      <td>3.94</td>\n",
       "      <td>95535</td>\n",
       "      <td>31.285</td>\n",
       "      <td>13880.0</td>\n",
       "      <td>2356069</td>\n",
       "    </tr>\n",
       "    <tr>\n",
       "      <th>9</th>\n",
       "      <td>help</td>\n",
       "      <td>0.179</td>\n",
       "      <td>3.000</td>\n",
       "      <td>0.385</td>\n",
       "      <td>18.00</td>\n",
       "      <td>0.610</td>\n",
       "      <td>41.89</td>\n",
       "      <td>34.70</td>\n",
       "      <td>1.01</td>\n",
       "      <td>0.42</td>\n",
       "      <td>182.384</td>\n",
       "      <td>2.47</td>\n",
       "      <td>55528</td>\n",
       "      <td>34.303</td>\n",
       "      <td>12954.0</td>\n",
       "      <td>1563441</td>\n",
       "    </tr>\n",
       "    <tr>\n",
       "      <th>5</th>\n",
       "      <td>40079</td>\n",
       "      <td>1.099</td>\n",
       "      <td>0.130</td>\n",
       "      <td>0.052</td>\n",
       "      <td>0.11</td>\n",
       "      <td>0.447</td>\n",
       "      <td>71.78</td>\n",
       "      <td>79.23</td>\n",
       "      <td>0.16</td>\n",
       "      <td>4.86</td>\n",
       "      <td>24759.000</td>\n",
       "      <td>2.11</td>\n",
       "      <td>45507</td>\n",
       "      <td>92.371</td>\n",
       "      <td>8874.0</td>\n",
       "      <td>1093187</td>\n",
       "    </tr>\n",
       "  </tbody>\n",
       "</table>\n",
       "</div>"
      ],
      "text/plain": [
       "       name  cpu-usage  context-switch  cpu-migration  page-faults  \\\n",
       "10    43552      0.630           0.000          0.000        44.00   \n",
       "67  spotify      0.370           5.000          0.467        15.00   \n",
       "6     41375      0.038           0.204          0.020        18.00   \n",
       "9      help      0.179           3.000          0.385        18.00   \n",
       "5     40079      1.099           0.130          0.052         0.11   \n",
       "\n",
       "    cycles-GHz  stalled-cycles-frontend-percent  \\\n",
       "10       0.165                           803.32   \n",
       "67       1.354                            63.32   \n",
       "6        1.496                            61.99   \n",
       "9        0.610                            41.89   \n",
       "5        0.447                            71.78   \n",
       "\n",
       "    stalled-cycles-backend-percent  Instructions-per-cycle  \\\n",
       "10                          664.66                    6.28   \n",
       "67                           51.43                    0.74   \n",
       "6                            47.42                    1.04   \n",
       "9                            34.70                    1.01   \n",
       "5                            79.23                    0.16   \n",
       "\n",
       "    stalled-cycles-per-instruction    branches  branch-misses-percent  \\\n",
       "10                            1.28  102347.000                  12.31   \n",
       "67                            0.86  198348.000                   3.05   \n",
       "6                             0.60  321071.000                   3.94   \n",
       "9                             0.42     182.384                   2.47   \n",
       "5                             4.86   24759.000                   2.11   \n",
       "\n",
       "    bus-cycle  cache-misses-percent  cache-references  ref-cycles  \n",
       "10      93360               108.567           13169.0     2240652  \n",
       "67      78884                41.534           19218.0     1925909  \n",
       "6       95535                31.285           13880.0     2356069  \n",
       "9       55528                34.303           12954.0     1563441  \n",
       "5       45507                92.371            8874.0     1093187  "
      ]
     },
     "execution_count": 20,
     "metadata": {},
     "output_type": "execute_result"
    }
   ],
   "source": [
    "X.head()"
   ]
  },
  {
   "cell_type": "code",
   "execution_count": 21,
   "metadata": {},
   "outputs": [
    {
     "data": {
      "text/html": [
       "<div>\n",
       "<style scoped>\n",
       "    .dataframe tbody tr th:only-of-type {\n",
       "        vertical-align: middle;\n",
       "    }\n",
       "\n",
       "    .dataframe tbody tr th {\n",
       "        vertical-align: top;\n",
       "    }\n",
       "\n",
       "    .dataframe thead th {\n",
       "        text-align: right;\n",
       "    }\n",
       "</style>\n",
       "<table border=\"1\" class=\"dataframe\">\n",
       "  <thead>\n",
       "    <tr style=\"text-align: right;\">\n",
       "      <th></th>\n",
       "      <th>cpu-usage</th>\n",
       "      <th>context-switch</th>\n",
       "      <th>cpu-migration</th>\n",
       "      <th>page-faults</th>\n",
       "      <th>cycles-GHz</th>\n",
       "      <th>stalled-cycles-frontend-percent</th>\n",
       "      <th>stalled-cycles-backend-percent</th>\n",
       "      <th>Instructions-per-cycle</th>\n",
       "      <th>stalled-cycles-per-instruction</th>\n",
       "      <th>branches</th>\n",
       "      <th>branch-misses-percent</th>\n",
       "      <th>bus-cycle</th>\n",
       "      <th>cache-misses-percent</th>\n",
       "      <th>cache-references</th>\n",
       "      <th>ref-cycles</th>\n",
       "    </tr>\n",
       "  </thead>\n",
       "  <tbody>\n",
       "    <tr>\n",
       "      <th>10</th>\n",
       "      <td>0.630</td>\n",
       "      <td>0.000</td>\n",
       "      <td>0.000</td>\n",
       "      <td>44.00</td>\n",
       "      <td>0.165</td>\n",
       "      <td>803.32</td>\n",
       "      <td>664.66</td>\n",
       "      <td>6.28</td>\n",
       "      <td>1.28</td>\n",
       "      <td>102347.000</td>\n",
       "      <td>12.31</td>\n",
       "      <td>93360</td>\n",
       "      <td>108.567</td>\n",
       "      <td>13169.0</td>\n",
       "      <td>2240652</td>\n",
       "    </tr>\n",
       "    <tr>\n",
       "      <th>67</th>\n",
       "      <td>0.370</td>\n",
       "      <td>5.000</td>\n",
       "      <td>0.467</td>\n",
       "      <td>15.00</td>\n",
       "      <td>1.354</td>\n",
       "      <td>63.32</td>\n",
       "      <td>51.43</td>\n",
       "      <td>0.74</td>\n",
       "      <td>0.86</td>\n",
       "      <td>198348.000</td>\n",
       "      <td>3.05</td>\n",
       "      <td>78884</td>\n",
       "      <td>41.534</td>\n",
       "      <td>19218.0</td>\n",
       "      <td>1925909</td>\n",
       "    </tr>\n",
       "    <tr>\n",
       "      <th>6</th>\n",
       "      <td>0.038</td>\n",
       "      <td>0.204</td>\n",
       "      <td>0.020</td>\n",
       "      <td>18.00</td>\n",
       "      <td>1.496</td>\n",
       "      <td>61.99</td>\n",
       "      <td>47.42</td>\n",
       "      <td>1.04</td>\n",
       "      <td>0.60</td>\n",
       "      <td>321071.000</td>\n",
       "      <td>3.94</td>\n",
       "      <td>95535</td>\n",
       "      <td>31.285</td>\n",
       "      <td>13880.0</td>\n",
       "      <td>2356069</td>\n",
       "    </tr>\n",
       "    <tr>\n",
       "      <th>9</th>\n",
       "      <td>0.179</td>\n",
       "      <td>3.000</td>\n",
       "      <td>0.385</td>\n",
       "      <td>18.00</td>\n",
       "      <td>0.610</td>\n",
       "      <td>41.89</td>\n",
       "      <td>34.70</td>\n",
       "      <td>1.01</td>\n",
       "      <td>0.42</td>\n",
       "      <td>182.384</td>\n",
       "      <td>2.47</td>\n",
       "      <td>55528</td>\n",
       "      <td>34.303</td>\n",
       "      <td>12954.0</td>\n",
       "      <td>1563441</td>\n",
       "    </tr>\n",
       "    <tr>\n",
       "      <th>5</th>\n",
       "      <td>1.099</td>\n",
       "      <td>0.130</td>\n",
       "      <td>0.052</td>\n",
       "      <td>0.11</td>\n",
       "      <td>0.447</td>\n",
       "      <td>71.78</td>\n",
       "      <td>79.23</td>\n",
       "      <td>0.16</td>\n",
       "      <td>4.86</td>\n",
       "      <td>24759.000</td>\n",
       "      <td>2.11</td>\n",
       "      <td>45507</td>\n",
       "      <td>92.371</td>\n",
       "      <td>8874.0</td>\n",
       "      <td>1093187</td>\n",
       "    </tr>\n",
       "  </tbody>\n",
       "</table>\n",
       "</div>"
      ],
      "text/plain": [
       "    cpu-usage  context-switch  cpu-migration  page-faults  cycles-GHz  \\\n",
       "10      0.630           0.000          0.000        44.00       0.165   \n",
       "67      0.370           5.000          0.467        15.00       1.354   \n",
       "6       0.038           0.204          0.020        18.00       1.496   \n",
       "9       0.179           3.000          0.385        18.00       0.610   \n",
       "5       1.099           0.130          0.052         0.11       0.447   \n",
       "\n",
       "    stalled-cycles-frontend-percent  stalled-cycles-backend-percent  \\\n",
       "10                           803.32                          664.66   \n",
       "67                            63.32                           51.43   \n",
       "6                             61.99                           47.42   \n",
       "9                             41.89                           34.70   \n",
       "5                             71.78                           79.23   \n",
       "\n",
       "    Instructions-per-cycle  stalled-cycles-per-instruction    branches  \\\n",
       "10                    6.28                            1.28  102347.000   \n",
       "67                    0.74                            0.86  198348.000   \n",
       "6                     1.04                            0.60  321071.000   \n",
       "9                     1.01                            0.42     182.384   \n",
       "5                     0.16                            4.86   24759.000   \n",
       "\n",
       "    branch-misses-percent  bus-cycle  cache-misses-percent  cache-references  \\\n",
       "10                  12.31      93360               108.567           13169.0   \n",
       "67                   3.05      78884                41.534           19218.0   \n",
       "6                    3.94      95535                31.285           13880.0   \n",
       "9                    2.47      55528                34.303           12954.0   \n",
       "5                    2.11      45507                92.371            8874.0   \n",
       "\n",
       "    ref-cycles  \n",
       "10     2240652  \n",
       "67     1925909  \n",
       "6      2356069  \n",
       "9      1563441  \n",
       "5      1093187  "
      ]
     },
     "execution_count": 21,
     "metadata": {},
     "output_type": "execute_result"
    }
   ],
   "source": [
    "X=X.drop(columns='name')\n",
    "X.head()"
   ]
  },
  {
   "cell_type": "code",
   "execution_count": 22,
   "metadata": {},
   "outputs": [
    {
     "data": {
      "text/html": [
       "<div>\n",
       "<style scoped>\n",
       "    .dataframe tbody tr th:only-of-type {\n",
       "        vertical-align: middle;\n",
       "    }\n",
       "\n",
       "    .dataframe tbody tr th {\n",
       "        vertical-align: top;\n",
       "    }\n",
       "\n",
       "    .dataframe thead th {\n",
       "        text-align: right;\n",
       "    }\n",
       "</style>\n",
       "<table border=\"1\" class=\"dataframe\">\n",
       "  <thead>\n",
       "    <tr style=\"text-align: right;\">\n",
       "      <th></th>\n",
       "      <th>malware</th>\n",
       "    </tr>\n",
       "  </thead>\n",
       "  <tbody>\n",
       "    <tr>\n",
       "      <th>10</th>\n",
       "      <td>1</td>\n",
       "    </tr>\n",
       "    <tr>\n",
       "      <th>67</th>\n",
       "      <td>0</td>\n",
       "    </tr>\n",
       "    <tr>\n",
       "      <th>6</th>\n",
       "      <td>1</td>\n",
       "    </tr>\n",
       "    <tr>\n",
       "      <th>9</th>\n",
       "      <td>0</td>\n",
       "    </tr>\n",
       "    <tr>\n",
       "      <th>5</th>\n",
       "      <td>1</td>\n",
       "    </tr>\n",
       "  </tbody>\n",
       "</table>\n",
       "</div>"
      ],
      "text/plain": [
       "    malware\n",
       "10        1\n",
       "67        0\n",
       "6         1\n",
       "9         0\n",
       "5         1"
      ]
     },
     "execution_count": 22,
     "metadata": {},
     "output_type": "execute_result"
    }
   ],
   "source": [
    "Y.head()"
   ]
  },
  {
   "cell_type": "code",
   "execution_count": 23,
   "metadata": {},
   "outputs": [],
   "source": [
    "from sklearn.feature_selection import SelectKBest\n",
    "from sklearn.feature_selection import chi2"
   ]
  },
  {
   "cell_type": "code",
   "execution_count": 24,
   "metadata": {},
   "outputs": [],
   "source": [
    "bestfeatures = SelectKBest(score_func=chi2, k=10)\n",
    "fit = bestfeatures.fit(X,Y)\n",
    "dfscores = pd.DataFrame(fit.scores_)\n",
    "dfcolumns = pd.DataFrame(X.columns)"
   ]
  },
  {
   "cell_type": "code",
   "execution_count": 25,
   "metadata": {},
   "outputs": [
    {
     "data": {
      "text/html": [
       "<div>\n",
       "<style scoped>\n",
       "    .dataframe tbody tr th:only-of-type {\n",
       "        vertical-align: middle;\n",
       "    }\n",
       "\n",
       "    .dataframe tbody tr th {\n",
       "        vertical-align: top;\n",
       "    }\n",
       "\n",
       "    .dataframe thead th {\n",
       "        text-align: right;\n",
       "    }\n",
       "</style>\n",
       "<table border=\"1\" class=\"dataframe\">\n",
       "  <thead>\n",
       "    <tr style=\"text-align: right;\">\n",
       "      <th></th>\n",
       "      <th>Specs</th>\n",
       "      <th>Score</th>\n",
       "    </tr>\n",
       "  </thead>\n",
       "  <tbody>\n",
       "    <tr>\n",
       "      <th>9</th>\n",
       "      <td>branches</td>\n",
       "      <td>666951.436659</td>\n",
       "    </tr>\n",
       "    <tr>\n",
       "      <th>14</th>\n",
       "      <td>ref-cycles</td>\n",
       "      <td>639315.603832</td>\n",
       "    </tr>\n",
       "    <tr>\n",
       "      <th>6</th>\n",
       "      <td>stalled-cycles-backend-percent</td>\n",
       "      <td>125168.356934</td>\n",
       "    </tr>\n",
       "    <tr>\n",
       "      <th>11</th>\n",
       "      <td>bus-cycle</td>\n",
       "      <td>68591.022338</td>\n",
       "    </tr>\n",
       "    <tr>\n",
       "      <th>5</th>\n",
       "      <td>stalled-cycles-frontend-percent</td>\n",
       "      <td>39349.239192</td>\n",
       "    </tr>\n",
       "    <tr>\n",
       "      <th>13</th>\n",
       "      <td>cache-references</td>\n",
       "      <td>3732.911598</td>\n",
       "    </tr>\n",
       "    <tr>\n",
       "      <th>7</th>\n",
       "      <td>Instructions-per-cycle</td>\n",
       "      <td>2764.432187</td>\n",
       "    </tr>\n",
       "    <tr>\n",
       "      <th>12</th>\n",
       "      <td>cache-misses-percent</td>\n",
       "      <td>342.513470</td>\n",
       "    </tr>\n",
       "    <tr>\n",
       "      <th>3</th>\n",
       "      <td>page-faults</td>\n",
       "      <td>190.837745</td>\n",
       "    </tr>\n",
       "    <tr>\n",
       "      <th>10</th>\n",
       "      <td>branch-misses-percent</td>\n",
       "      <td>91.293713</td>\n",
       "    </tr>\n",
       "  </tbody>\n",
       "</table>\n",
       "</div>"
      ],
      "text/plain": [
       "                              Specs          Score\n",
       "9                          branches  666951.436659\n",
       "14                       ref-cycles  639315.603832\n",
       "6    stalled-cycles-backend-percent  125168.356934\n",
       "11                        bus-cycle   68591.022338\n",
       "5   stalled-cycles-frontend-percent   39349.239192\n",
       "13                 cache-references    3732.911598\n",
       "7            Instructions-per-cycle    2764.432187\n",
       "12             cache-misses-percent     342.513470\n",
       "3                       page-faults     190.837745\n",
       "10            branch-misses-percent      91.293713"
      ]
     },
     "execution_count": 25,
     "metadata": {},
     "output_type": "execute_result"
    }
   ],
   "source": [
    "featureScores = pd.concat([dfcolumns,dfscores],axis=1)\n",
    "featureScores.columns = ['Specs','Score']  \n",
    "featureScores.nlargest(10,'Score')  "
   ]
  },
  {
   "cell_type": "code",
   "execution_count": 26,
   "metadata": {},
   "outputs": [
    {
     "name": "stdout",
     "output_type": "stream",
     "text": [
      "[0.09221458 0.0462853  0.04038023 0.06632905 0.04349049 0.02713127\n",
      " 0.02888297 0.03033944 0.15171018 0.07279712 0.13262701 0.07158998\n",
      " 0.08231776 0.03657104 0.07733359]\n"
     ]
    },
    {
     "data": {
      "image/png": "[encoded data removed]",
      "text/plain": [
       "<Figure size 432x288 with 1 Axes>"
      ]
     },
     "metadata": {
      "needs_background": "light"
     },
     "output_type": "display_data"
    }
   ],
   "source": [
    "from sklearn.ensemble import ExtraTreesClassifier\n",
    "import matplotlib.pyplot as plt\n",
    "model = ExtraTreesClassifier()\n",
    "model.fit(X,Y)\n",
    "print(model.feature_importances_) #use inbuilt class feature_importances of tree based classifiers\n",
    "#plot graph of feature importances for better visualization\n",
    "feat_importances = pd.Series(model.feature_importances_, index=X.columns)\n",
    "feat_importances.nlargest(10).plot(kind='barh')\n",
    "plt.show()"
   ]
  },
  {
   "cell_type": "code",
   "execution_count": 27,
   "metadata": {},
   "outputs": [],
   "source": [
    "from sklearn.model_selection import train_test_split\n",
    "X_train, X_test, y_train, y_test = train_test_split(X,Y, test_size = 0.2, random_state=0)"
   ]
  },
  {
   "cell_type": "code",
   "execution_count": 28,
   "metadata": {},
   "outputs": [
    {
     "data": {
      "text/plain": [
       "(92, 15)"
      ]
     },
     "execution_count": 28,
     "metadata": {},
     "output_type": "execute_result"
    }
   ],
   "source": [
    "X_train.shape"
   ]
  },
  {
   "cell_type": "code",
   "execution_count": 29,
   "metadata": {},
   "outputs": [
    {
     "data": {
      "text/html": [
       "<div>\n",
       "<style scoped>\n",
       "    .dataframe tbody tr th:only-of-type {\n",
       "        vertical-align: middle;\n",
       "    }\n",
       "\n",
       "    .dataframe tbody tr th {\n",
       "        vertical-align: top;\n",
       "    }\n",
       "\n",
       "    .dataframe thead th {\n",
       "        text-align: right;\n",
       "    }\n",
       "</style>\n",
       "<table border=\"1\" class=\"dataframe\">\n",
       "  <thead>\n",
       "    <tr style=\"text-align: right;\">\n",
       "      <th></th>\n",
       "      <th>cpu-usage</th>\n",
       "      <th>context-switch</th>\n",
       "      <th>cpu-migration</th>\n",
       "      <th>page-faults</th>\n",
       "      <th>cycles-GHz</th>\n",
       "      <th>stalled-cycles-frontend-percent</th>\n",
       "      <th>stalled-cycles-backend-percent</th>\n",
       "      <th>Instructions-per-cycle</th>\n",
       "      <th>stalled-cycles-per-instruction</th>\n",
       "      <th>branches</th>\n",
       "      <th>branch-misses-percent</th>\n",
       "      <th>bus-cycle</th>\n",
       "      <th>cache-misses-percent</th>\n",
       "      <th>cache-references</th>\n",
       "      <th>ref-cycles</th>\n",
       "    </tr>\n",
       "  </thead>\n",
       "  <tbody>\n",
       "    <tr>\n",
       "      <th>10</th>\n",
       "      <td>0.630</td>\n",
       "      <td>0.0</td>\n",
       "      <td>0.000</td>\n",
       "      <td>44.0</td>\n",
       "      <td>0.165</td>\n",
       "      <td>803.32</td>\n",
       "      <td>664.66</td>\n",
       "      <td>6.28</td>\n",
       "      <td>1.28</td>\n",
       "      <td>102347.0</td>\n",
       "      <td>12.31</td>\n",
       "      <td>93360</td>\n",
       "      <td>108.567</td>\n",
       "      <td>13169.0</td>\n",
       "      <td>2240652</td>\n",
       "    </tr>\n",
       "    <tr>\n",
       "      <th>26</th>\n",
       "      <td>0.655</td>\n",
       "      <td>2.0</td>\n",
       "      <td>0.682</td>\n",
       "      <td>35.0</td>\n",
       "      <td>0.312</td>\n",
       "      <td>437.40</td>\n",
       "      <td>360.90</td>\n",
       "      <td>3.01</td>\n",
       "      <td>1.45</td>\n",
       "      <td>92388.0</td>\n",
       "      <td>12.67</td>\n",
       "      <td>93516</td>\n",
       "      <td>109.877</td>\n",
       "      <td>15086.0</td>\n",
       "      <td>2244389</td>\n",
       "    </tr>\n",
       "    <tr>\n",
       "      <th>68</th>\n",
       "      <td>0.556</td>\n",
       "      <td>0.0</td>\n",
       "      <td>0.000</td>\n",
       "      <td>65.0</td>\n",
       "      <td>1.066</td>\n",
       "      <td>133.91</td>\n",
       "      <td>106.30</td>\n",
       "      <td>1.32</td>\n",
       "      <td>1.02</td>\n",
       "      <td>139637.0</td>\n",
       "      <td>12.68</td>\n",
       "      <td>96941</td>\n",
       "      <td>82.830</td>\n",
       "      <td>16397.0</td>\n",
       "      <td>2326595</td>\n",
       "    </tr>\n",
       "    <tr>\n",
       "      <th>49</th>\n",
       "      <td>0.135</td>\n",
       "      <td>2.0</td>\n",
       "      <td>0.146</td>\n",
       "      <td>54.0</td>\n",
       "      <td>0.545</td>\n",
       "      <td>73.32</td>\n",
       "      <td>65.54</td>\n",
       "      <td>1.66</td>\n",
       "      <td>0.44</td>\n",
       "      <td>165361.0</td>\n",
       "      <td>3.35</td>\n",
       "      <td>73730</td>\n",
       "      <td>45.044</td>\n",
       "      <td>11337.0</td>\n",
       "      <td>1989286</td>\n",
       "    </tr>\n",
       "    <tr>\n",
       "      <th>19</th>\n",
       "      <td>0.124</td>\n",
       "      <td>3.0</td>\n",
       "      <td>0.103</td>\n",
       "      <td>3.0</td>\n",
       "      <td>1.213</td>\n",
       "      <td>54.35</td>\n",
       "      <td>44.61</td>\n",
       "      <td>0.81</td>\n",
       "      <td>0.67</td>\n",
       "      <td>254608.0</td>\n",
       "      <td>2.77</td>\n",
       "      <td>80606</td>\n",
       "      <td>27.795</td>\n",
       "      <td>13921.0</td>\n",
       "      <td>2046050</td>\n",
       "    </tr>\n",
       "  </tbody>\n",
       "</table>\n",
       "</div>"
      ],
      "text/plain": [
       "    cpu-usage  context-switch  cpu-migration  page-faults  cycles-GHz  \\\n",
       "10      0.630             0.0          0.000         44.0       0.165   \n",
       "26      0.655             2.0          0.682         35.0       0.312   \n",
       "68      0.556             0.0          0.000         65.0       1.066   \n",
       "49      0.135             2.0          0.146         54.0       0.545   \n",
       "19      0.124             3.0          0.103          3.0       1.213   \n",
       "\n",
       "    stalled-cycles-frontend-percent  stalled-cycles-backend-percent  \\\n",
       "10                           803.32                          664.66   \n",
       "26                           437.40                          360.90   \n",
       "68                           133.91                          106.30   \n",
       "49                            73.32                           65.54   \n",
       "19                            54.35                           44.61   \n",
       "\n",
       "    Instructions-per-cycle  stalled-cycles-per-instruction  branches  \\\n",
       "10                    6.28                            1.28  102347.0   \n",
       "26                    3.01                            1.45   92388.0   \n",
       "68                    1.32                            1.02  139637.0   \n",
       "49                    1.66                            0.44  165361.0   \n",
       "19                    0.81                            0.67  254608.0   \n",
       "\n",
       "    branch-misses-percent  bus-cycle  cache-misses-percent  cache-references  \\\n",
       "10                  12.31      93360               108.567           13169.0   \n",
       "26                  12.67      93516               109.877           15086.0   \n",
       "68                  12.68      96941                82.830           16397.0   \n",
       "49                   3.35      73730                45.044           11337.0   \n",
       "19                   2.77      80606                27.795           13921.0   \n",
       "\n",
       "    ref-cycles  \n",
       "10     2240652  \n",
       "26     2244389  \n",
       "68     2326595  \n",
       "49     1989286  \n",
       "19     2046050  "
      ]
     },
     "execution_count": 29,
     "metadata": {},
     "output_type": "execute_result"
    }
   ],
   "source": [
    "X_train.head()"
   ]
  },
  {
   "cell_type": "code",
   "execution_count": 30,
   "metadata": {
    "scrolled": true
   },
   "outputs": [
    {
     "data": {
      "text/html": [
       "<div>\n",
       "<style scoped>\n",
       "    .dataframe tbody tr th:only-of-type {\n",
       "        vertical-align: middle;\n",
       "    }\n",
       "\n",
       "    .dataframe tbody tr th {\n",
       "        vertical-align: top;\n",
       "    }\n",
       "\n",
       "    .dataframe thead th {\n",
       "        text-align: right;\n",
       "    }\n",
       "</style>\n",
       "<table border=\"1\" class=\"dataframe\">\n",
       "  <thead>\n",
       "    <tr style=\"text-align: right;\">\n",
       "      <th></th>\n",
       "      <th>malware</th>\n",
       "    </tr>\n",
       "  </thead>\n",
       "  <tbody>\n",
       "    <tr>\n",
       "      <th>10</th>\n",
       "      <td>1</td>\n",
       "    </tr>\n",
       "    <tr>\n",
       "      <th>26</th>\n",
       "      <td>1</td>\n",
       "    </tr>\n",
       "    <tr>\n",
       "      <th>68</th>\n",
       "      <td>1</td>\n",
       "    </tr>\n",
       "    <tr>\n",
       "      <th>49</th>\n",
       "      <td>0</td>\n",
       "    </tr>\n",
       "    <tr>\n",
       "      <th>19</th>\n",
       "      <td>0</td>\n",
       "    </tr>\n",
       "  </tbody>\n",
       "</table>\n",
       "</div>"
      ],
      "text/plain": [
       "    malware\n",
       "10        1\n",
       "26        1\n",
       "68        1\n",
       "49        0\n",
       "19        0"
      ]
     },
     "execution_count": 30,
     "metadata": {},
     "output_type": "execute_result"
    }
   ],
   "source": [
    "y_train.head()"
   ]
  },
  {
   "cell_type": "code",
   "execution_count": 31,
   "metadata": {},
   "outputs": [],
   "source": [
    "from sklearn import metrics\n",
    "from sklearn.metrics import confusion_matrix"
   ]
  },
  {
   "cell_type": "code",
   "execution_count": 32,
   "metadata": {},
   "outputs": [],
   "source": [
    "from sklearn import svm\n",
    "support = svm.LinearSVC(random_state=20)"
   ]
  },
  {
   "cell_type": "code",
   "execution_count": 33,
   "metadata": {},
   "outputs": [
    {
     "data": {
      "text/plain": [
       "LinearSVC(random_state=20)"
      ]
     },
     "execution_count": 33,
     "metadata": {},
     "output_type": "execute_result"
    }
   ],
   "source": [
    "support.fit(X_train,y_train)"
   ]
  },
  {
   "cell_type": "code",
   "execution_count": 34,
   "metadata": {},
   "outputs": [],
   "source": [
    "y_pred = support.predict(X_test)"
   ]
  },
  {
   "cell_type": "code",
   "execution_count": 35,
   "metadata": {},
   "outputs": [
    {
     "data": {
      "text/plain": [
       "array([1, 1, 1, 1, 0, 1, 1, 0, 1, 1, 1, 0, 0, 1, 0, 1, 1, 1, 0, 0, 0, 1,\n",
       "       0, 1], dtype=int64)"
      ]
     },
     "execution_count": 35,
     "metadata": {},
     "output_type": "execute_result"
    }
   ],
   "source": [
    "y_pred"
   ]
  },
  {
   "cell_type": "code",
   "execution_count": 36,
   "metadata": {},
   "outputs": [
    {
     "name": "stdout",
     "output_type": "stream",
     "text": [
      "0.7916666666666666\n"
     ]
    }
   ],
   "source": [
    "model1=metrics.accuracy_score(y_test,y_pred)\n",
    "print(model1)"
   ]
  },
  {
   "cell_type": "code",
   "execution_count": 37,
   "metadata": {},
   "outputs": [],
   "source": [
    "cnf_matrix = confusion_matrix(y_test,y_pred)"
   ]
  },
  {
   "cell_type": "code",
   "execution_count": 38,
   "metadata": {},
   "outputs": [
    {
     "data": {
      "image/png": "[encoded data removed]",
      "text/plain": [
       "<Figure size 432x288 with 2 Axes>"
      ]
     },
     "metadata": {
      "needs_background": "light"
     },
     "output_type": "display_data"
    }
   ],
   "source": [
    "labels = ['Good','Malware']\n",
    "sns.heatmap(cnf_matrix, annot=True, cmap=\"YlGnBu\", fmt=\".3f\", xticklabels=labels, yticklabels=labels)\n",
    "plt.show()"
   ]
  },
  {
   "cell_type": "code",
   "execution_count": 39,
   "metadata": {},
   "outputs": [],
   "source": [
    "from sklearn.tree import DecisionTreeClassifier "
   ]
  },
  {
   "cell_type": "code",
   "execution_count": 40,
   "metadata": {},
   "outputs": [],
   "source": [
    "tree = DecisionTreeClassifier() "
   ]
  },
  {
   "cell_type": "code",
   "execution_count": 41,
   "metadata": {},
   "outputs": [
    {
     "data": {
      "text/plain": [
       "DecisionTreeClassifier()"
      ]
     },
     "execution_count": 41,
     "metadata": {},
     "output_type": "execute_result"
    }
   ],
   "source": [
    "tree.fit(X_train,y_train)"
   ]
  },
  {
   "cell_type": "code",
   "execution_count": 42,
   "metadata": {},
   "outputs": [
    {
     "data": {
      "text/plain": [
       "array([0, 1, 1, 1, 0, 1, 1, 0, 1, 0, 1, 1, 0, 1, 0, 1, 0, 1, 0, 0, 0, 1,\n",
       "       0, 1], dtype=int64)"
      ]
     },
     "execution_count": 42,
     "metadata": {},
     "output_type": "execute_result"
    }
   ],
   "source": [
    "y_pred = tree.predict(X_test)\n",
    "y_pred"
   ]
  },
  {
   "cell_type": "code",
   "execution_count": 43,
   "metadata": {},
   "outputs": [
    {
     "name": "stdout",
     "output_type": "stream",
     "text": [
      "0.9583333333333334\n"
     ]
    }
   ],
   "source": [
    "model2=metrics.accuracy_score(y_test,y_pred)\n",
    "print(model2)"
   ]
  },
  {
   "cell_type": "code",
   "execution_count": 44,
   "metadata": {},
   "outputs": [],
   "source": [
    "cnf_matrix = confusion_matrix(y_test,y_pred)"
   ]
  },
  {
   "cell_type": "code",
   "execution_count": 45,
   "metadata": {},
   "outputs": [
    {
     "data": {
      "image/png": "[encoded data removed]",
      "text/plain": [
       "<Figure size 432x288 with 2 Axes>"
      ]
     },
     "metadata": {
      "needs_background": "light"
     },
     "output_type": "display_data"
    }
   ],
   "source": [
    "labels = [0,1]\n",
    "sns.heatmap(cnf_matrix, annot=True, cmap=\"YlGnBu\", fmt=\".3f\", xticklabels=labels, yticklabels=labels)\n",
    "plt.show()"
   ]
  },
  {
   "cell_type": "code",
   "execution_count": 46,
   "metadata": {},
   "outputs": [],
   "source": [
    "from sklearn.naive_bayes import GaussianNB"
   ]
  },
  {
   "cell_type": "code",
   "execution_count": 47,
   "metadata": {},
   "outputs": [],
   "source": [
    "clf = GaussianNB()"
   ]
  },
  {
   "cell_type": "code",
   "execution_count": 48,
   "metadata": {},
   "outputs": [
    {
     "data": {
      "text/plain": [
       "GaussianNB()"
      ]
     },
     "execution_count": 48,
     "metadata": {},
     "output_type": "execute_result"
    }
   ],
   "source": [
    "clf.fit(X, Y)"
   ]
  },
  {
   "cell_type": "code",
   "execution_count": 49,
   "metadata": {},
   "outputs": [
    {
     "data": {
      "text/plain": [
       "array([1, 1, 1, 1, 0, 1, 1, 1, 1, 1, 1, 1, 0, 1, 0, 1, 0, 1, 0, 1, 1, 1,\n",
       "       1, 1], dtype=int64)"
      ]
     },
     "execution_count": 49,
     "metadata": {},
     "output_type": "execute_result"
    }
   ],
   "source": [
    "y_pred = clf.predict(X_test)\n",
    "y_pred"
   ]
  },
  {
   "cell_type": "code",
   "execution_count": 50,
   "metadata": {},
   "outputs": [
    {
     "name": "stdout",
     "output_type": "stream",
     "text": [
      "0.7083333333333334\n"
     ]
    }
   ],
   "source": [
    "model3=metrics.accuracy_score(y_test,y_pred)\n",
    "print(model3)"
   ]
  },
  {
   "cell_type": "code",
   "execution_count": 51,
   "metadata": {},
   "outputs": [],
   "source": [
    "cnf_matrix = confusion_matrix(y_test,y_pred)"
   ]
  },
  {
   "cell_type": "code",
   "execution_count": 52,
   "metadata": {},
   "outputs": [
    {
     "data": {
      "image/png": "[encoded data removed]",
      "text/plain": [
       "<Figure size 432x288 with 2 Axes>"
      ]
     },
     "metadata": {
      "needs_background": "light"
     },
     "output_type": "display_data"
    }
   ],
   "source": [
    "labels = [0,1]\n",
    "sns.heatmap(cnf_matrix, annot=True, cmap=\"YlGnBu\", fmt=\".3f\", xticklabels=labels, yticklabels=labels)\n",
    "plt.show()"
   ]
  },
  {
   "cell_type": "code",
   "execution_count": 53,
   "metadata": {},
   "outputs": [
    {
     "data": {
      "image/png": "[encoded data removed]",
      "text/plain": [
       "<Figure size 640x480 with 1 Axes>"
      ]
     },
     "metadata": {},
     "output_type": "display_data"
    }
   ],
   "source": [
    "import matplotlib.pyplot as plt; plt.rcdefaults()\n",
    "import numpy as np\n",
    "import matplotlib.pyplot as plt\n",
    "\n",
    "objects = ('SVM','DecisionTreeClassifier','GaussianNB')\n",
    "y_pos = np.arange(len(objects))\n",
    "performance = [model1,model2,model3]\n",
    "\n",
    "plt.bar(y_pos, performance, align='center', alpha=0.5)\n",
    "plt.xticks(y_pos, objects)\n",
    "plt.ylabel('Accuracy Score')\n",
    "plt.title('SVM vs DecisionTreeClassifie vs Naive Bayes')\n",
    "\n",
    "plt.show()"
   ]
  },
  {
   "cell_type": "code",
   "execution_count": 65,
   "metadata": {},
   "outputs": [],
   "source": [
    "data_X = data.iloc[:,[1,2,4, 5,9, 10,11,12,13,15]]"
   ]
  },
  {
   "cell_type": "code",
   "execution_count": 61,
   "metadata": {},
   "outputs": [
    {
     "data": {
      "text/html": [
       "<div>\n",
       "<style scoped>\n",
       "    .dataframe tbody tr th:only-of-type {\n",
       "        vertical-align: middle;\n",
       "    }\n",
       "\n",
       "    .dataframe tbody tr th {\n",
       "        vertical-align: top;\n",
       "    }\n",
       "\n",
       "    .dataframe thead th {\n",
       "        text-align: right;\n",
       "    }\n",
       "</style>\n",
       "<table border=\"1\" class=\"dataframe\">\n",
       "  <thead>\n",
       "    <tr style=\"text-align: right;\">\n",
       "      <th></th>\n",
       "      <th>cpu-usage</th>\n",
       "      <th>context-switch</th>\n",
       "      <th>page-faults</th>\n",
       "      <th>cycles-GHz</th>\n",
       "      <th>stalled-cycles-per-instruction</th>\n",
       "      <th>branches</th>\n",
       "      <th>branch-misses-percent</th>\n",
       "      <th>bus-cycle</th>\n",
       "      <th>cache-misses-percent</th>\n",
       "      <th>ref-cycles</th>\n",
       "    </tr>\n",
       "  </thead>\n",
       "  <tbody>\n",
       "    <tr>\n",
       "      <th>0</th>\n",
       "      <td>0.093</td>\n",
       "      <td>5.000</td>\n",
       "      <td>13.0</td>\n",
       "      <td>0.803</td>\n",
       "      <td>0.58</td>\n",
       "      <td>348305.0</td>\n",
       "      <td>2.16</td>\n",
       "      <td>94846</td>\n",
       "      <td>58.688</td>\n",
       "      <td>2276301</td>\n",
       "    </tr>\n",
       "    <tr>\n",
       "      <th>1</th>\n",
       "      <td>0.571</td>\n",
       "      <td>2.000</td>\n",
       "      <td>15.0</td>\n",
       "      <td>1.368</td>\n",
       "      <td>0.77</td>\n",
       "      <td>214333.0</td>\n",
       "      <td>3.67</td>\n",
       "      <td>73294</td>\n",
       "      <td>30.224</td>\n",
       "      <td>1716287</td>\n",
       "    </tr>\n",
       "    <tr>\n",
       "      <th>2</th>\n",
       "      <td>0.001</td>\n",
       "      <td>0.781</td>\n",
       "      <td>40.0</td>\n",
       "      <td>0.314</td>\n",
       "      <td>1.25</td>\n",
       "      <td>93834.0</td>\n",
       "      <td>13.17</td>\n",
       "      <td>94456</td>\n",
       "      <td>119.862</td>\n",
       "      <td>2266964</td>\n",
       "    </tr>\n",
       "    <tr>\n",
       "      <th>3</th>\n",
       "      <td>0.043</td>\n",
       "      <td>2.000</td>\n",
       "      <td>12.0</td>\n",
       "      <td>1.335</td>\n",
       "      <td>0.55</td>\n",
       "      <td>317460.0</td>\n",
       "      <td>3.86</td>\n",
       "      <td>88320</td>\n",
       "      <td>36.630</td>\n",
       "      <td>2151632</td>\n",
       "    </tr>\n",
       "    <tr>\n",
       "      <th>4</th>\n",
       "      <td>0.062</td>\n",
       "      <td>2.000</td>\n",
       "      <td>5.0</td>\n",
       "      <td>1.100</td>\n",
       "      <td>0.51</td>\n",
       "      <td>231173.0</td>\n",
       "      <td>2.78</td>\n",
       "      <td>77247</td>\n",
       "      <td>42.083</td>\n",
       "      <td>2000843</td>\n",
       "    </tr>\n",
       "    <tr>\n",
       "      <th>...</th>\n",
       "      <td>...</td>\n",
       "      <td>...</td>\n",
       "      <td>...</td>\n",
       "      <td>...</td>\n",
       "      <td>...</td>\n",
       "      <td>...</td>\n",
       "      <td>...</td>\n",
       "      <td>...</td>\n",
       "      <td>...</td>\n",
       "      <td>...</td>\n",
       "    </tr>\n",
       "    <tr>\n",
       "      <th>65</th>\n",
       "      <td>0.454</td>\n",
       "      <td>0.269</td>\n",
       "      <td>15.0</td>\n",
       "      <td>1.664</td>\n",
       "      <td>0.25</td>\n",
       "      <td>558519.0</td>\n",
       "      <td>1.93</td>\n",
       "      <td>94788</td>\n",
       "      <td>35.549</td>\n",
       "      <td>2296454</td>\n",
       "    </tr>\n",
       "    <tr>\n",
       "      <th>66</th>\n",
       "      <td>0.157</td>\n",
       "      <td>4.000</td>\n",
       "      <td>41.0</td>\n",
       "      <td>0.922</td>\n",
       "      <td>0.75</td>\n",
       "      <td>81212.0</td>\n",
       "      <td>13.95</td>\n",
       "      <td>72923</td>\n",
       "      <td>85.676</td>\n",
       "      <td>2313615</td>\n",
       "    </tr>\n",
       "    <tr>\n",
       "      <th>67</th>\n",
       "      <td>0.370</td>\n",
       "      <td>5.000</td>\n",
       "      <td>15.0</td>\n",
       "      <td>1.354</td>\n",
       "      <td>0.86</td>\n",
       "      <td>198348.0</td>\n",
       "      <td>3.05</td>\n",
       "      <td>78884</td>\n",
       "      <td>41.534</td>\n",
       "      <td>1925909</td>\n",
       "    </tr>\n",
       "    <tr>\n",
       "      <th>68</th>\n",
       "      <td>0.556</td>\n",
       "      <td>0.000</td>\n",
       "      <td>65.0</td>\n",
       "      <td>1.066</td>\n",
       "      <td>1.02</td>\n",
       "      <td>139637.0</td>\n",
       "      <td>12.68</td>\n",
       "      <td>96941</td>\n",
       "      <td>82.830</td>\n",
       "      <td>2326595</td>\n",
       "    </tr>\n",
       "    <tr>\n",
       "      <th>69</th>\n",
       "      <td>0.098</td>\n",
       "      <td>3.000</td>\n",
       "      <td>25.0</td>\n",
       "      <td>0.783</td>\n",
       "      <td>0.95</td>\n",
       "      <td>129833.0</td>\n",
       "      <td>11.38</td>\n",
       "      <td>95853</td>\n",
       "      <td>60.687</td>\n",
       "      <td>2300465</td>\n",
       "    </tr>\n",
       "  </tbody>\n",
       "</table>\n",
       "<p>70 rows × 10 columns</p>\n",
       "</div>"
      ],
      "text/plain": [
       "    cpu-usage  context-switch  page-faults  cycles-GHz  \\\n",
       "0       0.093           5.000         13.0       0.803   \n",
       "1       0.571           2.000         15.0       1.368   \n",
       "2       0.001           0.781         40.0       0.314   \n",
       "3       0.043           2.000         12.0       1.335   \n",
       "4       0.062           2.000          5.0       1.100   \n",
       "..        ...             ...          ...         ...   \n",
       "65      0.454           0.269         15.0       1.664   \n",
       "66      0.157           4.000         41.0       0.922   \n",
       "67      0.370           5.000         15.0       1.354   \n",
       "68      0.556           0.000         65.0       1.066   \n",
       "69      0.098           3.000         25.0       0.783   \n",
       "\n",
       "    stalled-cycles-per-instruction  branches  branch-misses-percent  \\\n",
       "0                             0.58  348305.0                   2.16   \n",
       "1                             0.77  214333.0                   3.67   \n",
       "2                             1.25   93834.0                  13.17   \n",
       "3                             0.55  317460.0                   3.86   \n",
       "4                             0.51  231173.0                   2.78   \n",
       "..                             ...       ...                    ...   \n",
       "65                            0.25  558519.0                   1.93   \n",
       "66                            0.75   81212.0                  13.95   \n",
       "67                            0.86  198348.0                   3.05   \n",
       "68                            1.02  139637.0                  12.68   \n",
       "69                            0.95  129833.0                  11.38   \n",
       "\n",
       "    bus-cycle  cache-misses-percent  ref-cycles  \n",
       "0       94846                58.688     2276301  \n",
       "1       73294                30.224     1716287  \n",
       "2       94456               119.862     2266964  \n",
       "3       88320                36.630     2151632  \n",
       "4       77247                42.083     2000843  \n",
       "..        ...                   ...         ...  \n",
       "65      94788                35.549     2296454  \n",
       "66      72923                85.676     2313615  \n",
       "67      78884                41.534     1925909  \n",
       "68      96941                82.830     2326595  \n",
       "69      95853                60.687     2300465  \n",
       "\n",
       "[70 rows x 10 columns]"
      ]
     },
     "execution_count": 61,
     "metadata": {},
     "output_type": "execute_result"
    }
   ],
   "source": [
    "data_X"
   ]
  },
  {
   "cell_type": "code",
   "execution_count": 62,
   "metadata": {},
   "outputs": [],
   "source": [
    "data_Y=data['malware']"
   ]
  },
  {
   "cell_type": "code",
   "execution_count": 63,
   "metadata": {},
   "outputs": [
    {
     "data": {
      "text/plain": [
       "0     0\n",
       "1     0\n",
       "2     1\n",
       "3     0\n",
       "4     0\n",
       "     ..\n",
       "65    0\n",
       "66    0\n",
       "67    0\n",
       "68    1\n",
       "69    0\n",
       "Name: malware, Length: 70, dtype: int64"
      ]
     },
     "execution_count": 63,
     "metadata": {},
     "output_type": "execute_result"
    }
   ],
   "source": [
    "data_Y"
   ]
  },
  {
   "cell_type": "code",
   "execution_count": null,
   "metadata": {},
   "outputs": [],
   "source": []
  },
  {
   "cell_type": "code",
   "execution_count": null,
   "metadata": {},
   "outputs": [],
   "source": []
  },
  {
   "cell_type": "code",
   "execution_count": 56,
   "metadata": {},
   "outputs": [],
   "source": [
    "import pickle\n",
    "pickle.dump(tree, open('model.pkl','wb'))\n",
    "model = pickle.load(open('model.pkl','rb'))"
   ]
  },
  {
   "cell_type": "code",
   "execution_count": null,
   "metadata": {},
   "outputs": [],
   "source": []
  },
  {
   "cell_type": "code",
   "execution_count": null,
   "metadata": {},
   "outputs": [],
   "source": []
  }
 ],
 "metadata": {
  "kernelspec": {
   "display_name": "Python 3",
   "language": "python",
   "name": "python3"
  },
  "language_info": {
   "codemirror_mode": {
    "name": "ipython",
    "version": 3
   },
   "file_extension": ".py",
   "mimetype": "text/x-python",
   "name": "python",
   "nbconvert_exporter": "python",
   "pygments_lexer": "ipython3",
   "version": "3.7.3"
  }
 },
 "nbformat": 4,
 "nbformat_minor": 2
}
