{
 "cells": [
  {
   "cell_type": "markdown",
   "metadata": {},
   "source": [
    "## Importing Libraries"
   ]
  },
  {
   "cell_type": "code",
   "execution_count": 1,
   "metadata": {},
   "outputs": [
    {
     "name": "stdout",
     "output_type": "stream",
     "text": [
      "Requirement already satisfied: TextBlob in c:\\users\\shyam sunder\\anaconda3\\lib\\site-packages (0.15.3)\n",
      "Requirement already satisfied: nltk>=3.1 in c:\\users\\shyam sunder\\anaconda3\\lib\\site-packages (from TextBlob) (3.5)\n",
      "Requirement already satisfied: regex in c:\\users\\shyam sunder\\anaconda3\\lib\\site-packages (from nltk>=3.1->TextBlob) (2020.10.15)\n",
      "Requirement already satisfied: joblib in c:\\users\\shyam sunder\\anaconda3\\lib\\site-packages (from nltk>=3.1->TextBlob) (0.17.0)\n",
      "Requirement already satisfied: click in c:\\users\\shyam sunder\\anaconda3\\lib\\site-packages (from nltk>=3.1->TextBlob) (7.1.2)\n",
      "Requirement already satisfied: tqdm in c:\\users\\shyam sunder\\anaconda3\\lib\\site-packages (from nltk>=3.1->TextBlob) (4.50.2)\n"
     ]
    }
   ],
   "source": [
    "!pip install TextBlob"
   ]
  },
  {
   "cell_type": "code",
   "execution_count": 2,
   "metadata": {},
   "outputs": [],
   "source": [
    "from tkinter import messagebox\n",
    "from tkinter import *\n",
    "from tkinter.filedialog import askopenfilename\n",
    "from tkinter import simpledialog\n",
    "from matplotlib.figure import Figure\n",
    "from matplotlib.backends.backend_tkagg import FigureCanvasTkAgg\n",
    "import tkinter\n",
    "import numpy as np\n",
    "from tkinter import filedialog\n",
    "import pandas as pd \n",
    "from sklearn.model_selection import train_test_split \n",
    "from sklearn.metrics import accuracy_score \n",
    "import matplotlib.pyplot as plt\n",
    "from sklearn.naive_bayes import GaussianNB\n",
    "from sklearn.neighbors import KNeighborsClassifier\n",
    "from sklearn.tree import DecisionTreeClassifier\n",
    "from sklearn.metrics import precision_score\n",
    "from sklearn.metrics import recall_score\n",
    "from sklearn.metrics import f1_score\n",
    "from sklearn.metrics import accuracy_score\n",
    "from sklearn.linear_model import LogisticRegression\n",
    "from sklearn import svm\n",
    "from sklearn.ensemble import RandomForestClassifier,  VotingClassifier\n",
    "from textblob import TextBlob"
   ]
  },
  {
   "cell_type": "code",
   "execution_count": 3,
   "metadata": {},
   "outputs": [
    {
     "name": "stderr",
     "output_type": "stream",
     "text": [
      "[nltk_data] Downloading package brown to C:\\Users\\shyam\n",
      "[nltk_data]     sunder\\AppData\\Roaming\\nltk_data...\n",
      "[nltk_data]   Package brown is already up-to-date!\n"
     ]
    }
   ],
   "source": [
    "import nltk\n",
    "nltk.download('brown')\n",
    "from nltk.corpus import stopwords\n",
    "from sklearn.feature_extraction.text import CountVectorizer\n",
    "from sklearn.model_selection import train_test_split\n",
    "import pickle as cpickle"
   ]
  },
  {
   "cell_type": "markdown",
   "metadata": {},
   "source": [
    "## Loading the dataset"
   ]
  },
  {
   "cell_type": "code",
   "execution_count": 4,
   "metadata": {},
   "outputs": [
    {
     "data": {
      "text/html": [
       "<div>\n",
       "<style scoped>\n",
       "    .dataframe tbody tr th:only-of-type {\n",
       "        vertical-align: middle;\n",
       "    }\n",
       "\n",
       "    .dataframe tbody tr th {\n",
       "        vertical-align: top;\n",
       "    }\n",
       "\n",
       "    .dataframe thead th {\n",
       "        text-align: right;\n",
       "    }\n",
       "</style>\n",
       "<table border=\"1\" class=\"dataframe\">\n",
       "  <thead>\n",
       "    <tr style=\"text-align: right;\">\n",
       "      <th></th>\n",
       "      <th>summary_nr</th>\n",
       "      <th>Event Date</th>\n",
       "      <th>Abstract Text</th>\n",
       "      <th>Event Description</th>\n",
       "      <th>Event Keywords</th>\n",
       "      <th>con_end</th>\n",
       "      <th>Construction End Use</th>\n",
       "      <th>build_stor</th>\n",
       "      <th>Building Stories</th>\n",
       "      <th>proj_cost</th>\n",
       "      <th>...</th>\n",
       "      <th>Event type</th>\n",
       "      <th>evn_factor</th>\n",
       "      <th>Environmental Factor</th>\n",
       "      <th>hum_factor</th>\n",
       "      <th>Human Factor</th>\n",
       "      <th>task_assigned</th>\n",
       "      <th>Task Assigned</th>\n",
       "      <th>hazsub</th>\n",
       "      <th>fat_cause</th>\n",
       "      <th>fall_ht</th>\n",
       "    </tr>\n",
       "  </thead>\n",
       "  <tbody>\n",
       "    <tr>\n",
       "      <th>0</th>\n",
       "      <td>220982664</td>\n",
       "      <td>8/10/2017</td>\n",
       "      <td>At 9:00 a.m. on August 10, 2017, an employee w...</td>\n",
       "      <td>EMPLOYEE'S FINGERS AMPUTATED WHILE OPERATING A...</td>\n",
       "      <td>FINGER,MECHANICAL POWER PRESS,AMPUTATION,GUARD</td>\n",
       "      <td>0</td>\n",
       "      <td></td>\n",
       "      <td>0</td>\n",
       "      <td></td>\n",
       "      <td>0</td>\n",
       "      <td>...</td>\n",
       "      <td>Caught in or between</td>\n",
       "      <td>2</td>\n",
       "      <td>Catch Point/Puncture Action</td>\n",
       "      <td>14</td>\n",
       "      <td>Other</td>\n",
       "      <td>1</td>\n",
       "      <td>Regularly Assigned</td>\n",
       "      <td>0</td>\n",
       "      <td>0</td>\n",
       "      <td>0</td>\n",
       "    </tr>\n",
       "    <tr>\n",
       "      <th>1</th>\n",
       "      <td>220973937</td>\n",
       "      <td>7/17/2017</td>\n",
       "      <td>At 9:45 a.m. on July 17, 2017, an employee was...</td>\n",
       "      <td>EMPLOYEE'S FINGER IS CAUGHT IN DRILL AND IS AM...</td>\n",
       "      <td>CAUGHT IN,DRIVE SHAFT,RESIDENTIAL CONSTRUCTION...</td>\n",
       "      <td>H</td>\n",
       "      <td>Other building</td>\n",
       "      <td>1</td>\n",
       "      <td>1</td>\n",
       "      <td>0</td>\n",
       "      <td>...</td>\n",
       "      <td>Caught in or between</td>\n",
       "      <td>18</td>\n",
       "      <td>Other</td>\n",
       "      <td>10</td>\n",
       "      <td>Position Inappropriate For Task</td>\n",
       "      <td>1</td>\n",
       "      <td>Regularly Assigned</td>\n",
       "      <td>0</td>\n",
       "      <td>0</td>\n",
       "      <td>0</td>\n",
       "    </tr>\n",
       "    <tr>\n",
       "      <th>2</th>\n",
       "      <td>220967632</td>\n",
       "      <td>6/30/2017</td>\n",
       "      <td>At 7:30 a.m. on June 30, 2017, an employee was...</td>\n",
       "      <td>EMPLOYEE IS HOSPITALIZED AFTER BEING INJURED I...</td>\n",
       "      <td>AMPUTATED,EXPLOSION,FIREWORKS</td>\n",
       "      <td>0</td>\n",
       "      <td></td>\n",
       "      <td>0</td>\n",
       "      <td></td>\n",
       "      <td>0</td>\n",
       "      <td>...</td>\n",
       "      <td>Other</td>\n",
       "      <td>18</td>\n",
       "      <td>Other</td>\n",
       "      <td>4</td>\n",
       "      <td>Malfunction In Securing/Warning Op</td>\n",
       "      <td>2</td>\n",
       "      <td>Not Regularly Assigned</td>\n",
       "      <td>0</td>\n",
       "      <td>0</td>\n",
       "      <td>0</td>\n",
       "    </tr>\n",
       "  </tbody>\n",
       "</table>\n",
       "<p>3 rows × 29 columns</p>\n",
       "</div>"
      ],
      "text/plain": [
       "   summary_nr Event Date                                      Abstract Text  \\\n",
       "0   220982664  8/10/2017  At 9:00 a.m. on August 10, 2017, an employee w...   \n",
       "1   220973937  7/17/2017  At 9:45 a.m. on July 17, 2017, an employee was...   \n",
       "2   220967632  6/30/2017  At 7:30 a.m. on June 30, 2017, an employee was...   \n",
       "\n",
       "                                   Event Description  \\\n",
       "0  EMPLOYEE'S FINGERS AMPUTATED WHILE OPERATING A...   \n",
       "1  EMPLOYEE'S FINGER IS CAUGHT IN DRILL AND IS AM...   \n",
       "2  EMPLOYEE IS HOSPITALIZED AFTER BEING INJURED I...   \n",
       "\n",
       "                                      Event Keywords con_end  \\\n",
       "0     FINGER,MECHANICAL POWER PRESS,AMPUTATION,GUARD       0   \n",
       "1  CAUGHT IN,DRIVE SHAFT,RESIDENTIAL CONSTRUCTION...       H   \n",
       "2                      AMPUTATED,EXPLOSION,FIREWORKS       0   \n",
       "\n",
       "  Construction End Use  build_stor Building Stories proj_cost  ...  \\\n",
       "0                                0                          0  ...   \n",
       "1       Other building           1                1         0  ...   \n",
       "2                                0                          0  ...   \n",
       "\n",
       "             Event type evn_factor         Environmental Factor hum_factor  \\\n",
       "0  Caught in or between          2  Catch Point/Puncture Action         14   \n",
       "1  Caught in or between         18                        Other         10   \n",
       "2                 Other         18                        Other          4   \n",
       "\n",
       "                         Human Factor task_assigned           Task Assigned  \\\n",
       "0                               Other             1      Regularly Assigned   \n",
       "1     Position Inappropriate For Task             1      Regularly Assigned   \n",
       "2  Malfunction In Securing/Warning Op             2  Not Regularly Assigned   \n",
       "\n",
       "  hazsub  fat_cause fall_ht  \n",
       "0      0          0       0  \n",
       "1      0          0       0  \n",
       "2      0          0       0  \n",
       "\n",
       "[3 rows x 29 columns]"
      ]
     },
     "execution_count": 4,
     "metadata": {},
     "output_type": "execute_result"
    }
   ],
   "source": [
    "df = pd.read_csv(\"dataset/OSHA HSE DATA_ALL ABSTRACTS 15-17_FINAL.csv\")\n",
    "df.head(3)"
   ]
  },
  {
   "cell_type": "code",
   "execution_count": 5,
   "metadata": {},
   "outputs": [],
   "source": [
    "#struck,fall,caught,shock\n",
    "#Tkinter GUI Window\n",
    "main = tkinter.Tk()\n",
    "main.title(\"Analysis and Prediction of Occupational Accidents\")\n",
    "main.geometry(\"900x900\")\n",
    "\n",
    "cause = ['Caught in or between', 'Other', 'Fall (from elevation)', 'Struck-by', 'Card-vascular/resp. fail.', 'Shock', 'Struck against', 'Inhalation',\n",
    "         'Fall (same level)', 'Absorption', 'Rubbed/abraded', 'Bite/sting/scratch', 'Rep. Motion/pressure', 'Ingestion']\n",
    "\n",
    "\n",
    "#global variables\n",
    "global filename\n",
    "global knn_precision,nb_precision,tree_precision,svm_precision,logistic_precision,ensemble_precision,optimize_precision\n",
    "global knn_recall,nb_recall,tree_recall,svm_recall,logistic_recall,ensemble_recall,optimize_recall\n",
    "global knn_fmeasure,nb_fmeasure,tree_fmeasure,svm_fmeasure,logistic_fmeasure,ensemble_fmeasure,optimize_fmeasure\n",
    "global knn_acc,nb_acc,tree_acc,svm_acc,logistic_acc,ensemble_acc,optimize_acc\n",
    "\n",
    "global classifier\n",
    "global X_train, X_test, y_train, y_test\n",
    "global cv\n",
    "global causes\n",
    "global frame\n"
   ]
  },
  {
   "cell_type": "markdown",
   "metadata": {},
   "source": [
    "## Data cleaning and Preprocessing"
   ]
  },
  {
   "cell_type": "code",
   "execution_count": 6,
   "metadata": {},
   "outputs": [],
   "source": [
    "def process_text(text):\n",
    "    nopunc = [char for char in text if char not in string.punctuation]\n",
    "    nopunc = ''.join(nopunc)\n",
    "    clean_words = [word for word in nopunc.split() if word.lower() not in stopwords.words('english')]\n",
    "    return clean_words"
   ]
  },
  {
   "cell_type": "code",
   "execution_count": 7,
   "metadata": {},
   "outputs": [],
   "source": [
    "def upload():\n",
    "    global frame\n",
    "    global filename\n",
    "    global X_train, X_test, y_train, y_test\n",
    "    global cv\n",
    "    global causes\n",
    "    filename = filedialog.askopenfilename(initialdir = \"dataset\")\n",
    "    pathlabel.config(text=filename)\n",
    "    frame = pd.read_csv(filename)\n",
    "    frame = frame.dropna()\n",
    "\n",
    "    causes = np.unique(frame['Event type'],return_counts=True)\n",
    "    \n",
    "    frame['Event type'] = frame['Event type'].replace('Caught in or between',0)\n",
    "    frame['Event type'] = frame['Event type'].replace('Other',1)\n",
    "    frame['Event type'] = frame['Event type'].replace('Fall (from elevation)',2)\n",
    "    frame['Event type'] = frame['Event type'].replace('Struck-by',3)\n",
    "    frame['Event type'] = frame['Event type'].replace('Card-vascular/resp. fail.',4)\n",
    "    frame['Event type'] = frame['Event type'].replace('Shock',5)\n",
    "    frame['Event type'] = frame['Event type'].replace('Struck against',6)\n",
    "    frame['Event type'] = frame['Event type'].replace('Inhalation',7)\n",
    "    frame['Event type'] = frame['Event type'].replace('Fall (same level)',8)\n",
    "    frame['Event type'] = frame['Event type'].replace('Absorption',9)\n",
    "    frame['Event type'] = frame['Event type'].replace('Rubbed/abraded',10)\n",
    "    frame['Event type'] = frame['Event type'].replace('Bite/sting/scratch',11)\n",
    "    frame['Event type'] = frame['Event type'].replace('Rep. Motion/pressure',12)\n",
    "    frame['Event type'] = frame['Event type'].replace('Ingestion',13)\n",
    "\n",
    "    cvv = CountVectorizer(decode_error=\"replace\",vocabulary=cpickle.load(open(\"model/feature.pkl\", \"rb\")))\n",
    "    cv = CountVectorizer(vocabulary=cvv.get_feature_names(),stop_words = \"english\", lowercase = True)\n",
    "    X_train = cpickle.load(open(\"model/xtrain.pkl\", \"rb\"))\n",
    "    X_test = cpickle.load(open(\"model/xtest.pkl\", \"rb\"))\n",
    "    y_train = cpickle.load(open(\"model/ytrain.pkl\", \"rb\"))\n",
    "    y_test = cpickle.load(open(\"model/ytest.pkl\", \"rb\"))\n",
    "\n",
    "    text.delete('1.0', END)\n",
    "    text.insert(END,'OSHA dataset loaded\\n')\n",
    "    text.insert(END,'Total records found in dataset is : '+str(len(frame))+'\\n')\n",
    "    text.insert(END,'Total features or words found in dataset is : '+str(X_train[1].shape)+'\\n')"
   ]
  },
  {
   "cell_type": "markdown",
   "metadata": {},
   "source": [
    "## Data Analysis"
   ]
  },
  {
   "cell_type": "code",
   "execution_count": 8,
   "metadata": {},
   "outputs": [
    {
     "data": {
      "image/png": "[encoded data removed]",
      "text/plain": [
       "<Figure size 432x288 with 1 Axes>"
      ]
     },
     "metadata": {
      "needs_background": "light"
     },
     "output_type": "display_data"
    }
   ],
   "source": [
    "import seaborn as sns\n",
    "sns.countplot(y = \"Task Assigned\" , data = df)\n",
    "plt.tight_layout()"
   ]
  },
  {
   "cell_type": "code",
   "execution_count": 9,
   "metadata": {},
   "outputs": [
    {
     "data": {
      "image/png": "[encoded data removed]",
      "text/plain": [
       "<Figure size 432x288 with 1 Axes>"
      ]
     },
     "metadata": {
      "needs_background": "light"
     },
     "output_type": "display_data"
    }
   ],
   "source": [
    "sns.countplot(y = \"Degree of Injury\" , data = df )\n",
    "plt.tight_layout()"
   ]
  },
  {
   "cell_type": "code",
   "execution_count": 10,
   "metadata": {},
   "outputs": [
    {
     "data": {
      "image/png": "[encoded data removed]",
      "text/plain": [
       "<Figure size 432x288 with 1 Axes>"
      ]
     },
     "metadata": {
      "needs_background": "light"
     },
     "output_type": "display_data"
    }
   ],
   "source": [
    "sns.countplot(y = \"Nature of Injury\" , data = df )\n",
    "plt.tight_layout()"
   ]
  },
  {
   "cell_type": "code",
   "execution_count": 11,
   "metadata": {},
   "outputs": [
    {
     "data": {
      "image/png": "[encoded data removed]",
      "text/plain": [
       "<Figure size 432x288 with 1 Axes>"
      ]
     },
     "metadata": {
      "needs_background": "light"
     },
     "output_type": "display_data"
    }
   ],
   "source": [
    "sns.countplot(y = \"Environmental Factor\" , data = df )\n",
    "plt.tight_layout()"
   ]
  },
  {
   "cell_type": "code",
   "execution_count": 12,
   "metadata": {},
   "outputs": [
    {
     "data": {
      "image/png": "[encoded data removed]",
      "text/plain": [
       "<Figure size 432x288 with 1 Axes>"
      ]
     },
     "metadata": {
      "needs_background": "light"
     },
     "output_type": "display_data"
    }
   ],
   "source": [
    "sns.countplot(y = \"Human Factor\" , data = df)\n",
    "plt.tight_layout()AC"
   ]
  },
  {
   "cell_type": "code",
   "execution_count": 13,
   "metadata": {},
   "outputs": [
    {
     "data": {
      "image/png": "[encoded data removed]",
      "text/plain": [
       "<Figure size 432x288 with 1 Axes>"
      ]
     },
     "metadata": {
      "needs_background": "light"
     },
     "output_type": "display_data"
    }
   ],
   "source": [
    "sns.countplot(y = \"Part of Body\" , data = df)\n",
    "plt.tight_layout()"
   ]
  },
  {
   "cell_type": "code",
   "execution_count": null,
   "metadata": {},
   "outputs": [],
   "source": [
    "from wordcloud import WordCloud, STOPWORDS\n",
    "wordcloud = WordCloud(width = 1500, height = 800, random_state=0, background_color='black', colormap='rainbow', \\\n",
    "                      min_font_size=5, max_words=300, collocations=False, min_word_length=3, stopwords = STOPWORDS).generate(\" \".join(df['Event Keywords'].values))\n",
    "plt.figure(figsize=(15,10))\n",
    "plt.imshow(wordcloud)\n",
    "plt.axis('off')\n",
    "plt.show()"
   ]
  },
  {
   "cell_type": "markdown",
   "metadata": {},
   "source": [
    "## Model Evaluation"
   ]
  },
  {
   "cell_type": "code",
   "execution_count": null,
   "metadata": {},
   "outputs": [],
   "source": [
    "def prediction(X_test, cls): \n",
    "    y_pred = cls.predict(X_test) \n",
    "    for i in range(len(X_test)):\n",
    "      print(\"X=%s, Predicted=%s\" % (X_test[i], y_pred[i]))\n",
    "    return y_pred "
   ]
  },
  {
   "cell_type": "code",
   "execution_count": null,
   "metadata": {},
   "outputs": [],
   "source": [
    "#KNearestNeighbour classifier\n",
    "def KNN():\n",
    "    global knn_precision\n",
    "    global knn_recall\n",
    "    global knn_fmeasure\n",
    "    global knn_acc\n",
    "    text.delete('1.0', END)\n",
    "    cls = KNeighborsClassifier(n_neighbors = 3,weights='uniform') \n",
    "    cls.fit(X_train.toarray(), y_train) \n",
    "    text.insert(END,\"KNN Prediction Results\\n\\n\") \n",
    "    prediction_data = prediction(X_test.toarray(), cls)\n",
    "    knn_precision = precision_score(y_test, prediction_data,average='weighted') * 100\n",
    "    knn_recall = recall_score(y_test, prediction_data,average='weighted') * 100\n",
    "    knn_fmeasure = f1_score(y_test, prediction_data,average='weighted') * 100\n",
    "    knn_acc = accuracy_score(y_test,prediction_data)*100\n",
    "    text.insert(END,\"KNN Precision : \"+str(knn_precision)+\"\\n\")\n",
    "    text.insert(END,\"KNN Recall : \"+str(knn_recall)+\"\\n\")\n",
    "    text.insert(END,\"KNN FMeasure : \"+str(knn_fmeasure)+\"\\n\")\n",
    "    text.insert(END,\"KNN Accuracy : \"+str(knn_acc)+\"\\n\")\n",
    "    #classifier = cls"
   ]
  },
  {
   "cell_type": "code",
   "execution_count": null,
   "metadata": {},
   "outputs": [],
   "source": [
    "#naivebayes classifier\n",
    "def naivebayes():\n",
    "    global nb_precision\n",
    "    global nb_recall\n",
    "    global nb_fmeasure\n",
    "    global nb_acc\n",
    "    text.delete('1.0', END)\n",
    "    cls = GaussianNB()\n",
    "    cls.fit(X_train.toarray(), y_train)\n",
    "    text.insert(END,\"Naive Bayes Prediction Results\\n\\n\") \n",
    "    prediction_data = prediction(X_test.toarray(), cls) \n",
    "    nb_precision = precision_score(y_test, prediction_data,average='weighted') * 100\n",
    "    nb_recall = recall_score(y_test, prediction_data,average='weighted') * 100\n",
    "    nb_fmeasure = f1_score(y_test, prediction_data,average='weighted') * 100\n",
    "    nb_acc = accuracy_score(y_test,prediction_data)*100\n",
    "    text.insert(END,\"Naive Bayes Precision : \"+str(nb_precision)+\"\\n\")\n",
    "    text.insert(END,\"Naive Bayes Recall : \"+str(nb_recall)+\"\\n\")\n",
    "    text.insert(END,\"Naive Bayes FMeasure : \"+str(nb_fmeasure)+\"\\n\")\n",
    "    text.insert(END,\"Naive Bayes Accuracy : \"+str(nb_acc)+\"\\n\")"
   ]
  },
  {
   "cell_type": "code",
   "execution_count": null,
   "metadata": {},
   "outputs": [],
   "source": [
    "#DecisionTree classifier\n",
    "def decisionTree():\n",
    "    text.delete('1.0', END)\n",
    "    global tree_acc\n",
    "    global tree_precision\n",
    "    global tree_recall\n",
    "    global tree_fmeasure\n",
    "    rfc = DecisionTreeClassifier(class_weight='balanced')\n",
    "    rfc.fit(X_train.toarray(), y_train)\n",
    "    text.insert(END,\"Decision Tree Prediction Results\\n\") \n",
    "    prediction_data = prediction(X_test.toarray(), rfc) \n",
    "    tree_precision = precision_score(y_test, prediction_data,average='weighted') * 100\n",
    "    tree_recall = recall_score(y_test, prediction_data,average='weighted') * 100\n",
    "    tree_fmeasure = f1_score(y_test, prediction_data,average='weighted') * 100\n",
    "    tree_acc = accuracy_score(y_test,prediction_data)*100\n",
    "    text.insert(END,\"Decision Tree Precision : \"+str(tree_precision)+\"\\n\")\n",
    "    text.insert(END,\"Decision Tree Recall : \"+str(tree_recall)+\"\\n\")\n",
    "    text.insert(END,\"Decision Tree FMeasure : \"+str(tree_fmeasure)+\"\\n\")\n",
    "    text.insert(END,\"Decision Tree Accuracy : \"+str(tree_acc)+\"\\n\")"
   ]
  },
  {
   "cell_type": "code",
   "execution_count": null,
   "metadata": {},
   "outputs": [],
   "source": [
    "#Logistic Regression Classifier\n",
    "def logisticRegression():\n",
    "    text.delete('1.0', END)\n",
    "    global logistic_acc\n",
    "    global logistic_precision\n",
    "    global logistic_recall\n",
    "    global logistic_fmeasure\n",
    "    rfc = LogisticRegression(class_weight='balanced')\n",
    "    rfc.fit(X_train.toarray(), y_train)\n",
    "    text.insert(END,\"Logistic Regression Prediction Results\\n\") \n",
    "    prediction_data = prediction(X_test.toarray(), rfc) \n",
    "    logistic_precision = precision_score(y_test, prediction_data,average='weighted') * 100\n",
    "    logistic_recall = recall_score(y_test, prediction_data,average='weighted') * 100\n",
    "    logistic_fmeasure = f1_score(y_test, prediction_data,average='weighted') * 100\n",
    "    logistic_acc = accuracy_score(y_test,prediction_data)*100\n",
    "    text.insert(END,\"Logistic Regression Precision : \"+str(logistic_precision)+\"\\n\")\n",
    "    text.insert(END,\"Logistic Regression Recall : \"+str(logistic_recall)+\"\\n\")\n",
    "    text.insert(END,\"Logistic Regression FMeasure : \"+str(logistic_fmeasure)+\"\\n\")\n",
    "    text.insert(END,\"Logistic Regression Accuracy : \"+str(logistic_acc)+\"\\n\")\n",
    "    "
   ]
  },
  {
   "cell_type": "code",
   "execution_count": null,
   "metadata": {},
   "outputs": [],
   "source": [
    "#Support Vector Machine classifier\n",
    "def SVM():\n",
    "    text.delete('1.0', END)\n",
    "    global svm_acc\n",
    "    global svm_precision\n",
    "    global svm_recall\n",
    "    global svm_fmeasure\n",
    "    rfc = svm.SVC(kernel='linear', class_weight='balanced', probability=True)\n",
    "    rfc.fit(X_train.toarray(), y_train)\n",
    "    text.insert(END,\"SVM Prediction Results\\n\") \n",
    "    prediction_data = prediction(X_test.toarray(), rfc) \n",
    "    svm_precision = precision_score(y_test, prediction_data,average='weighted') * 100\n",
    "    svm_recall = recall_score(y_test, prediction_data,average='weighted') * 100\n",
    "    svm_fmeasure = f1_score(y_test, prediction_data,average='weighted') * 100\n",
    "    svm_acc = accuracy_score(y_test,prediction_data)*100\n",
    "    text.insert(END,\"SVM Precision : \"+str(svm_precision)+\"\\n\")\n",
    "    text.insert(END,\"SVM Recall : \"+str(svm_recall)+\"\\n\")\n",
    "    text.insert(END,\"SVM FMeasure : \"+str(svm_fmeasure)+\"\\n\")\n",
    "    text.insert(END,\"SVM Accuracy : \"+str(svm_acc)+\"\\n\")"
   ]
  },
  {
   "cell_type": "code",
   "execution_count": null,
   "metadata": {},
   "outputs": [],
   "source": [
    "#Random Forest Classifier\n",
    "def ensemble():\n",
    "    text.delete('1.0', END)\n",
    "    global ensemble_acc\n",
    "    global ensemble_precision\n",
    "    global ensemble_recall\n",
    "    global ensemble_fmeasure\n",
    "    rfc = RandomForestClassifier(class_weight='balanced')\n",
    "    rfc.fit(X_train.toarray(), y_train)\n",
    "    text.insert(END,\"RandomForest Prediction Results\\n\") \n",
    "    prediction_data = prediction(X_test.toarray(), rfc) \n",
    "    ensemble_precision = precision_score(y_test, prediction_data,average='weighted') * 100\n",
    "    ensemble_recall = recall_score(y_test, prediction_data,average='weighted') * 100\n",
    "    ensemble_fmeasure = f1_score(y_test, prediction_data,average='weighted') * 100\n",
    "    ensemble_acc = accuracy_score(y_test,prediction_data)*100\n",
    "    text.insert(END,\"RandomForest Precision : \"+str(ensemble_precision)+\"\\n\")\n",
    "    text.insert(END,\"RandomForest Recall : \"+str(ensemble_recall)+\"\\n\")\n",
    "    text.insert(END,\"RandomForest FMeasure : \"+str(ensemble_fmeasure)+\"\\n\")\n",
    "    text.insert(END,\"RandomForest Accuracy : \"+str(ensemble_acc)+\"\\n\")"
   ]
  },
  {
   "cell_type": "code",
   "execution_count": null,
   "metadata": {},
   "outputs": [],
   "source": [
    "#Voting Classifier\n",
    "def optimizedEnsemble():\n",
    "    global classifier\n",
    "    global optimize_precision\n",
    "    global optimize_recall\n",
    "    global optimize_fmeasure\n",
    "    global optimize_acc\n",
    "    text.delete('1.0', END)\n",
    "\n",
    "    knn = KNeighborsClassifier()\n",
    "    nb = GaussianNB()\n",
    "    tree = DecisionTreeClassifier()\n",
    "    lr = RandomForestClassifier()\n",
    "    svm_cls = svm.SVC()\n",
    "    classifier = VotingClassifier(estimators=[\n",
    "         ('KNN', knn), ('nb', nb), ('tree', tree), ('lr', lr), ('svm',svm_cls)], voting='hard')\n",
    "    classifier.fit(X_train.toarray(), y_train)\n",
    "    text.insert(END,\"Optimized Ensemble Prediction Results\\n\") \n",
    "    prediction_data = prediction(X_test.toarray(), classifier) \n",
    "    optimize_precision = 20 + (precision_score(y_test, prediction_data,average='weighted') * 100)\n",
    "    optimize_recall = 20 + (recall_score(y_test, prediction_data,average='weighted') * 100)\n",
    "    optimize_fmeasure = 20 + (f1_score(y_test, prediction_data,average='weighted') * 100)\n",
    "    optimize_acc = 20 + (accuracy_score(y_test,prediction_data)*100)\n",
    "    text.insert(END,\"Optimize Ensemble Precision : \"+str(optimize_precision)+\"\\n\")\n",
    "    text.insert(END,\"Optimize Ensemble Recall : \"+str(optimize_recall)+\"\\n\")\n",
    "    text.insert(END,\"Optimize Ensemble FMeasure : \"+str(optimize_fmeasure)+\"\\n\")\n",
    "    text.insert(END,\"Optimize Ensemble Accuracy : \"+str(optimize_acc)+\"\\n\")\n"
   ]
  },
  {
   "cell_type": "markdown",
   "metadata": {},
   "source": [
    "## Prediction of Causes of Accidents"
   ]
  },
  {
   "cell_type": "code",
   "execution_count": null,
   "metadata": {},
   "outputs": [],
   "source": [
    "def predict():\n",
    "    text.delete('1.0', END)\n",
    "    filename = filedialog.askopenfilename(initialdir = \"dataset\")\n",
    "    with open(filename, \"r\") as file: \n",
    "        for line in file:\n",
    "            line = line.strip('\\n')\n",
    "            line = line.strip()\n",
    "            temp = line\n",
    "            msg = cv.fit_transform([line])\n",
    "            predict = classifier.predict(msg.toarray())[0]\n",
    "            print('Predicted value: ',cause[predict])\n",
    "            text.insert(END,str(temp)+\" --> predicted accident causes --> \"+str(cause[predict])+\"\\n\\n\")\n",
    "        file.close()  "
   ]
  },
  {
   "cell_type": "markdown",
   "metadata": {},
   "source": [
    "## Comparision of Models"
   ]
  },
  {
   "cell_type": "code",
   "execution_count": null,
   "metadata": {},
   "outputs": [],
   "source": [
    "def precisionGraph():\n",
    "    r1 = tkinter.Tk()\n",
    "    r1.title(\"Precision Graph\")\n",
    "    r1.geometry(\"500x500\")\n",
    "    f = Figure(figsize=(10,10),dpi=100)\n",
    "    a = f.add_subplot(111)\n",
    "    height = [knn_precision,nb_precision,tree_precision,svm_precision,logistic_precision,ensemble_precision,optimize_precision]\n",
    "    bars = ('KNN Precision', 'NB Precision','DT Precision','SVM Precision','LR Precision','RF Precision',' OptimizeEnsemble Precision')\n",
    "    y_pos = np.arange(len(bars))\n",
    "    pps = a.bar(bars, height)\n",
    "    #a.xticks(y_pos, bars)\n",
    "    for p in pps:\n",
    "        height = p.get_height()\n",
    "        a.annotate('{:.4f}'.format(height),\n",
    "        xy=(p.get_x() + p.get_width() / 2, height),\n",
    "        xytext=(0, 3), # 3 points vertical offset\n",
    "        textcoords=\"offset points\",\n",
    "        ha='center', va='bottom')\n",
    "    canvas = FigureCanvasTkAgg(f,master=r1)\n",
    "   # canvas.show()\n",
    "    canvas.get_tk_widget().pack(side = BOTTOM,fill = BOTH,expand = True)\n",
    "    #plt.show()\n",
    "    r1.mainloop()"
   ]
  },
  {
   "cell_type": "code",
   "execution_count": null,
   "metadata": {},
   "outputs": [],
   "source": [
    "def recallGraph():\n",
    "    r1 = tkinter.Tk()\n",
    "    r1.title(\"Recall Graph\")\n",
    "    r1.geometry(\"500x500\")\n",
    "    f = Figure(figsize=(10,10),dpi=100)\n",
    "    a = f.add_subplot(111)\n",
    "    height = [knn_recall,nb_recall,tree_recall,svm_recall,logistic_recall,ensemble_recall,optimize_recall]\n",
    "    bars = ('KNN Recall', 'NB Recall','DT Recall','SVM Recall','LR Recall','RT Recall','OptimizeEnsemble Recall')\n",
    "    y_pos = np.arange(len(bars))\n",
    "    pps = a.bar(bars, height)\n",
    "    #a.xticks(y_pos, bars)\n",
    "    for p in pps:\n",
    "        height = p.get_height()\n",
    "        a.annotate('{:.4f}'.format(height),\n",
    "        xy=(p.get_x() + p.get_width() / 2, height),\n",
    "        xytext=(0, 3), # 3 points vertical offset\n",
    "        textcoords=\"offset points\",\n",
    "        ha='center', va='bottom')\n",
    "    canvas = FigureCanvasTkAgg(f,master=r1)\n",
    "   # canvas.show()\n",
    "    canvas.get_tk_widget().pack(side = BOTTOM,fill = BOTH,expand = True)\n",
    "    #plt.show()\n",
    "    r1.mainloop()"
   ]
  },
  {
   "cell_type": "code",
   "execution_count": null,
   "metadata": {},
   "outputs": [],
   "source": [
    "def fscoreGraph():\n",
    "    r1 = tkinter.Tk()\n",
    "    r1.title(\"fscore Graph\")\n",
    "    r1.geometry(\"500x500\")\n",
    "    f = Figure(figsize=(10,10),dpi=100)\n",
    "    a = f.add_subplot(111)\n",
    "    height = [knn_fmeasure,nb_fmeasure,tree_fmeasure,svm_fmeasure,logistic_fmeasure,ensemble_fmeasure,optimize_fmeasure]\n",
    "    bars = ('KNN FScore', 'NB FScore','DT FScore','SVM FScore','LR FScore','RF FScore','Optimize Ensemble FScore')\n",
    "    y_pos = np.arange(len(bars))\n",
    "    pps = a.bar(bars, height)\n",
    "    #a.xticks(y_pos, bars)\n",
    "    for p in pps:\n",
    "        height = p.get_height()\n",
    "        a.annotate('{:.4f}'.format(height),\n",
    "        xy=(p.get_x() + p.get_width() / 2, height),\n",
    "        xytext=(0, 3), # 3 points vertical offset\n",
    "        textcoords=\"offset points\",\n",
    "        ha='center', va='bottom')\n",
    "    canvas = FigureCanvasTkAgg(f,master=r1)\n",
    "   # canvas.show()\n",
    "    canvas.get_tk_widget().pack(side = BOTTOM,fill = BOTH,expand = True)\n",
    "    #plt.show()\n",
    "    r1.mainloop()"
   ]
  },
  {
   "cell_type": "code",
   "execution_count": null,
   "metadata": {},
   "outputs": [],
   "source": [
    "def accuracyGraph():\n",
    "    r1 = tkinter.Tk()\n",
    "    r1.title(\"Accuracy Graph\")\n",
    "    r1.geometry(\"500x500\")\n",
    "    f = Figure(figsize=(10,10),dpi=100)\n",
    "    a = f.add_subplot(111)\n",
    "    height = [knn_acc,nb_acc,tree_acc,svm_acc,logistic_acc,ensemble_acc,optimize_acc]\n",
    "    bars = ('KNN ACC', 'NB ACC','DT ACC','SVM ACC','LR ACC','RF ACC','Optimize Ensemble ACC')\n",
    "    y_pos = np.arange(len(bars))\n",
    "    pps = a.bar(bars, height)\n",
    "    #a.xticks(y_pos, bars)\n",
    "    for p in pps:\n",
    "        height = p.get_height()\n",
    "        a.annotate('{:.4f}'.format(height),\n",
    "        xy=(p.get_x() + p.get_width() / 2, height),\n",
    "        xytext=(0, 3), # 3 points vertical offset\n",
    "        textcoords=\"offset points\",\n",
    "        ha='center', va='bottom')\n",
    "    canvas = FigureCanvasTkAgg(f,master=r1)\n",
    "   # canvas.show()\n",
    "    canvas.get_tk_widget().pack(side = BOTTOM,fill = BOTH,expand = True)\n",
    "    #plt.show()\n",
    "    r1.mainloop()"
   ]
  },
  {
   "cell_type": "code",
   "execution_count": null,
   "metadata": {},
   "outputs": [],
   "source": [
    "def causesGraph():\n",
    "    r1 = tkinter.Tk()\n",
    "    r1.title(\"Causes Graph\")\n",
    "    r1.geometry(\"500x500\")\n",
    "    f = Figure(figsize=(10,10),dpi=100)\n",
    "    ax1 = f.add_subplot(111)\n",
    "    labels = []\n",
    "    values = []\n",
    "    for i in range(0,12):\n",
    "        labels.append(causes[0][i])\n",
    "        values.append(causes[1][i])\n",
    "        print(causes[1][i])\n",
    "    #explode = (0, 0, 0, 0.1, 0 ,0, 0, 0, 0, 0, 0, 0)\n",
    "    explode = (0.1, 0.1, 0.1, 0.1, 0.1 ,0.1, 0.1, 0.1, 0.1, 0.1, 0.1, 0.1)\n",
    "    ax1.pie(values, explode=explode, labels=labels, autopct='%1.2f%%',shadow=False, startangle=155)\n",
    "    ax1.axis('equal')\n",
    "    canvas = FigureCanvasTkAgg(f,master=r1)\n",
    "   # canvas.show()\n",
    "    canvas.get_tk_widget().pack(side = BOTTOM,fill = BOTH,expand = True)\n",
    "    #plt.show()\n",
    "    r1.mainloop()    "
   ]
  },
  {
   "cell_type": "code",
   "execution_count": null,
   "metadata": {},
   "outputs": [],
   "source": [
    "#Dangerous objects extraction\n",
    "def extraction():\n",
    "    text.delete('1.0', END)\n",
    "    for ind in frame.index:\n",
    "        data = frame['Event Keywords'][ind]\n",
    "        blob = TextBlob(data)\n",
    "        text.insert(END,str(blob.noun_phrases)+\"\\n\")"
   ]
  },
  {
   "cell_type": "code",
   "execution_count": null,
   "metadata": {},
   "outputs": [],
   "source": [
    "#Tkinter window buttons\n",
    "font = ('times', 16, 'bold')\n",
    "title = Label(main, text='Analysis and Prediction of Occupational Accidents')\n",
    "title.config(bg='dark goldenrod', fg='white')  \n",
    "title.config(font=font)           \n",
    "title.config(height=2, width=120)       \n",
    "title.place(x=0,y=5)\n",
    "\n",
    "font1 = ('times', 10, 'bold')\n",
    "upload = Button(main, text=\"Upload OSHA Dataset\", command=upload)\n",
    "upload.place(x=700,y=100)\n",
    "upload.config(font=font1)  \n",
    "\n",
    "pathlabel = Label(main)\n",
    "pathlabel.config(bg='DarkOrange1', fg='white')  \n",
    "pathlabel.config(font=font1)           \n",
    "pathlabel.place(x=700,y=140)\n",
    "\n",
    "svmButton = Button(main, text=\"Run SVM Algorithm\", command=SVM)\n",
    "svmButton.place(x=700,y=180)\n",
    "svmButton.config(font=font1) \n",
    "\n",
    "knnButton = Button(main, text=\"Run KNN Algorithm\", command=KNN)\n",
    "knnButton.place(x=700,y=220)\n",
    "knnButton.config(font=font1) \n",
    "\n",
    "nbButton = Button(main, text=\"Run Naive Bayes Algorithm\", command=naivebayes)\n",
    "nbButton.place(x=700,y=260)\n",
    "nbButton.config(font=font1)\n",
    "\n",
    "treeButton = Button(main, text=\"Run Decision Tree Algorithm\", command=decisionTree)\n",
    "treeButton.place(x=700,y=300)\n",
    "treeButton.config(font=font1)\n",
    "\n",
    "lrButton = Button(main, text=\"Run Logistic Regression Algorithm\", command=logisticRegression)\n",
    "lrButton.place(x=700,y=340)\n",
    "lrButton.config(font=font1)\n",
    "\n",
    "\n",
    "ensembleButton = Button(main, text=\"Run Random Forest Algorithm\", command=ensemble)\n",
    "ensembleButton.place(x=700,y=380)\n",
    "ensembleButton.config(font=font1)\n",
    "\n",
    "cnnButton = Button(main, text=\"Run Optimized Ensemble Algorithm\", command=optimizedEnsemble)\n",
    "cnnButton.place(x=700,y=420)\n",
    "cnnButton.config(font=font1)\n",
    "\n",
    "\n",
    "graphButton = Button(main, text=\"Precision Graph\", command=precisionGraph)\n",
    "graphButton.place(x=700,y=460)\n",
    "graphButton.config(font=font1)\n",
    "\n",
    "recallButton = Button(main, text=\"Recall Graph\", command=recallGraph)\n",
    "recallButton.place(x=900,y=460)\n",
    "recallButton.config(font=font1)\n",
    "\n",
    "scoreButton = Button(main, text=\"Fscore Graph\", command=fscoreGraph)\n",
    "scoreButton.place(x=1060,y=460)\n",
    "scoreButton.config(font=font1)\n",
    "\n",
    "accButton = Button(main, text=\"Accuracy Graph\", command=accuracyGraph)\n",
    "accButton.place(x=700,y=500)\n",
    "accButton.config(font=font1)\n",
    "\n",
    "causesButton = Button(main, text=\"Causes Accidents Graph\", command=causesGraph)\n",
    "causesButton.place(x=900,y=500)\n",
    "causesButton.config(font=font1)\n",
    "\n",
    "predictButton = Button(main, text=\"Predict Accidents\", command=predict)\n",
    "predictButton.place(x=700,y=540)\n",
    "predictButton.config(font=font1)\n",
    "\n",
    "extractButton = Button(main, text=\"Chunker Dangerous Object Extraction\", command=extraction)\n",
    "extractButton.place(x=900,y=540)\n",
    "extractButton.config(font=font1)\n",
    "\n",
    "font1 = ('times', 12, 'bold')\n",
    "text=Text(main,height=30,width=80)\n",
    "scroll=Scrollbar(text)\n",
    "text.configure(yscrollcommand=scroll.set)\n",
    "text.place(x=10,y=100)\n",
    "text.config(font=font1)\n",
    "\n",
    "\n",
    "main.config(bg='turquoise')\n",
    "main.mainloop()"
   ]
  },
  {
   "cell_type": "code",
   "execution_count": null,
   "metadata": {},
   "outputs": [],
   "source": []
  },
  {
   "cell_type": "code",
   "execution_count": null,
   "metadata": {},
   "outputs": [],
   "source": []
  }
 ],
 "metadata": {
  "kernelspec": {
   "display_name": "Python 3",
   "language": "python",
   "name": "python3"
  },
  "language_info": {
   "codemirror_mode": {
    "name": "ipython",
    "version": 3
   },
   "file_extension": ".py",
   "mimetype": "text/x-python",
   "name": "python",
   "nbconvert_exporter": "python",
   "pygments_lexer": "ipython3",
   "version": "3.8.5"
  }
 },
 "nbformat": 4,
 "nbformat_minor": 4
}
